{
 "cells": [
  {
   "cell_type": "markdown",
   "metadata": {},
   "source": [
    "# Import packages"
   ]
  },
  {
   "cell_type": "code",
   "execution_count": null,
   "metadata": {
    "ExecuteTime": {
     "end_time": "2024-11-19T19:14:22.657933Z",
     "start_time": "2024-11-19T19:14:22.519536Z"
    }
   },
   "outputs": [],
   "source": [
    "import pandas as pd\n",
    "import matplotlib.pyplot as plt\n",
    "import seaborn as sns\n",
    "import re\n",
    "from sklearn.feature_extraction.text import TfidfVectorizer\n",
    "from sklearn.neighbors import NearestNeighbors\n",
    "import numpy as np"
   ]
  },
  {
   "cell_type": "markdown",
   "metadata": {},
   "source": [
    "# 1. Prepare and merge the datasets"
   ]
  },
  {
   "cell_type": "code",
   "execution_count": null,
   "metadata": {
    "ExecuteTime": {
     "end_time": "2024-11-19T19:14:31.468250Z",
     "start_time": "2024-11-19T19:14:22.659937Z"
    }
   },
   "outputs": [],
   "source": [
    "df_google_first = pd.read_csv('app_sdk/google_data_first.csv', encoding='ISO-8859-1')\n",
    "df_google_first = df_google_first.loc[:, ~df_google_first.columns.str.contains('^Unnamed')]"
   ]
  },
  {
   "cell_type": "code",
   "execution_count": null,
   "metadata": {
    "ExecuteTime": {
     "end_time": "2024-11-19T19:14:40.884608Z",
     "start_time": "2024-11-19T19:14:31.651463Z"
    }
   },
   "outputs": [],
   "source": [
    "df_google_last = pd.read_csv('app_sdk/google_data_last.csv', encoding='ISO-8859-1')\n",
    "df_google_last = df_google_last.loc[:, ~df_google_last.columns.str.contains('^Unnamed')]"
   ]
  },
  {
   "cell_type": "code",
   "execution_count": null,
   "metadata": {
    "ExecuteTime": {
     "end_time": "2024-11-19T19:14:41.286754Z",
     "start_time": "2024-11-19T19:14:40.892518Z"
    }
   },
   "outputs": [],
   "source": [
    "missing_rows = df_google_first[~df_google_first['my_app_id'].isin(df_google_last['my_app_id'])]\n",
    "\n",
    "df = pd.concat([df_google_last, missing_rows], ignore_index=True)"
   ]
  },
  {
   "cell_type": "markdown",
   "metadata": {},
   "source": [
    "# 2. Analyze dataframe"
   ]
  },
  {
   "cell_type": "code",
   "execution_count": null,
   "metadata": {
    "ExecuteTime": {
     "end_time": "2024-11-19T19:14:41.303371Z",
     "start_time": "2024-11-19T19:14:41.299896Z"
    }
   },
   "outputs": [],
   "source": [
    "def dataframe_summary(df):\n",
    "    print(f\"DataFrame contains {df.shape[0]} rows and {df.shape[1]} columns.\\n\")\n",
    "    df_info = pd.DataFrame({\n",
    "        'Data Type': df.dtypes,\n",
    "        'Non-null Count': df.count(),\n",
    "        'Null Count': df.isnull().sum(),\n",
    "        'Null Percentage (%)': (df.isnull().sum() / len(df)) * 100\n",
    "    })\n",
    "    print(df_info)\n",
    "\n",
    "# Run the function to get an enhanced summary of the DataFrame\n",
    "# dataframe_summary(df)"
   ]
  },
  {
   "cell_type": "markdown",
   "metadata": {},
   "source": [
    "# 2. Preprocess DataFrame"
   ]
  },
  {
   "cell_type": "code",
   "execution_count": null,
   "metadata": {
    "ExecuteTime": {
     "end_time": "2024-11-19T19:14:41.549573Z",
     "start_time": "2024-11-19T19:14:41.315522Z"
    }
   },
   "outputs": [],
   "source": [
    "# Use specific columns\n",
    "df = df[['my_app_id', 'num_downloads', 'rating_app', 'nb_rating', 'price_gplay', 'in_app', 'content_rating_app', 'categ_app', 'date_published', 'has_ads', 'family_library', 'developer_name', 'developer_info']]"
   ]
  },
  {
   "cell_type": "markdown",
   "metadata": {},
   "source": [
    "## 2.1 Classify Apps into \"Free\", \"Paid\", \"Freemium\""
   ]
  },
  {
   "cell_type": "code",
   "execution_count": null,
   "metadata": {
    "ExecuteTime": {
     "end_time": "2024-11-19T19:14:41.652236Z",
     "start_time": "2024-11-19T19:14:41.560349Z"
    }
   },
   "outputs": [],
   "source": [
    "# Drop rows where no numeric part is found (if desired)\n",
    "df = df.dropna(subset=['price_gplay'])"
   ]
  },
  {
   "cell_type": "code",
   "execution_count": null,
   "metadata": {
    "ExecuteTime": {
     "end_time": "2024-11-19T19:14:42.613053Z",
     "start_time": "2024-11-19T19:14:41.663377Z"
    }
   },
   "outputs": [],
   "source": [
    "# List of currency symbols and codes to match, including €\n",
    "currency_codes = [\"€\", \"£\", \"$\", \"USD\", \"CZK\", \"EUR\", \"RUB\", \"AUD\", \"GBP\", \"JPY\", \"CAD\", \"KRW\", \"INR\", \"AED\", \n",
    "                  \"DKK\", \"SAR\", \"PLN\", \"UAH\", \"SEK\", \"IDR\", \"TRY\", \"TWD\", \"ILS\", \"HKD\", \"BGN\", \"MXN\", \"MYR\", \n",
    "                  \"BRL\", \"CLP\", \"CHF\", \"\"]\n",
    "\n",
    "# Create a regex pattern to match the symbols and codes\n",
    "currency_pattern = r'|'.join(map(re.escape, currency_codes))\n",
    "\n",
    "df_filtered = df.copy()\n",
    "\n",
    "# Remove currency symbols and codes\n",
    "df_filtered['price_value'] = df_filtered['price_gplay'].apply(lambda x: re.sub(currency_pattern, '', x).strip() if isinstance(x, str) else None)\n",
    "\n",
    "df_filtered['price_value'] = df_filtered['price_value'].str.replace(',', '.')\n",
    "\n",
    "# remove initial-scale=1. minimum-scale \" hre\n",
    "df_filtered['price_value'] = df_filtered['price_value'].str.replace('initial-scale=1. minimum-scale \" hre', '')\n",
    "\n",
    "# remove empty strings\n",
    "df_filtered = df_filtered[df_filtered['price_value'] != '']\n",
    "\n",
    "# convert to float\n",
    "df_filtered['price_value'] = df_filtered['price_value'].astype(float)"
   ]
  },
  {
   "cell_type": "code",
   "execution_count": null,
   "metadata": {
    "ExecuteTime": {
     "end_time": "2024-11-19T19:14:42.632615Z",
     "start_time": "2024-11-19T19:14:42.630233Z"
    }
   },
   "outputs": [],
   "source": [
    "# # Categorize apps based on 'price_value'\n",
    "# df_filtered['price_category'] = df_filtered['price_value'].apply(lambda x: \"free\" if x == 0 else \"paid\")\n",
    "\n",
    "# # Identify freemium apps where in_app == 1 and price_category == \"free\"\n",
    "# df_filtered['price_category'] = df_filtered.apply(lambda row: \"freemium\" if row['price_category'] == \"free\" and row['in_app'] == 1 else row['price_category'], axis=1)\n",
    "\n",
    "# Separate paid, free, and freemium apps\n",
    "# paid_apps = df_filtered[df_filtered['price_category'] == \"paid\"]\n",
    "# free_apps = df_filtered[df_filtered['price_category'] == \"free\"]\n",
    "# freemium_apps = df_filtered[df_filtered['price_category'] == \"freemium\"]"
   ]
  },
  {
   "cell_type": "code",
   "execution_count": null,
   "metadata": {
    "ExecuteTime": {
     "end_time": "2024-11-19T19:14:42.650465Z",
     "start_time": "2024-11-19T19:14:42.643970Z"
    }
   },
   "outputs": [],
   "source": [
    "# convert in_app and has_ads to boolean\n",
    "df_filtered['in_app'] = df_filtered['in_app'].astype(bool)\n",
    "df_filtered['has_ads'] = df_filtered['has_ads'].astype(bool)"
   ]
  },
  {
   "cell_type": "code",
   "execution_count": null,
   "metadata": {
    "ExecuteTime": {
     "end_time": "2024-11-19T19:14:42.743776Z",
     "start_time": "2024-11-19T19:14:42.661750Z"
    }
   },
   "outputs": [],
   "source": [
    "# level 0 - Free\n",
    "df_level0 = df_filtered[\n",
    "    (df_filtered['price_value'] == 0) &\n",
    "    (df_filtered['in_app'] == 0) &\n",
    "    (df_filtered['has_ads'] == 0)\n",
    "]\n",
    "\n",
    "# level 1 - In-app advertising\n",
    "df_level1 = df_filtered[\n",
    "    (df_filtered['price_value'] == 0) &\n",
    "    (df_filtered['in_app'] == 0) &\n",
    "    (df_filtered['has_ads'] == 1)\n",
    "]\n",
    "\n",
    "# level 2 - Sample & premium (HARD).\n",
    "# For example Nova Launcher and Nova Launcher Prime.\n",
    "\n",
    "# level 3 - Freemium\n",
    "df_level3 = df_filtered[\n",
    "    (df_filtered['price_value'] == 0) &\n",
    "    (df_filtered['in_app'] == 1) &\n",
    "    (df_filtered['has_ads'] == 1)\n",
    "]\n",
    "\n",
    "# level 4 - Semi-premium\n",
    "df_level4 = df_filtered[\n",
    "    (df_filtered['price_value'] > 0) &\n",
    "    (df_filtered['in_app'] == 1) &\n",
    "    (df_filtered['has_ads'] == 0)\n",
    "]\n",
    "\n",
    "# level 5 - Premium\n",
    "df_level5 = df_filtered[\n",
    "    (df_filtered['price_value'] > 0) &\n",
    "    (df_filtered['in_app'] == 0) &\n",
    "    (df_filtered['has_ads'] == 0)\n",
    "]\n",
    "\n",
    "\n",
    "# Questions/remarks\n",
    "# Is level 4 without ads?\n",
    "# You need to identify two apps: 1 is free with ads, and the other is paid with no in-app purchases and ads.\n"
   ]
  },
  {
   "cell_type": "code",
   "execution_count": null,
   "metadata": {
    "ExecuteTime": {
     "end_time": "2024-11-19T19:14:42.855996Z",
     "start_time": "2024-11-19T19:14:42.762439Z"
    }
   },
   "outputs": [],
   "source": [
    "df_free_with_possible_ads = df_filtered[\n",
    "    (df_filtered['price_value'] == 0) &\n",
    "    (df_filtered['in_app'] == 0) &\n",
    "    (df_filtered['has_ads'].isin([1, 0]))\n",
    "]\n",
    "\n",
    "df_premium = df_filtered[\n",
    "    (df_filtered['price_value'] > 0) &\n",
    "    (df_filtered['in_app'].isin([1, 0])) &\n",
    "    (df_filtered['has_ads'] == 0)\n",
    "]"
   ]
  },
  {
   "cell_type": "code",
   "execution_count": null,
   "metadata": {
    "ExecuteTime": {
     "end_time": "2024-11-19T19:14:43.028252Z",
     "start_time": "2024-11-19T19:14:42.875340Z"
    }
   },
   "outputs": [],
   "source": [
    "# Find common developer names\n",
    "common_developers = pd.merge(\n",
    "    df_free_with_possible_ads[['developer_name']],\n",
    "    df_premium[['developer_name']],\n",
    "    on='developer_name',\n",
    "    how='inner'\n",
    ")['developer_name'].unique()\n",
    "\n",
    "# Filter both DataFrames to keep only rows with common developers\n",
    "df_free_with_possible_ads_filtered = df_free_with_possible_ads[\n",
    "    df_free_with_possible_ads['developer_name'].isin(common_developers)\n",
    "]\n",
    "\n",
    "df_premium_filtered = df_premium[\n",
    "    df_premium['developer_name'].isin(common_developers)\n",
    "]\n"
   ]
  },
  {
   "cell_type": "code",
   "execution_count": null,
   "metadata": {
    "ExecuteTime": {
     "end_time": "2024-11-19T19:15:44.828656Z",
     "start_time": "2024-11-19T19:14:43.050598Z"
    }
   },
   "outputs": [],
   "source": [
    "# Sample lists\n",
    "list1 = df_premium_filtered['my_app_id'].tolist()\n",
    "list2 = df_free_with_possible_ads_filtered['my_app_id'].tolist()\n",
    "\n",
    "# Function to find similar words with at least 75% similarity\n",
    "def find_similar_words(list1, list2, threshold=75):\n",
    "    # Combine both lists for TF-IDF feature extraction\n",
    "    combined_list = list1 + list2\n",
    "\n",
    "    # Use TF-IDF Vectorizer to transform the text into feature vectors\n",
    "    vectorizer = TfidfVectorizer(analyzer='char', ngram_range=(2, 4))  # You can change ngram_range for more efficiency\n",
    "    tfidf_matrix = vectorizer.fit_transform(combined_list)\n",
    "\n",
    "    # Separate the TF-IDF vectors for both lists\n",
    "    tfidf_list1 = tfidf_matrix[:len(list1)]\n",
    "    tfidf_list2 = tfidf_matrix[len(list1):]\n",
    "\n",
    "    # Use NearestNeighbors for finding approximate matches\n",
    "    # Set the number of neighbors to a minimum of 10 or the size of list2 to limit comparisons\n",
    "    n_neighbors = min(10, len(list2))\n",
    "    nn = NearestNeighbors(n_neighbors=n_neighbors, metric='cosine', algorithm='brute', n_jobs=-1)\n",
    "    nn.fit(tfidf_list2)\n",
    "\n",
    "    similar_pairs = []\n",
    "    distances, indices = nn.kneighbors(tfidf_list1)\n",
    "\n",
    "    # Iterate through the results to find pairs with similarity above the threshold\n",
    "    for i, (dists, idxs) in enumerate(zip(distances, indices)):\n",
    "        for dist, idx in zip(dists, idxs):\n",
    "            similarity = (1 - dist) * 100\n",
    "            if similarity >= threshold:\n",
    "                similar_pairs.append((list1[i], list2[idx], similarity))\n",
    "\n",
    "    # Create a DataFrame from the similar pairs\n",
    "    df = pd.DataFrame(similar_pairs, columns=['Word from List 1', 'Word from List 2', 'Similarity (%)'])\n",
    "    return df\n",
    "\n",
    "# Run the function on the slices\n",
    "similarities_df = find_similar_words(list1, list2)\n"
   ]
  },
  {
   "cell_type": "code",
   "execution_count": null,
   "metadata": {
    "ExecuteTime": {
     "end_time": "2024-11-19T19:15:45.024952Z",
     "start_time": "2024-11-19T19:15:44.880902Z"
    }
   },
   "outputs": [],
   "source": [
    "def get_simple_string_difference(str1, str2):\n",
    "    diff = []\n",
    "    for i, (ch1, ch2) in enumerate(zip(str1, str2)):\n",
    "        if ch1 != ch2:\n",
    "            diff.append(f\"({ch1}->{ch2})\")\n",
    "        else:\n",
    "            diff.append(ch1)\n",
    "    # Add remaining characters if strings are of unequal length\n",
    "    if len(str1) > len(str2):\n",
    "        diff.append(f\"(-{str1[len(str2):]})\")\n",
    "    elif len(str2) > len(str1):\n",
    "        diff.append(f\"(+{str2[len(str1):]})\")\n",
    "    return ''.join(diff)\n",
    "\n",
    "similarities_df['Difference Score'] = similarities_df.apply(lambda row: get_simple_string_difference(row['Word from List 1'].lower(), row['Word from List 2'].lower()), axis=1)"
   ]
  },
  {
   "cell_type": "code",
   "execution_count": null,
   "metadata": {
    "ExecuteTime": {
     "end_time": "2024-11-19T19:15:45.094618Z",
     "start_time": "2024-11-19T19:15:45.026955Z"
    }
   },
   "outputs": [],
   "source": [
    "similarities_df['First_Word_Column1'] = similarities_df['Word from List 1'].str.split('.').str[0]\n",
    "similarities_df['First_Word_Column2'] = similarities_df['Word from List 2'].str.split('.').str[0]"
   ]
  },
  {
   "cell_type": "code",
   "execution_count": null,
   "metadata": {
    "ExecuteTime": {
     "end_time": "2024-11-19T19:15:45.124505Z",
     "start_time": "2024-11-19T19:15:45.118924Z"
    }
   },
   "outputs": [],
   "source": [
    "similarities_df['Comparison_Result'] = similarities_df['First_Word_Column1'] == similarities_df['First_Word_Column2']"
   ]
  },
  {
   "cell_type": "code",
   "execution_count": null,
   "metadata": {
    "ExecuteTime": {
     "end_time": "2024-11-19T19:15:45.153590Z",
     "start_time": "2024-11-19T19:15:45.147Z"
    }
   },
   "outputs": [],
   "source": [
    "similarities_df = similarities_df[similarities_df['Comparison_Result'] == True]"
   ]
  },
  {
   "cell_type": "code",
   "execution_count": null,
   "metadata": {},
   "outputs": [],
   "source": [
    "similarities_df"
   ]
  },
  {
   "cell_type": "code",
   "execution_count": null,
   "metadata": {
    "ExecuteTime": {
     "end_time": "2024-11-19T19:15:45.180558Z",
     "start_time": "2024-11-19T19:15:45.176877Z"
    }
   },
   "outputs": [],
   "source": [
    "total_words = similarities_df['Word from List 1'].to_list() + similarities_df['Word from List 2'].to_list()"
   ]
  },
  {
   "cell_type": "code",
   "execution_count": null,
   "metadata": {
    "ExecuteTime": {
     "end_time": "2024-11-19T19:15:45.277652Z",
     "start_time": "2024-11-19T19:15:45.257774Z"
    }
   },
   "outputs": [],
   "source": [
    "df_premium_filtered = df_premium_filtered.reset_index(drop=True)\n",
    "df_free_with_possible_ads_filtered = df_free_with_possible_ads_filtered.reset_index(drop=True)\n",
    "df_total = pd.concat([df_premium_filtered, df_free_with_possible_ads_filtered])"
   ]
  },
  {
   "cell_type": "code",
   "execution_count": null,
   "metadata": {
    "ExecuteTime": {
     "end_time": "2024-11-19T19:15:45.342677Z",
     "start_time": "2024-11-19T19:15:45.302149Z"
    }
   },
   "outputs": [],
   "source": [
    "df_total = df_total.reset_index(drop=True)\n",
    "df_total_filtered = df_total[df_total['my_app_id'].isin(set(total_words))]"
   ]
  },
  {
   "cell_type": "code",
   "execution_count": null,
   "metadata": {
    "ExecuteTime": {
     "end_time": "2024-11-19T19:15:45.371931Z",
     "start_time": "2024-11-19T19:15:45.368927Z"
    }
   },
   "outputs": [],
   "source": [
    "df_level2 = df_total_filtered"
   ]
  },
  {
   "cell_type": "code",
   "execution_count": null,
   "metadata": {
    "ExecuteTime": {
     "end_time": "2024-11-19T19:15:45.402587Z",
     "start_time": "2024-11-19T19:15:45.399575Z"
    }
   },
   "outputs": [],
   "source": [
    "# print the length of each level\n",
    "print(f\"Level 0: {len(df_level0)}\")\n",
    "print(f\"Level 1: {len(df_level1)}\")\n",
    "print(f\"Level 2: {len(df_level2)}\")\n",
    "print(f\"Level 3: {len(df_level3)}\")\n",
    "print(f\"Level 4: {len(df_level4)}\")\n",
    "print(f\"Level 5: {len(df_level5)}\")"
   ]
  },
  {
   "cell_type": "markdown",
   "metadata": {},
   "source": [
    "## 2.2 Number of Downloads"
   ]
  },
  {
   "cell_type": "code",
   "execution_count": null,
   "metadata": {},
   "outputs": [],
   "source": [
    "# Function to clean and convert to numbers\n",
    "def convert_to_numeric(value):\n",
    "    if pd.isna(value):\n",
    "        return np.nan\n",
    "    else:\n",
    "        # Remove ',' and '+' and '>' and strip any whitespace\n",
    "        cleaned_value = value.replace(',', '').replace('+', '').replace('>', '').strip()\n",
    "        return int(cleaned_value)\n",
    "\n",
    "# Apply the function to the DataFrame column\n",
    "df_filtered['num_downloads'] = df_filtered['num_downloads'].apply(convert_to_numeric)"
   ]
  },
  {
   "cell_type": "markdown",
   "metadata": {},
   "source": [
    "## 2.3 Ratings"
   ]
  },
  {
   "cell_type": "code",
   "execution_count": null,
   "metadata": {},
   "outputs": [],
   "source": [
    "df_filtered = df_filtered.dropna()"
   ]
  },
  {
   "cell_type": "code",
   "execution_count": null,
   "metadata": {},
   "outputs": [],
   "source": [
    "# convert 76,545 to 76545\n",
    "df_filtered['nb_rating'] = df_filtered['nb_rating'].str.replace(',', '')\n",
    "\n",
    "df_filtered['nb_rating'] = pd.to_numeric(df_filtered['nb_rating'])\n",
    "df_filtered['rating_app'] = pd.to_numeric(df_filtered['rating_app'])\n",
    "\n",
    "# Calculate the global average rating across all apps\n",
    "global_mean_rating = df_filtered['rating_app'].mean()\n",
    "\n",
    "# Define a prior weight (m)\n",
    "# This is the number of ratings at which the average rating is considered reliable.\n",
    "# Adjust based on your data; higher values give more weight to the global mean.\n",
    "m = 50\n",
    "\n",
    "# Calculate Bayesian average for each app\n",
    "df_filtered['bayesian_average'] = (global_mean_rating * m + df_filtered['rating_app'] * df_filtered['nb_rating']) / (m + df_filtered['nb_rating'])\n"
   ]
  },
  {
   "cell_type": "markdown",
   "metadata": {},
   "source": [
    "## 2.4 Content Rating"
   ]
  },
  {
   "cell_type": "code",
   "execution_count": null,
   "metadata": {},
   "outputs": [],
   "source": [
    "# Applying the regex matching approach to the 'content_rating_app' column in df_content\n",
    "df_filtered[\"content_rating_app\"] = [\n",
    "    match.group() if (match := re.match(r'PEGI (3|7|12|16|18)', item)) else item \n",
    "    for item in df_filtered[\"content_rating_app\"]\n",
    "]\n",
    "\n",
    "# if content_rating_app contains 'not yet been rated', set to 'not yet been rated'\n",
    "# Ensure the column is of type 'object' (which can store both strings and integers)\n",
    "df_filtered['content_rating_app'] = df_filtered['content_rating_app'].astype('object')\n",
    "\n",
    "# Now you can safely assign the string value\n",
    "df_filtered.loc[df_filtered['content_rating_app'].str.contains('not yet been rated'), 'content_rating_app'] = 'not yet been rated'"
   ]
  },
  {
   "cell_type": "markdown",
   "metadata": {},
   "source": [
    "## 2.5 Dates"
   ]
  },
  {
   "cell_type": "code",
   "execution_count": null,
   "metadata": {},
   "outputs": [],
   "source": [
    "df_filtered['date_published'] = pd.to_datetime(df_filtered['date_published'], errors='coerce')"
   ]
  },
  {
   "cell_type": "markdown",
   "metadata": {},
   "source": [
    "# 3. Graphs"
   ]
  },
  {
   "cell_type": "markdown",
   "metadata": {},
   "source": [
    "## 3.1 Main observations"
   ]
  },
  {
   "cell_type": "markdown",
   "metadata": {},
   "source": [
    "### 3.1.1 Date Published"
   ]
  },
  {
   "cell_type": "code",
   "execution_count": null,
   "metadata": {},
   "outputs": [],
   "source": [
    "# histogram when apps are published\n",
    "df_filtered['date_published'].hist(bins=20, figsize=(10, 6))\n",
    "plt.xlabel('Date Published')\n",
    "plt.ylabel('Frequency')\n",
    "plt.title('Distribution of Date Published')\n",
    "plt.xticks(rotation=45)  # Rotate x-axis labels for better readability\n",
    "plt.show()"
   ]
  },
  {
   "cell_type": "markdown",
   "metadata": {},
   "source": [
    "### 3.1.2 Rating"
   ]
  },
  {
   "cell_type": "markdown",
   "metadata": {},
   "source": [
    "#### 3.1.2.1 Distribution of Ratings"
   ]
  },
  {
   "cell_type": "code",
   "execution_count": null,
   "metadata": {},
   "outputs": [],
   "source": [
    "# Plot histogram\n",
    "df_filtered['rating_app'].hist(bins=20, figsize=(10, 6))\n",
    "plt.xlabel('App Rating')\n",
    "plt.ylabel('Frequency')\n",
    "plt.title('Distribution of App Rating')\n",
    "plt.xticks(rotation=45)  # Rotate x-axis labels for better readability\n",
    "plt.show()"
   ]
  },
  {
   "cell_type": "markdown",
   "metadata": {},
   "source": [
    "#### 3.1.2.2 Distribution of Bayesian Ratings"
   ]
  },
  {
   "cell_type": "code",
   "execution_count": null,
   "metadata": {},
   "outputs": [],
   "source": [
    "# Plot histogram\n",
    "df_filtered['bayesian_average'].hist(bins=20, figsize=(10, 6))\n",
    "plt.xlabel('Bayesian average App Rating')\n",
    "plt.ylabel('Frequency')\n",
    "plt.title('Distribution of Bayesian average App Rating')\n",
    "plt.xticks(rotation=45)  # Rotate x-axis labels for better readability\n",
    "plt.show()"
   ]
  },
  {
   "cell_type": "markdown",
   "metadata": {},
   "source": [
    "### 3.1.3 Number of downloads"
   ]
  },
  {
   "cell_type": "code",
   "execution_count": null,
   "metadata": {},
   "outputs": [],
   "source": [
    "# Define the bins for categorization\n",
    "bins = [0, 100, 1000, 10000, 100000, 1000000, 10000000, 100000000, 1000000000, np.inf]\n",
    "labels = ['0-100', '101-1k', '1k-10k', '10k-100k', '100k-1M', '1M-10M', '10M-100M', '100M-1B', '1B+']\n",
    "\n",
    "# Categorize num_downloads into these bins\n",
    "df_filtered['downloads_category'] = pd.cut(df_filtered['num_downloads'], bins=bins, labels=labels)\n",
    "\n",
    "# Plot the distribution of num_downloads categories\n",
    "plt.figure(figsize=(12, 6))\n",
    "df_filtered['downloads_category'].value_counts(sort=False).plot(kind='bar', edgecolor='black')\n",
    "plt.xlabel('Number of Downloads (Categories)')\n",
    "plt.ylabel('Frequency')\n",
    "plt.title('Distribution of Number of Downloads by Categories')\n",
    "plt.xticks(rotation=45)\n",
    "plt.show()"
   ]
  },
  {
   "cell_type": "markdown",
   "metadata": {},
   "source": [
    "### 3.1.4 WARNING: Prices (this is not adjusted to currencies)"
   ]
  },
  {
   "cell_type": "code",
   "execution_count": null,
   "metadata": {},
   "outputs": [],
   "source": [
    "plt.figure(figsize=(12, 8))\n",
    "plt.hist(df_filtered['price_value'], bins=50, edgecolor=\"black\", color=\"skyblue\", range=(-1, max(df_filtered['price_value']) + 1))\n",
    "plt.yscale(\"log\")  # Log scale to better visualize frequencies\n",
    "\n",
    "# Adding labels and title\n",
    "plt.title(\"Distribution of Prices on Google Play\")\n",
    "plt.xlabel(\"Price\")\n",
    "plt.ylabel(\"Log Frequency\")\n",
    "\n",
    "plt.xticks(rotation=45)\n",
    "plt.grid(axis='y', linestyle='--', alpha=0.7)\n",
    "plt.show()"
   ]
  },
  {
   "cell_type": "markdown",
   "metadata": {},
   "source": [
    "### 3.1.5 Content Ratings"
   ]
  },
  {
   "cell_type": "code",
   "execution_count": null,
   "metadata": {},
   "outputs": [],
   "source": [
    "plt.figure(figsize=(8, 8))\n",
    "content_rating_counts = df_filtered[\"content_rating_app\"].value_counts(normalize=True) * 100  # percentage\n",
    "content_rating_counts.plot(kind='pie', autopct='%1.1f%%', startangle=140)\n",
    "plt.title(\"Proportion of Different Content Ratings\")\n",
    "plt.ylabel(\"\")  # Hide y-axis label for cleaner look\n",
    "plt.show()"
   ]
  },
  {
   "cell_type": "markdown",
   "metadata": {},
   "source": [
    "### 3.1.6 Category of apps"
   ]
  },
  {
   "cell_type": "code",
   "execution_count": null,
   "metadata": {},
   "outputs": [],
   "source": [
    "category_counts = df_filtered['categ_app'].value_counts()\n",
    "\n",
    "plt.figure(figsize=(8, 8))\n",
    "\n",
    "category_counts.plot(kind='pie', autopct='%1.1f%%', startangle=140, wedgeprops={'edgecolor': 'black'})\n",
    "\n",
    "plt.title(\"Distribution of App Categories\")\n",
    "\n",
    "plt.ylabel(\"\")  # Hide y-axis label for cleaner look\n",
    "\n",
    "plt.show()"
   ]
  },
  {
   "cell_type": "markdown",
   "metadata": {},
   "source": [
    "### 3.1.7 Apps with in-app purchases and ads"
   ]
  },
  {
   "cell_type": "code",
   "execution_count": null,
   "metadata": {},
   "outputs": [],
   "source": [
    "in_app_percentage = df_filtered[\"in_app\"].value_counts(normalize=True) * 100\n",
    "has_ads_percentage = df_filtered[\"has_ads\"].value_counts(normalize=True) * 100\n",
    "\n",
    "# Creating a DataFrame for plotting\n",
    "percentage_data = pd.DataFrame({\n",
    "    \"Feature\": [\"In-app Purchases\", \"No In-app Purchases\", \"Has Ads\", \"No Ads\"],\n",
    "    \"Percentage\": [in_app_percentage[True], in_app_percentage[False], has_ads_percentage[True], has_ads_percentage[False]]\n",
    "})\n",
    "\n",
    "\n",
    "\n",
    "# Plotting the bar plot for percentages of apps with in-app purchases and ads\n",
    "plt.figure(figsize=(10, 6))\n",
    "plt.bar(percentage_data[\"Feature\"], percentage_data[\"Percentage\"], color=['skyblue', 'lightgreen', 'coral', 'gold'], edgecolor='black')\n",
    "plt.title(\"Percentage of Apps with In-app Purchases and Ads\")\n",
    "plt.xlabel(\"Feature\")\n",
    "plt.ylabel(\"Percentage (%)\")\n",
    "plt.xticks(rotation=45)\n",
    "plt.grid(axis='y', linestyle='--', alpha=0.7)\n",
    "plt.show()"
   ]
  },
  {
   "cell_type": "markdown",
   "metadata": {},
   "source": [
    "### 3.1.8 Family Library Support"
   ]
  },
  {
   "cell_type": "code",
   "execution_count": null,
   "metadata": {},
   "outputs": [],
   "source": [
    "family_library_counts = df_filtered[\"family_library\"].value_counts()\n",
    "\n",
    "# Plotting the count of apps supporting or not supporting the family library feature\n",
    "plt.figure(figsize=(8, 6))\n",
    "family_library_counts.plot(kind='bar', color=['skyblue', 'coral'], edgecolor='black')\n",
    "plt.title(\"Count of Apps Supporting Family Library Feature\")\n",
    "plt.xlabel(\"Family Library Support\")\n",
    "plt.ylabel(\"Number of Apps\")\n",
    "plt.xticks([0, 1], labels=[\"Does Not Support\", \"Supports\"], rotation=0)\n",
    "plt.grid(axis='y', linestyle='--', alpha=0.7)\n",
    "plt.show()"
   ]
  },
  {
   "cell_type": "markdown",
   "metadata": {},
   "source": [
    "### 3.1.9 Average app rating per category"
   ]
  },
  {
   "cell_type": "code",
   "execution_count": null,
   "metadata": {},
   "outputs": [],
   "source": [
    "# Splitting categories into two parts for better readability\n",
    "unique_categories = df_filtered[\"categ_app\"].unique()\n",
    "midpoint = len(unique_categories) // 2\n",
    "categories_part1 = unique_categories[:midpoint]\n",
    "categories_part2 = unique_categories[midpoint:]\n",
    "\n",
    "# Filtering data for each part\n",
    "df_category_part1 = df_filtered[df_filtered[\"categ_app\"].isin(categories_part1)]\n",
    "df_category_part2 = df_filtered[df_filtered[\"categ_app\"].isin(categories_part2)]\n",
    "\n",
    "# Plotting box plot for average app ratings by category (Part 1)\n",
    "plt.figure(figsize=(12, 6))\n",
    "df_category_part1.boxplot(column=\"rating_app\", by=\"categ_app\", grid=False, vert=False)\n",
    "plt.title(\"Average App Ratings by Category (Part 1)\")\n",
    "plt.suptitle(\"\")  # Remove default title to keep it clean\n",
    "plt.xlabel(\"Average Rating\")\n",
    "plt.ylabel(\"App Category\")\n",
    "plt.show()\n",
    "\n",
    "# Plotting box plot for average app ratings by category (Part 2)\n",
    "plt.figure(figsize=(12, 6))\n",
    "df_category_part2.boxplot(column=\"rating_app\", by=\"categ_app\", grid=False, vert=False)\n",
    "plt.title(\"Average App Ratings by Category (Part 2)\")\n",
    "plt.suptitle(\"\")  # Remove default title to keep it clean\n",
    "plt.xlabel(\"Average Rating\")\n",
    "plt.ylabel(\"App Category\")\n",
    "plt.show()\n"
   ]
  },
  {
   "cell_type": "markdown",
   "metadata": {},
   "source": [
    "## 3.2 Topic 2: Freemium vs Paid-For Apps observations"
   ]
  },
  {
   "cell_type": "markdown",
   "metadata": {},
   "source": [
    "### 3.2.1 Subway Surfers"
   ]
  },
  {
   "cell_type": "code",
   "execution_count": null,
   "metadata": {},
   "outputs": [],
   "source": [
    "df_filtered[df_filtered['my_app_id'] == 'com.kiloo.subwaysurf']\n"
   ]
  },
  {
   "cell_type": "markdown",
   "metadata": {},
   "source": [
    "### 3.2.2 Downloads per price category"
   ]
  },
  {
   "cell_type": "markdown",
   "metadata": {},
   "source": [
    "#### 3.2.2.1 Total downloads"
   ]
  },
  {
   "cell_type": "code",
   "execution_count": null,
   "metadata": {},
   "outputs": [],
   "source": [
    "# Calculate the total number of downloads for each price category\n",
    "total_downloads = df_filtered.groupby('price_category')['num_downloads'].sum().reset_index()\n",
    "\n",
    "# Set up a color palette for price categories\n",
    "palette = {\"free\": \"blue\", \"paid\": \"green\", \"freemium\": \"orange\"}\n",
    "\n",
    "# Plot the total number of downloads by price category with the updated parameters\n",
    "plt.figure(figsize=(10, 6))\n",
    "sns.barplot(data=total_downloads, x='price_category', y='num_downloads', hue='price_category', palette=palette, dodge=False)\n",
    "plt.legend([], [], frameon=False)  # Remove the legend\n",
    "\n",
    "# Add labels and a title\n",
    "plt.title(\"Total Number of Downloads by Price Category\")\n",
    "plt.xlabel(\"Price Category\")\n",
    "plt.ylabel(\"Total Number of Downloads\")\n",
    "plt.show()\n"
   ]
  },
  {
   "cell_type": "markdown",
   "metadata": {},
   "source": [
    "#### 3.2.2.1 Average downloads"
   ]
  },
  {
   "cell_type": "code",
   "execution_count": null,
   "metadata": {},
   "outputs": [],
   "source": [
    "# Calculate the mean number of downloads for each price category\n",
    "mean_freemium = df_filtered[df_filtered['price_category'] == 'freemium']['num_downloads'].mean()\n",
    "mean_free = df_filtered[df_filtered['price_category'] == 'free']['num_downloads'].mean()\n",
    "mean_paid = df_filtered[df_filtered['price_category'] == 'paid']['num_downloads'].mean()\n"
   ]
  },
  {
   "cell_type": "code",
   "execution_count": null,
   "metadata": {},
   "outputs": [],
   "source": [
    "# Create a dictionary for the means\n",
    "means = {\n",
    "    'Free': mean_free,\n",
    "    'Freemium': mean_freemium,\n",
    "    'Paid': mean_paid,\n",
    "}\n",
    "\n",
    "# Convert to a pandas DataFrame for easier plotting\n",
    "mean_df = pd.DataFrame(list(means.items()), columns=['Price Category', 'Average Downloads'])\n"
   ]
  },
  {
   "cell_type": "code",
   "execution_count": null,
   "metadata": {},
   "outputs": [],
   "source": [
    "# Set up a color palette for price categories\n",
    "palette = {\"Free\": \"blue\", \"Paid\": \"green\", \"Freemium\": \"orange\"}\n",
    "\n",
    "# Set up the plot\n",
    "plt.figure(figsize=(8, 6))\n",
    "\n",
    "# Create the bar plot with the updated parameters\n",
    "sns.barplot(x='Price Category', y='Average Downloads', data=mean_df, hue='Price Category', palette=palette, dodge=False)\n",
    "plt.legend([], [], frameon=False)  # Removes the legend\n",
    "\n",
    "# Add labels and a title\n",
    "plt.title('Average Number of Downloads by Price Category', fontsize=16)\n",
    "plt.xlabel('Price Category', fontsize=12)\n",
    "plt.ylabel('Average Number of Downloads', fontsize=12)\n",
    "\n",
    "# Show the plot\n",
    "plt.tight_layout()\n",
    "plt.show()"
   ]
  },
  {
   "cell_type": "markdown",
   "metadata": {},
   "source": [
    "### 3.2.3 Rating by Price Category"
   ]
  },
  {
   "cell_type": "code",
   "execution_count": null,
   "metadata": {},
   "outputs": [],
   "source": [
    "# Set up a color palette for price categories\n",
    "palette = {\"free\": \"blue\", \"paid\": \"green\", \"freemium\": \"orange\"}"
   ]
  },
  {
   "cell_type": "markdown",
   "metadata": {},
   "source": [
    "#### 3.2.3.1 Average Rating"
   ]
  },
  {
   "cell_type": "code",
   "execution_count": null,
   "metadata": {},
   "outputs": [],
   "source": [
    "# Average Rating by Price Category\n",
    "plt.figure(figsize=(10, 6))\n",
    "sns.boxplot(data=df_filtered, x='price_category', y='rating_app', hue='price_category', palette=palette, legend=False)\n",
    "plt.title(\"Average Rating by Price Category\")\n",
    "plt.xlabel(\"Price Category\")\n",
    "plt.ylabel(\"App Rating\")\n",
    "plt.show()\n"
   ]
  },
  {
   "cell_type": "markdown",
   "metadata": {},
   "source": [
    "#### 3.2.3.2 Average Bayesian Rating"
   ]
  },
  {
   "cell_type": "code",
   "execution_count": null,
   "metadata": {},
   "outputs": [],
   "source": [
    "# Bayesian Average by Price Category\n",
    "plt.figure(figsize=(10, 6))\n",
    "sns.boxplot(data=df_filtered, x='price_category', y='bayesian_average', hue='price_category', palette=palette, legend=False)\n",
    "plt.title(\"Bayesian Average by Price Category\")\n",
    "plt.xlabel(\"Price Category\")\n",
    "plt.ylabel(\"Bayesian Average\")\n",
    "plt.show()\n"
   ]
  },
  {
   "cell_type": "markdown",
   "metadata": {},
   "source": [
    "#### 3.2.3.3 Average Number of Ratings"
   ]
  },
  {
   "cell_type": "code",
   "execution_count": null,
   "metadata": {},
   "outputs": [],
   "source": [
    "# Number of Ratings by Price Category\n",
    "plt.figure(figsize=(10, 6))\n",
    "sns.barplot(data=df_filtered, x='price_category', y='nb_rating', hue='price_category', palette=palette, errorbar=None, legend=False)\n",
    "plt.title(\"Number of Ratings by Price Category\")\n",
    "plt.xlabel(\"Price Category\")\n",
    "plt.ylabel(\"Number of Ratings\")\n",
    "plt.show()"
   ]
  },
  {
   "cell_type": "markdown",
   "metadata": {},
   "source": [
    "#### 3.2.3.4 Total Number of Ratings"
   ]
  },
  {
   "cell_type": "code",
   "execution_count": null,
   "metadata": {},
   "outputs": [],
   "source": [
    "# Calculate the total number of ratings for each price category\n",
    "total_ratings = df_filtered.groupby('price_category')['nb_rating'].sum().reset_index()\n",
    "\n",
    "# Plot the total number of ratings by price category\n",
    "plt.figure(figsize=(10, 6))\n",
    "sns.barplot(data=total_ratings, x='price_category', y='nb_rating', hue='price_category', palette=palette, dodge=False)\n",
    "plt.legend([], [], frameon=False)  # Remove the legend if not needed\n",
    "\n",
    "# Add labels and a title\n",
    "plt.title(\"Total Number of Ratings by Price Category\")\n",
    "plt.xlabel(\"Price Category\")\n",
    "plt.ylabel(\"Total Number of Ratings\")\n",
    "plt.show()"
   ]
  },
  {
   "cell_type": "markdown",
   "metadata": {},
   "source": [
    "### 3.2.4 TODO: Outliers"
   ]
  },
  {
   "cell_type": "markdown",
   "metadata": {},
   "source": [
    "### 3.2.5 TODO: Distribution of free, freemium, paid. Average downloads per category\n",
    "\n"
   ]
  },
  {
   "cell_type": "markdown",
   "metadata": {},
   "source": [
    "# 4. Merge SDK dataset"
   ]
  },
  {
   "cell_type": "code",
   "execution_count": null,
   "metadata": {},
   "outputs": [],
   "source": [
    "# read app_sdk/app_sdk.csv\n",
    "app_sdk = pd.read_csv('app_sdk/app_sdk.csv')\n",
    "app_sdk = app_sdk.loc[:, ~app_sdk.columns.str.contains('^Unnamed')]"
   ]
  },
  {
   "cell_type": "code",
   "execution_count": null,
   "metadata": {},
   "outputs": [],
   "source": [
    "# join df and app_sdk on inner join with my_app_id and id\n",
    "df_app_and_sdk = pd.merge(df_filtered, app_sdk, left_on='my_app_id', right_on='id', how='inner')"
   ]
  },
  {
   "cell_type": "markdown",
   "metadata": {},
   "source": [
    "# 5. Graphs SDK"
   ]
  },
  {
   "cell_type": "markdown",
   "metadata": {},
   "source": [
    "## 5.1 SDK_name counts"
   ]
  },
  {
   "cell_type": "code",
   "execution_count": null,
   "metadata": {},
   "outputs": [],
   "source": [
    "# Plotting the counts of each SDK name\n",
    "plt.figure(figsize=(10, 6))\n",
    "df_app_and_sdk['sdk_type'].value_counts().plot(kind='bar')\n",
    "plt.title(\"Counts of Each SDK Type\")\n",
    "plt.xlabel(\"SDK Type\")\n",
    "plt.ylabel(\"Count\")\n",
    "plt.xticks(rotation=45)\n",
    "plt.tight_layout()\n",
    "plt.show()"
   ]
  },
  {
   "cell_type": "markdown",
   "metadata": {},
   "source": [
    "## 5.2 Top 10 used SDKs"
   ]
  },
  {
   "cell_type": "code",
   "execution_count": null,
   "metadata": {},
   "outputs": [],
   "source": [
    "# top 10 most used SDKs by free apps\n",
    "df_free = df_app_and_sdk[df_app_and_sdk['price_category'] == 'free']\n",
    "df_free = df_free.dropna(subset=['sdk_name'])\n",
    "df_free = df_free['sdk_name'].value_counts().head(10)\n",
    "df_free"
   ]
  },
  {
   "cell_type": "code",
   "execution_count": null,
   "metadata": {},
   "outputs": [],
   "source": [
    "# top 10 most used SDKs by freemium apps\n",
    "df_freemium = df_app_and_sdk[df_app_and_sdk['price_category'] == 'freemium']\n",
    "df_freemium = df_freemium.dropna(subset=['sdk_name'])\n",
    "df_freemium = df_freemium['sdk_name'].value_counts().head(10)\n",
    "df_freemium"
   ]
  },
  {
   "cell_type": "code",
   "execution_count": null,
   "metadata": {},
   "outputs": [],
   "source": [
    "# top 10 most used SDKs by paid apps\n",
    "df_paid = df_app_and_sdk[df_app_and_sdk['price_category'] == 'paid']\n",
    "df_paid = df_paid.dropna(subset=['sdk_name'])\n",
    "df_paid = df_paid['sdk_name'].value_counts().head(10)\n",
    "df_paid"
   ]
  },
  {
   "cell_type": "markdown",
   "metadata": {},
   "source": [
    "## 5.3 Top 10 used SDKs dropping duplicates"
   ]
  },
  {
   "cell_type": "code",
   "execution_count": null,
   "metadata": {},
   "outputs": [],
   "source": [
    "df_new = df_app_and_sdk.drop_duplicates(subset=['my_app_id', 'sdk_name'])"
   ]
  },
  {
   "cell_type": "code",
   "execution_count": null,
   "metadata": {},
   "outputs": [],
   "source": [
    "df_free = df_new[df_new['price_category'] == 'free']\n",
    "df_freemium = df_new[df_new['price_category'] == 'freemium']\n",
    "df_paid = df_new[df_new['price_category'] == 'paid']"
   ]
  },
  {
   "cell_type": "code",
   "execution_count": null,
   "metadata": {},
   "outputs": [],
   "source": [
    "df_free['sdk_name'].value_counts().head(10)"
   ]
  },
  {
   "cell_type": "code",
   "execution_count": null,
   "metadata": {},
   "outputs": [],
   "source": [
    "df_freemium['sdk_name'].value_counts().head(10)"
   ]
  },
  {
   "cell_type": "code",
   "execution_count": null,
   "metadata": {},
   "outputs": [],
   "source": [
    "df_paid['sdk_name'].value_counts().head(10)"
   ]
  }
 ],
 "metadata": {
  "kernelspec": {
   "display_name": "Python 3",
   "language": "python",
   "name": "python3"
  },
  "language_info": {
   "codemirror_mode": {
    "name": "ipython",
    "version": 3
   },
   "file_extension": ".py",
   "mimetype": "text/x-python",
   "name": "python",
   "nbconvert_exporter": "python",
   "pygments_lexer": "ipython3",
   "version": "3.11.9"
  }
 },
 "nbformat": 4,
 "nbformat_minor": 2
}
