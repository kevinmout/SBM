{
 "cells": [
  {
   "cell_type": "markdown",
   "metadata": {},
   "source": [
    "# Import packages"
   ]
  },
  {
   "cell_type": "code",
   "execution_count": 1,
   "metadata": {
    "ExecuteTime": {
     "end_time": "2024-11-19T19:14:22.657933Z",
     "start_time": "2024-11-19T19:14:22.519536Z"
    }
   },
   "outputs": [],
   "source": [
    "import pandas as pd\n",
    "import matplotlib.pyplot as plt\n",
    "import seaborn as sns\n",
    "import re\n",
    "from sklearn.feature_extraction.text import TfidfVectorizer\n",
    "from sklearn.neighbors import NearestNeighbors\n",
    "import numpy as np"
   ]
  },
  {
   "cell_type": "markdown",
   "metadata": {},
   "source": [
    "# 1. Prepare and merge the datasets"
   ]
  },
  {
   "cell_type": "code",
   "execution_count": 2,
   "metadata": {
    "ExecuteTime": {
     "end_time": "2024-11-19T19:14:31.468250Z",
     "start_time": "2024-11-19T19:14:22.659937Z"
    }
   },
   "outputs": [],
   "source": [
    "df_google_first = pd.read_csv('app_sdk/google_data_first.csv', encoding='ISO-8859-1')\n",
    "df_google_first = df_google_first.loc[:, ~df_google_first.columns.str.contains('^Unnamed')]"
   ]
  },
  {
   "cell_type": "code",
   "execution_count": 3,
   "metadata": {
    "ExecuteTime": {
     "end_time": "2024-11-19T19:14:40.884608Z",
     "start_time": "2024-11-19T19:14:31.651463Z"
    }
   },
   "outputs": [],
   "source": [
    "df_google_last = pd.read_csv('app_sdk/google_data_last.csv', encoding='ISO-8859-1')\n",
    "df_google_last = df_google_last.loc[:, ~df_google_last.columns.str.contains('^Unnamed')]"
   ]
  },
  {
   "cell_type": "code",
   "execution_count": 4,
   "metadata": {
    "ExecuteTime": {
     "end_time": "2024-11-19T19:14:41.286754Z",
     "start_time": "2024-11-19T19:14:40.892518Z"
    }
   },
   "outputs": [],
   "source": [
    "missing_rows = df_google_first[~df_google_first['my_app_id'].isin(df_google_last['my_app_id'])]\n",
    "\n",
    "df = pd.concat([df_google_last, missing_rows], ignore_index=True)"
   ]
  },
  {
   "cell_type": "markdown",
   "metadata": {},
   "source": [
    "# 2. Analyze dataframe"
   ]
  },
  {
   "cell_type": "code",
   "execution_count": 5,
   "metadata": {
    "ExecuteTime": {
     "end_time": "2024-11-19T19:14:41.303371Z",
     "start_time": "2024-11-19T19:14:41.299896Z"
    }
   },
   "outputs": [
    {
     "name": "stdout",
     "output_type": "stream",
     "text": [
      "DataFrame contains 1016666 rows and 27 columns.\n",
      "\n",
      "                    Data Type  Non-null Count  Null Count  Null Percentage (%)\n",
      "my_app_id              object         1016666           0             0.000000\n",
      "date_published         object         1016663           3             0.000295\n",
      "privacy_policy         object          726139      290527            28.576445\n",
      "rating_app            float64          927640       89026             8.756661\n",
      "nb_rating              object          927639       89027             8.756760\n",
      "num_downloads          object         1016651          15             0.001475\n",
      "content_rating_app     object         1016663           3             0.000295\n",
      "developer              object         1016658           8             0.000787\n",
      "categ_app              object         1016658           8             0.000787\n",
      "in_app                   bool         1016666           0             0.000000\n",
      "has_ads                  bool         1016666           0             0.000000\n",
      "price_gplay            object         1012276        4390             0.431804\n",
      "operating_system       object         1016614          52             0.005115\n",
      "software_version       object         1015747         919             0.090394\n",
      "interactive_element    object          220114      796552            78.349428\n",
      "in_app_product         object          106082      910584            89.565698\n",
      "developer_name         object         1016650          16             0.001574\n",
      "nb_screenshots        float64         1016656          10             0.000984\n",
      "description            object         1009761        6905             0.679181\n",
      "whats_new             float64               0     1016666           100.000000\n",
      "email_to               object          980965       35701             3.511576\n",
      "developer_info         object         1016663           3             0.000295\n",
      "similar_apps_top15     object          594573      422093            41.517371\n",
      "visit_website          object          659728      356938            35.108679\n",
      "more_from_developer    object          664112      352554            34.677465\n",
      "family_library           bool         1016666           0             0.000000\n",
      "permissions            object          968188       48478             4.768331\n"
     ]
    }
   ],
   "source": [
    "def dataframe_summary(df):\n",
    "    print(f\"DataFrame contains {df.shape[0]} rows and {df.shape[1]} columns.\\n\")\n",
    "    df_info = pd.DataFrame({\n",
    "        'Data Type': df.dtypes,\n",
    "        'Non-null Count': df.count(),\n",
    "        'Null Count': df.isnull().sum(),\n",
    "        'Null Percentage (%)': (df.isnull().sum() / len(df)) * 100\n",
    "    })\n",
    "    print(df_info)\n",
    "\n",
    "# Run the function to get an enhanced summary of the DataFrame\n",
    "dataframe_summary(df)"
   ]
  },
  {
   "cell_type": "markdown",
   "metadata": {},
   "source": [
    "# 2. Preprocess DataFrame"
   ]
  },
  {
   "cell_type": "code",
   "execution_count": 6,
   "metadata": {
    "ExecuteTime": {
     "end_time": "2024-11-19T19:14:41.549573Z",
     "start_time": "2024-11-19T19:14:41.315522Z"
    }
   },
   "outputs": [
    {
     "name": "stdout",
     "output_type": "stream",
     "text": [
      "DataFrame contains 1016666 rows and 13 columns.\n",
      "\n",
      "                   Data Type  Non-null Count  Null Count  Null Percentage (%)\n",
      "my_app_id             object         1016666           0             0.000000\n",
      "num_downloads         object         1016651          15             0.001475\n",
      "rating_app           float64          927640       89026             8.756661\n",
      "nb_rating             object          927639       89027             8.756760\n",
      "price_gplay           object         1012276        4390             0.431804\n",
      "in_app                  bool         1016666           0             0.000000\n",
      "content_rating_app    object         1016663           3             0.000295\n",
      "categ_app             object         1016658           8             0.000787\n",
      "date_published        object         1016663           3             0.000295\n",
      "has_ads                 bool         1016666           0             0.000000\n",
      "family_library          bool         1016666           0             0.000000\n",
      "developer_name        object         1016650          16             0.001574\n",
      "developer_info        object         1016663           3             0.000295\n"
     ]
    }
   ],
   "source": [
    "# Use specific columns\n",
    "df = df[['my_app_id', 'num_downloads', 'rating_app', 'nb_rating', 'price_gplay', 'in_app', 'content_rating_app', 'categ_app', 'date_published', 'has_ads', 'family_library', 'developer_name', 'developer_info']]\n",
    "dataframe_summary(df)"
   ]
  },
  {
   "cell_type": "markdown",
   "metadata": {},
   "source": [
    "## 2.1 Classify Apps into Levels"
   ]
  },
  {
   "cell_type": "markdown",
   "metadata": {},
   "source": [
    "### 2.1.1 Preprocess price_gplay to a numerical value."
   ]
  },
  {
   "cell_type": "markdown",
   "metadata": {},
   "source": [
    "Should be noted the app's prices have different currencies."
   ]
  },
  {
   "cell_type": "code",
   "execution_count": 7,
   "metadata": {
    "ExecuteTime": {
     "end_time": "2024-11-19T19:14:41.652236Z",
     "start_time": "2024-11-19T19:14:41.560349Z"
    }
   },
   "outputs": [],
   "source": [
    "# Drop rows where no numeric part is found (if desired)\n",
    "df = df.dropna(subset=['price_gplay'])"
   ]
  },
  {
   "cell_type": "code",
   "execution_count": 8,
   "metadata": {
    "ExecuteTime": {
     "end_time": "2024-11-19T19:14:42.613053Z",
     "start_time": "2024-11-19T19:14:41.663377Z"
    }
   },
   "outputs": [],
   "source": [
    "# List of currency symbols and codes to match, including €\n",
    "currency_codes = [\"€\", \"£\", \"$\", \"USD\", \"CZK\", \"EUR\", \"RUB\", \"AUD\", \"GBP\", \"JPY\", \"CAD\", \"KRW\", \"INR\", \"AED\", \n",
    "                  \"DKK\", \"SAR\", \"PLN\", \"UAH\", \"SEK\", \"IDR\", \"TRY\", \"TWD\", \"ILS\", \"HKD\", \"BGN\", \"MXN\", \"MYR\", \n",
    "                  \"BRL\", \"CLP\", \"CHF\", \"\"]\n",
    "\n",
    "# Create a regex pattern to match the symbols and codes\n",
    "currency_pattern = r'|'.join(map(re.escape, currency_codes))\n",
    "\n",
    "df_filtered = df.copy()\n",
    "\n",
    "# Remove currency symbols and codes\n",
    "df_filtered['price_value'] = df_filtered['price_gplay'].apply(lambda x: re.sub(currency_pattern, '', x).strip() if isinstance(x, str) else None)\n",
    "\n",
    "df_filtered['price_value'] = df_filtered['price_value'].str.replace(',', '.')\n",
    "\n",
    "# remove initial-scale=1. minimum-scale \" hre\n",
    "df_filtered['price_value'] = df_filtered['price_value'].str.replace('initial-scale=1. minimum-scale \" hre', '')\n",
    "\n",
    "# remove empty strings\n",
    "df_filtered = df_filtered[df_filtered['price_value'] != '']\n",
    "\n",
    "# convert to float\n",
    "df_filtered['price_value'] = df_filtered['price_value'].astype(float)\n",
    "\n",
    "# make new column with if app is free or not\n",
    "df_filtered['is_free'] = df_filtered['price_value'].apply(lambda x: True if x == 0 else False)"
   ]
  },
  {
   "cell_type": "markdown",
   "metadata": {},
   "source": [
    "### 2.1.2 Convert in_app and has_ads to boolean."
   ]
  },
  {
   "cell_type": "code",
   "execution_count": 9,
   "metadata": {
    "ExecuteTime": {
     "end_time": "2024-11-19T19:14:42.650465Z",
     "start_time": "2024-11-19T19:14:42.643970Z"
    }
   },
   "outputs": [],
   "source": [
    "# convert in_app and has_ads to boolean\n",
    "df_filtered['in_app'] = df_filtered['in_app'].astype(bool)\n",
    "df_filtered['has_ads'] = df_filtered['has_ads'].astype(bool)\n",
    "\n",
    "df_filtered = df_filtered.dropna()"
   ]
  },
  {
   "cell_type": "markdown",
   "metadata": {},
   "source": [
    "### 2.1.3 Define the levels."
   ]
  },
  {
   "cell_type": "code",
   "execution_count": 10,
   "metadata": {},
   "outputs": [
    {
     "data": {
      "text/html": [
       "<div>\n",
       "<style scoped>\n",
       "    .dataframe tbody tr th:only-of-type {\n",
       "        vertical-align: middle;\n",
       "    }\n",
       "\n",
       "    .dataframe tbody tr th {\n",
       "        vertical-align: top;\n",
       "    }\n",
       "\n",
       "    .dataframe thead th {\n",
       "        text-align: right;\n",
       "    }\n",
       "</style>\n",
       "<table border=\"1\" class=\"dataframe\">\n",
       "  <thead>\n",
       "    <tr style=\"text-align: right;\">\n",
       "      <th></th>\n",
       "      <th>Level</th>\n",
       "      <th>Description</th>\n",
       "      <th>Criteria</th>\n",
       "    </tr>\n",
       "  </thead>\n",
       "  <tbody>\n",
       "    <tr>\n",
       "      <th>0</th>\n",
       "      <td>0</td>\n",
       "      <td>Helemaal geen monetization</td>\n",
       "      <td>`is_free == 1`, `in_app == 0`, `has_ads == 0`</td>\n",
       "    </tr>\n",
       "    <tr>\n",
       "      <th>1</th>\n",
       "      <td>1</td>\n",
       "      <td>Alleen ads</td>\n",
       "      <td>`is_free == 1`, `in_app == 0`, `has_ads == 1`</td>\n",
       "    </tr>\n",
       "    <tr>\n",
       "      <th>2</th>\n",
       "      <td>2 (Sample)</td>\n",
       "      <td>2 verschillende versies: sample</td>\n",
       "      <td>`is_free == 1`, `in_app == 0`, `has_ads ∈ [0, 1]`</td>\n",
       "    </tr>\n",
       "    <tr>\n",
       "      <th>3</th>\n",
       "      <td>2 (Premium)</td>\n",
       "      <td>2 verschillende versies: premium</td>\n",
       "      <td>`is_free == 0`, `in_app == 0`, `has_ads == 0`</td>\n",
       "    </tr>\n",
       "    <tr>\n",
       "      <th>4</th>\n",
       "      <td>3</td>\n",
       "      <td>Gratis met ads, en mogelijkheid voor extra fea...</td>\n",
       "      <td>`is_free == 1`, `in_app == 1`, `has_ads == 1`</td>\n",
       "    </tr>\n",
       "    <tr>\n",
       "      <th>5</th>\n",
       "      <td>4</td>\n",
       "      <td>Gratis met in-app aankopen (geen ads)</td>\n",
       "      <td>`is_free == 1`, `in_app == 1`, `has_ads == 0`</td>\n",
       "    </tr>\n",
       "    <tr>\n",
       "      <th>6</th>\n",
       "      <td>5</td>\n",
       "      <td>Betalen voor app-download (geen ads/in-app aan...</td>\n",
       "      <td>`is_free == 0`, `in_app == 0`, `has_ads == 0`</td>\n",
       "    </tr>\n",
       "  </tbody>\n",
       "</table>\n",
       "</div>"
      ],
      "text/plain": [
       "         Level                                        Description  \\\n",
       "0            0                         Helemaal geen monetization   \n",
       "1            1                                         Alleen ads   \n",
       "2   2 (Sample)                    2 verschillende versies: sample   \n",
       "3  2 (Premium)                   2 verschillende versies: premium   \n",
       "4            3  Gratis met ads, en mogelijkheid voor extra fea...   \n",
       "5            4              Gratis met in-app aankopen (geen ads)   \n",
       "6            5  Betalen voor app-download (geen ads/in-app aan...   \n",
       "\n",
       "                                            Criteria  \n",
       "0      `is_free == 1`, `in_app == 0`, `has_ads == 0`  \n",
       "1      `is_free == 1`, `in_app == 0`, `has_ads == 1`  \n",
       "2  `is_free == 1`, `in_app == 0`, `has_ads ∈ [0, 1]`  \n",
       "3      `is_free == 0`, `in_app == 0`, `has_ads == 0`  \n",
       "4      `is_free == 1`, `in_app == 1`, `has_ads == 1`  \n",
       "5      `is_free == 1`, `in_app == 1`, `has_ads == 0`  \n",
       "6      `is_free == 0`, `in_app == 0`, `has_ads == 0`  "
      ]
     },
     "execution_count": 10,
     "metadata": {},
     "output_type": "execute_result"
    }
   ],
   "source": [
    "# Create a DataFrame to represent the levels and their criteria\n",
    "data = {\n",
    "    \"Level\": [\"0\", \"1\", \"2 (Sample)\", \"2 (Premium)\", \"3\", \"4\", \"5\"],\n",
    "    \"Description\": [\n",
    "        \"Helemaal geen monetization\",\n",
    "        \"Alleen ads\",\n",
    "        \"2 verschillende versies: sample\",\n",
    "        \"2 verschillende versies: premium\",\n",
    "        \"Gratis met ads, en mogelijkheid voor extra features\",\n",
    "        \"Gratis met in-app aankopen (geen ads)\",\n",
    "        \"Betalen voor app-download (geen ads/in-app aankopen)\"\n",
    "    ],\n",
    "    \"Criteria\": [\n",
    "        \"`is_free == 1`, `in_app == 0`, `has_ads == 0`\",\n",
    "        \"`is_free == 1`, `in_app == 0`, `has_ads == 1`\",\n",
    "        \"`is_free == 1`, `in_app == 0`, `has_ads ∈ [0, 1]`\",\n",
    "        \"`is_free == 0`, `in_app == 0`, `has_ads == 0`\",\n",
    "        \"`is_free == 1`, `in_app == 1`, `has_ads == 1`\",\n",
    "        \"`is_free == 1`, `in_app == 1`, `has_ads == 0`\",\n",
    "        \"`is_free == 0`, `in_app == 0`, `has_ads == 0`\"\n",
    "    ]\n",
    "}\n",
    "\n",
    "df_levels = pd.DataFrame(data)\n",
    "df_levels"
   ]
  },
  {
   "cell_type": "code",
   "execution_count": 11,
   "metadata": {},
   "outputs": [],
   "source": [
    "# Level 0: Helemaal geen monetization\n",
    "predicate_level_0 = (df_filtered['is_free'] == 1) & (df_filtered['in_app'] == 0) & (df_filtered['has_ads'] == 0)\n",
    "\n",
    "# Level 1: Alleen ads\n",
    "predicate_level_1 = (df_filtered['is_free'] == 1) & (df_filtered['in_app'] == 0) & (df_filtered['has_ads'] == 1)\n",
    "\n",
    "# Level 2: 2 verschillende versies\n",
    "predicate_level_2_sample = (df_filtered['is_free'] == 1) & (df_filtered['in_app'] == 0) & (df_filtered['has_ads'].isin([1, 0]))\n",
    "predicate_level_2_premium = (df_filtered['is_free'] == 0) & (df_filtered['in_app'] == 0) & (df_filtered['has_ads'] == 0)\n",
    "\n",
    "# Level 3: Gratis met ads, met de mogelijkheid om te betalen voor extra features of een app zonder ads\n",
    "predicate_level_3 = (df_filtered['is_free'] == 1) & (df_filtered['in_app'] == 1) & (df_filtered['has_ads'] == 1)\n",
    "\n",
    "# Level 4: Gratis, maar met in-app aankopen voor andere features\n",
    "predicate_level_4 = (df_filtered['is_free'] == 1) & (df_filtered['in_app'] == 1) & (df_filtered['has_ads'] == 0)\n",
    "\n",
    "# Level 5: Betalen voor het downloaden van de app, hetzelfde als in level 2 premium\n",
    "predicate_level_5 = predicate_level_2_premium\n",
    "\n",
    "\n",
    "# level 0 - Free\n",
    "df_level_0 = df_filtered[predicate_level_0]\n",
    "\n",
    "# level 1 - In-app advertising\n",
    "df_level_1 = df_filtered[predicate_level_1]\n",
    "\n",
    "# Level 2\n",
    "# Possible sample apps: Free, with or without ads, without in-app purchases\n",
    "df_level_2_sample = df_filtered[predicate_level_2_sample]\n",
    "\n",
    "# Possible premium apps: Paid, without ads, with or without in-app purchases\n",
    "df_level_2_premium = df_filtered[predicate_level_2_premium]\n",
    "\n",
    "\n",
    "# level 3 - Free with ads and in-app purchases\n",
    "df_level_3 = df_filtered[predicate_level_3]\n",
    "\n",
    "# level 4 - Semi-premium (freemium)\n",
    "df_level_4 = df_filtered[predicate_level_4]\n",
    "\n",
    "# level 5 - Premium\n",
    "df_level_5 = df_filtered[predicate_level_5]\n"
   ]
  },
  {
   "cell_type": "markdown",
   "metadata": {},
   "source": [
    "### 2.1.4 Get level 2."
   ]
  },
  {
   "cell_type": "code",
   "execution_count": 12,
   "metadata": {},
   "outputs": [],
   "source": [
    "# Preprocess further on developer names. This says a developer must have at least 1 app in df_level_2_sample and df_level_2_premium. This makes sense since we want to find the sample and premium apps of the \"same\" app.\n",
    "\n",
    "# Find common developer names\n",
    "common_developers = pd.merge(\n",
    "    df_level_2_sample[['developer_name']],\n",
    "    df_level_2_premium[['developer_name']],\n",
    "    on='developer_name',\n",
    "    how='inner'\n",
    ")['developer_name'].unique()\n",
    "\n",
    "# Filter both DataFrames to keep only rows with common developers\n",
    "df_level_2_sample_filtered = df_level_2_sample[\n",
    "    df_level_2_sample['developer_name'].isin(common_developers)\n",
    "]\n",
    "df_level_2_premium_filtered = df_level_2_premium[\n",
    "    df_level_2_premium['developer_name'].isin(common_developers)\n",
    "]"
   ]
  },
  {
   "cell_type": "markdown",
   "metadata": {},
   "source": [
    "#### 2.1.4.1 Word similarity algorithm."
   ]
  },
  {
   "cell_type": "code",
   "execution_count": 13,
   "metadata": {},
   "outputs": [],
   "source": [
    "# The app names are in the 'my_app_id' column. We will use these to find similar words between the two lists.\n",
    "list1 = df_level_2_sample_filtered['my_app_id'].tolist()\n",
    "list2 = df_level_2_premium_filtered['my_app_id'].tolist()\n",
    "\n",
    "# Function to find similar words with at least 75% similarity\n",
    "def find_similar_words(list1, list2, threshold=75):\n",
    "    # Combine both lists for TF-IDF feature extraction\n",
    "    combined_list = list1 + list2\n",
    "\n",
    "    # Use TF-IDF Vectorizer to transform the text into feature vectors\n",
    "    vectorizer = TfidfVectorizer(analyzer='char', ngram_range=(2, 4))  # You can change ngram_range for more efficiency\n",
    "    tfidf_matrix = vectorizer.fit_transform(combined_list)\n",
    "\n",
    "    # Separate the TF-IDF vectors for both lists\n",
    "    tfidf_list1 = tfidf_matrix[:len(list1)]\n",
    "    tfidf_list2 = tfidf_matrix[len(list1):]\n",
    "\n",
    "    # Use NearestNeighbors for finding approximate matches\n",
    "    # Set the number of neighbors to a minimum of 10 or the size of list2 to limit comparisons\n",
    "    n_neighbors = min(10, len(list2))\n",
    "    nn = NearestNeighbors(n_neighbors=n_neighbors, metric='cosine', algorithm='brute', n_jobs=-1)\n",
    "    nn.fit(tfidf_list2)\n",
    "\n",
    "    similar_pairs = []\n",
    "    distances, indices = nn.kneighbors(tfidf_list1)\n",
    "\n",
    "    # Iterate through the results to find pairs with similarity above the threshold\n",
    "    for i, (dists, idxs) in enumerate(zip(distances, indices)):\n",
    "        for dist, idx in zip(dists, idxs):\n",
    "            similarity = (1 - dist) * 100\n",
    "            if similarity >= threshold:\n",
    "                similar_pairs.append((list1[i], list2[idx], similarity))\n",
    "\n",
    "    # Create a DataFrame from the similar pairs\n",
    "    df = pd.DataFrame(similar_pairs, columns=['Sample app name', 'Premium app name', 'Similarity (%)'])\n",
    "    return df\n",
    "\n",
    "# Run the function on the slices\n",
    "df_similarities = find_similar_words(list1, list2)"
   ]
  },
  {
   "cell_type": "code",
   "execution_count": 14,
   "metadata": {},
   "outputs": [
    {
     "data": {
      "text/html": [
       "<div>\n",
       "<style scoped>\n",
       "    .dataframe tbody tr th:only-of-type {\n",
       "        vertical-align: middle;\n",
       "    }\n",
       "\n",
       "    .dataframe tbody tr th {\n",
       "        vertical-align: top;\n",
       "    }\n",
       "\n",
       "    .dataframe thead th {\n",
       "        text-align: right;\n",
       "    }\n",
       "</style>\n",
       "<table border=\"1\" class=\"dataframe\">\n",
       "  <thead>\n",
       "    <tr style=\"text-align: right;\">\n",
       "      <th></th>\n",
       "      <th>Sample app name</th>\n",
       "      <th>Premium app name</th>\n",
       "      <th>Similarity (%)</th>\n",
       "    </tr>\n",
       "  </thead>\n",
       "  <tbody>\n",
       "    <tr>\n",
       "      <th>0</th>\n",
       "      <td>Andrew.Compass.com</td>\n",
       "      <td>andrew.compass.color2</td>\n",
       "      <td>85.780677</td>\n",
       "    </tr>\n",
       "    <tr>\n",
       "      <th>1</th>\n",
       "      <td>Andrew.Compass.com</td>\n",
       "      <td>andrew.compass.color3</td>\n",
       "      <td>85.317104</td>\n",
       "    </tr>\n",
       "    <tr>\n",
       "      <th>2</th>\n",
       "      <td>Andrew.Compass.com</td>\n",
       "      <td>andrew.compass.color1</td>\n",
       "      <td>84.718042</td>\n",
       "    </tr>\n",
       "    <tr>\n",
       "      <th>3</th>\n",
       "      <td>Andrew.Compass.com</td>\n",
       "      <td>andrew.compass.com.yellow</td>\n",
       "      <td>82.218412</td>\n",
       "    </tr>\n",
       "    <tr>\n",
       "      <th>4</th>\n",
       "      <td>AutoLoanCalculatorPRO.DPsoftware.org</td>\n",
       "      <td>AutoLoanCalculatorPRO_Market.DPsoftware.org</td>\n",
       "      <td>80.783936</td>\n",
       "    </tr>\n",
       "  </tbody>\n",
       "</table>\n",
       "</div>"
      ],
      "text/plain": [
       "                        Sample app name  \\\n",
       "0                    Andrew.Compass.com   \n",
       "1                    Andrew.Compass.com   \n",
       "2                    Andrew.Compass.com   \n",
       "3                    Andrew.Compass.com   \n",
       "4  AutoLoanCalculatorPRO.DPsoftware.org   \n",
       "\n",
       "                              Premium app name  Similarity (%)  \n",
       "0                        andrew.compass.color2       85.780677  \n",
       "1                        andrew.compass.color3       85.317104  \n",
       "2                        andrew.compass.color1       84.718042  \n",
       "3                    andrew.compass.com.yellow       82.218412  \n",
       "4  AutoLoanCalculatorPRO_Market.DPsoftware.org       80.783936  "
      ]
     },
     "execution_count": 14,
     "metadata": {},
     "output_type": "execute_result"
    }
   ],
   "source": [
    "df_similarities.head()"
   ]
  },
  {
   "cell_type": "markdown",
   "metadata": {},
   "source": [
    "#### 2.1.4.2 Extra filter (prefix)."
   ]
  },
  {
   "cell_type": "code",
   "execution_count": 15,
   "metadata": {},
   "outputs": [],
   "source": [
    "# If the first word of the app names is the same, we can consider them as similar\n",
    "\n",
    "# Fill NaN values with empty strings\n",
    "df_similarities['First_Word_List1'] = df_similarities['Sample app name'].fillna('').str.split('.').str[0]\n",
    "df_similarities['First_Word_List2'] = df_similarities['Premium app name'].fillna('').str.split('.').str[0]\n",
    "\n",
    "# Perform case-insensitive comparison\n",
    "df_similarities['Comparison_Result'] = df_similarities['First_Word_List1'] == df_similarities['First_Word_List2']\n",
    "\n",
    "# Filter rows where the first words match\n",
    "df_similarities = df_similarities[df_similarities['Comparison_Result'] == True]\n",
    "\n",
    "# Drop the helper column if no longer needed\n",
    "df_similarities = df_similarities.drop(columns=['Comparison_Result', 'First_Word_List1', 'First_Word_List2'])\n"
   ]
  },
  {
   "cell_type": "markdown",
   "metadata": {},
   "source": [
    "#### 2.1.4.3 Filter extra on the difference."
   ]
  },
  {
   "cell_type": "code",
   "execution_count": 16,
   "metadata": {},
   "outputs": [],
   "source": [
    "def get_simple_suffix_difference(str1, str2):\n",
    "    # Find the common prefix\n",
    "    prefix_length = 0\n",
    "    while prefix_length < len(str1) and prefix_length < len(str2) and str1[prefix_length] == str2[prefix_length]:\n",
    "        prefix_length += 1\n",
    "\n",
    "    # Extract the differing suffixes\n",
    "    suffix1 = str1[prefix_length:]\n",
    "    suffix2 = str2[prefix_length:]\n",
    "\n",
    "    # Return the difference in suffixes\n",
    "    return f\"{suffix1.lower()}{suffix2.lower()}\"\n",
    "\n",
    "df_similarities['Difference Score'] = df_similarities.apply(\n",
    "    lambda row: get_simple_suffix_difference(row['Sample app name'], row['Premium app name']),\n",
    "    axis=1\n",
    ")\n"
   ]
  },
  {
   "cell_type": "code",
   "execution_count": 17,
   "metadata": {},
   "outputs": [
    {
     "data": {
      "text/html": [
       "<div>\n",
       "<style scoped>\n",
       "    .dataframe tbody tr th:only-of-type {\n",
       "        vertical-align: middle;\n",
       "    }\n",
       "\n",
       "    .dataframe tbody tr th {\n",
       "        vertical-align: top;\n",
       "    }\n",
       "\n",
       "    .dataframe thead th {\n",
       "        text-align: right;\n",
       "    }\n",
       "</style>\n",
       "<table border=\"1\" class=\"dataframe\">\n",
       "  <thead>\n",
       "    <tr style=\"text-align: right;\">\n",
       "      <th></th>\n",
       "      <th>Sample app name</th>\n",
       "      <th>Premium app name</th>\n",
       "      <th>Similarity (%)</th>\n",
       "      <th>Difference Score</th>\n",
       "    </tr>\n",
       "  </thead>\n",
       "  <tbody>\n",
       "    <tr>\n",
       "      <th>22338</th>\n",
       "      <td>xyz.cryptomines.spacepools</td>\n",
       "      <td>xyz.cryptomines.SpacepoolsMonitor</td>\n",
       "      <td>87.178177</td>\n",
       "      <td>spacepoolsspacepoolsmonitor</td>\n",
       "    </tr>\n",
       "    <tr>\n",
       "      <th>22339</th>\n",
       "      <td>xyz.cryptomines.zpool</td>\n",
       "      <td>xyz.cryptomines.ZpoolMonitor</td>\n",
       "      <td>87.264442</td>\n",
       "      <td>zpoolzpoolmonitor</td>\n",
       "    </tr>\n",
       "    <tr>\n",
       "      <th>22340</th>\n",
       "      <td>xyz.digigem.gem.verge</td>\n",
       "      <td>xyz.digigem.gem.diamond</td>\n",
       "      <td>79.579567</td>\n",
       "      <td>vergediamond</td>\n",
       "    </tr>\n",
       "    <tr>\n",
       "      <th>22341</th>\n",
       "      <td>yukod.science.electronconfiglite</td>\n",
       "      <td>yukod.science.electronconfigengine</td>\n",
       "      <td>84.524221</td>\n",
       "      <td>liteengine</td>\n",
       "    </tr>\n",
       "    <tr>\n",
       "      <th>22342</th>\n",
       "      <td>yukod.science.electronconfiglite</td>\n",
       "      <td>yukod.science.electronconfiguration</td>\n",
       "      <td>83.404048</td>\n",
       "      <td>liteuration</td>\n",
       "    </tr>\n",
       "  </tbody>\n",
       "</table>\n",
       "</div>"
      ],
      "text/plain": [
       "                        Sample app name                     Premium app name  \\\n",
       "22338        xyz.cryptomines.spacepools    xyz.cryptomines.SpacepoolsMonitor   \n",
       "22339             xyz.cryptomines.zpool         xyz.cryptomines.ZpoolMonitor   \n",
       "22340             xyz.digigem.gem.verge              xyz.digigem.gem.diamond   \n",
       "22341  yukod.science.electronconfiglite   yukod.science.electronconfigengine   \n",
       "22342  yukod.science.electronconfiglite  yukod.science.electronconfiguration   \n",
       "\n",
       "       Similarity (%)             Difference Score  \n",
       "22338       87.178177  spacepoolsspacepoolsmonitor  \n",
       "22339       87.264442            zpoolzpoolmonitor  \n",
       "22340       79.579567                 vergediamond  \n",
       "22341       84.524221                   liteengine  \n",
       "22342       83.404048                  liteuration  "
      ]
     },
     "execution_count": 17,
     "metadata": {},
     "output_type": "execute_result"
    }
   ],
   "source": [
    "df_similarities.tail()"
   ]
  },
  {
   "cell_type": "code",
   "execution_count": 18,
   "metadata": {},
   "outputs": [],
   "source": [
    "# Get the tail of the second word (alphabetic characters only) that starts right after the first word\n",
    "def get_tail_cleaned(first_app_name, second_app_name):\n",
    "    \"\"\"\n",
    "    Returns the cleaned tail of the second app name (alphabetic characters only).\n",
    "    that starts right after the first app name.\n",
    "    \"\"\"\n",
    "    if first_app_name.startswith(second_app_name):\n",
    "        tail = first_app_name[len(second_app_name):]\n",
    "        # Remove non-alphabetic characters using regex\n",
    "        return re.sub(r'[^a-zA-Z]', '', tail)\n",
    "    return None\n",
    "\n",
    "# Function to process a list of cleaned tails\n",
    "def process_tails(df, col1, col2):\n",
    "    \"\"\"\n",
    "    Extracts, cleans, and processes the tails between two columns in a DataFrame.\n",
    "    Removes None and empty strings.\n",
    "    \"\"\"\n",
    "    tails = df.apply(lambda row: get_tail_cleaned(row[col1], row[col2]), axis=1).dropna()\n",
    "    return [x for x in tails if x]\n",
    "\n",
    "# Process both sample and premium lists\n",
    "sample_list = process_tails(df_similarities, 'Sample app name', 'Premium app name')\n",
    "premium_list = process_tails(df_similarities, 'Premium app name', 'Sample app name')\n",
    "\n",
    "# Count values that occur more than once\n",
    "grouped_sample = pd.Series(sample_list).value_counts()\n",
    "grouped_sample = grouped_sample[grouped_sample > 1]\n",
    "grouped_premium = pd.Series(premium_list).value_counts()\n",
    "grouped_premium = grouped_premium[grouped_premium > 1]"
   ]
  },
  {
   "cell_type": "code",
   "execution_count": 19,
   "metadata": {},
   "outputs": [],
   "source": [
    "# List of indicative strings for free/sample and paid/premium versions. Inspired by grouped_sample and grouped_premium.\n",
    "indicative_terms = [\n",
    "    # Free/sample version terms\n",
    "    \"free\",\n",
    "    \"lite\",\n",
    "    \"demo\",\n",
    "    \"trial\",\n",
    "    \"beta\",\n",
    "    \"ad\",\n",
    "    \"light\",\n",
    "    \"test\",\n",
    "    \"eval\",\n",
    "    \"preview\",\n",
    "    \"gratis\",\n",
    "    \"libre\",\n",
    "    \"sample\",\n",
    "    \"mini\",\n",
    "    \"basic\",\n",
    "    \"limited\",\n",
    "    \"trail\",\n",
    "    \"try\",\n",
    "\n",
    "    # Paid/premium version terms\n",
    "    \"pro\",\n",
    "    \"full\",\n",
    "    \"paid\",\n",
    "    \"plus\",\n",
    "    \"premium\",\n",
    "    \"noads\",\n",
    "    \"donate\",\n",
    "    \"adfree\",\n",
    "    \"key\",\n",
    "    \"unlock\",\n",
    "    \"license\",\n",
    "    \"vip\",\n",
    "    \"deluxe\",\n",
    "    \"gold\",\n",
    "    \"elite\",\n",
    "    \"prime\",\n",
    "    \"unlimited\",\n",
    "    \"buy\",\n",
    "    \"removeads\"\n",
    "]"
   ]
  },
  {
   "cell_type": "code",
   "execution_count": 20,
   "metadata": {},
   "outputs": [],
   "source": [
    "# Filter the DataFrame to keep rows where 'Difference Score' contains any of the indicative terms\n",
    "df_similarities = df_similarities[df_similarities['Difference Score'].str.contains('|'.join(indicative_terms), case=False, na=False)]"
   ]
  },
  {
   "cell_type": "markdown",
   "metadata": {},
   "source": [
    "#### 2.1.4.4 Filter on level 2 sample apps and premium apps."
   ]
  },
  {
   "cell_type": "code",
   "execution_count": 21,
   "metadata": {},
   "outputs": [],
   "source": [
    "# Remove duplicate based on 'Sample app name' and 'Premium app name' columns\n",
    "df_similarities = df_similarities.drop_duplicates(subset=['Sample app name'])\n",
    "df_similarities = df_similarities.drop_duplicates(subset=['Premium app name'])"
   ]
  },
  {
   "cell_type": "code",
   "execution_count": 22,
   "metadata": {},
   "outputs": [],
   "source": [
    "sample_app_names = df_similarities['Sample app name'].to_list()\n",
    "premium_app_names = df_similarities['Premium app name'].to_list()"
   ]
  },
  {
   "cell_type": "code",
   "execution_count": 23,
   "metadata": {},
   "outputs": [],
   "source": [
    "df_level_2_sample = df_level_2_sample_filtered[df_level_2_sample_filtered['my_app_id'].isin(sample_app_names)]\n",
    "df_level_2_premium = df_level_2_premium_filtered[df_level_2_premium_filtered['my_app_id'].isin(premium_app_names)]"
   ]
  },
  {
   "cell_type": "code",
   "execution_count": 24,
   "metadata": {},
   "outputs": [
    {
     "data": {
      "text/plain": [
       "(11432, 11432)"
      ]
     },
     "execution_count": 24,
     "metadata": {},
     "output_type": "execute_result"
    }
   ],
   "source": [
    "len(df_level_2_sample), len(df_level_2_premium)"
   ]
  },
  {
   "cell_type": "markdown",
   "metadata": {},
   "source": [
    "### 2.1.5 Filter apps from level 2 on level 0, 1 and 5."
   ]
  },
  {
   "cell_type": "code",
   "execution_count": 25,
   "metadata": {},
   "outputs": [],
   "source": [
    "# Filter on sample apps from level 2\n",
    "df_level_0 = df_level_0[~df_level_0['my_app_id'].isin(df_level_2_sample['my_app_id'])]\n",
    "df_level_1 = df_level_1[~df_level_1['my_app_id'].isin(df_level_2_sample['my_app_id'])]\n",
    "\n",
    "# Filter on premium apps from level 2\n",
    "df_level_5 = df_level_5[~df_level_5['my_app_id'].isin(df_level_2_premium['my_app_id'])]"
   ]
  },
  {
   "cell_type": "markdown",
   "metadata": {},
   "source": [
    "### 2.1.6 Check that all levels have the right apps."
   ]
  },
  {
   "cell_type": "code",
   "execution_count": 26,
   "metadata": {},
   "outputs": [
    {
     "data": {
      "text/html": [
       "<div>\n",
       "<style scoped>\n",
       "    .dataframe tbody tr th:only-of-type {\n",
       "        vertical-align: middle;\n",
       "    }\n",
       "\n",
       "    .dataframe tbody tr th {\n",
       "        vertical-align: top;\n",
       "    }\n",
       "\n",
       "    .dataframe thead th {\n",
       "        text-align: right;\n",
       "    }\n",
       "</style>\n",
       "<table border=\"1\" class=\"dataframe\">\n",
       "  <thead>\n",
       "    <tr style=\"text-align: right;\">\n",
       "      <th></th>\n",
       "      <th>is_free</th>\n",
       "      <th>in_app</th>\n",
       "      <th>has_ads</th>\n",
       "      <th>count</th>\n",
       "    </tr>\n",
       "  </thead>\n",
       "  <tbody>\n",
       "    <tr>\n",
       "      <th>0</th>\n",
       "      <td>False</td>\n",
       "      <td>False</td>\n",
       "      <td>True</td>\n",
       "      <td>3765</td>\n",
       "    </tr>\n",
       "    <tr>\n",
       "      <th>1</th>\n",
       "      <td>False</td>\n",
       "      <td>True</td>\n",
       "      <td>False</td>\n",
       "      <td>2481</td>\n",
       "    </tr>\n",
       "    <tr>\n",
       "      <th>2</th>\n",
       "      <td>False</td>\n",
       "      <td>True</td>\n",
       "      <td>True</td>\n",
       "      <td>532</td>\n",
       "    </tr>\n",
       "  </tbody>\n",
       "</table>\n",
       "</div>"
      ],
      "text/plain": [
       "   is_free  in_app  has_ads  count\n",
       "0    False   False     True   3765\n",
       "1    False    True    False   2481\n",
       "2    False    True     True    532"
      ]
     },
     "execution_count": 26,
     "metadata": {},
     "output_type": "execute_result"
    }
   ],
   "source": [
    "# Check for missing combinations by creating all unique combinations in the data\n",
    "unique_combinations = df_filtered.groupby(['is_free', 'in_app', 'has_ads']).size()\n",
    "\n",
    "# List of all covered combinations in levels\n",
    "covered_combinations = pd.concat([\n",
    "    df_level_0.groupby(['is_free', 'in_app', 'has_ads']).size(),\n",
    "    df_level_1.groupby(['is_free', 'in_app', 'has_ads']).size(),\n",
    "    df_level_2_sample.groupby(['is_free', 'in_app', 'has_ads']).size(),\n",
    "    df_level_2_premium.groupby(['is_free', 'in_app', 'has_ads']).size(),\n",
    "    df_level_3.groupby(['is_free', 'in_app', 'has_ads']).size(),\n",
    "    df_level_4.groupby(['is_free', 'in_app', 'has_ads']).size(),\n",
    "    df_level_5.groupby(['is_free', 'in_app', 'has_ads']).size()\n",
    "])\n",
    "\n",
    "# Identify combinations in the original data that are not covered by the levels\n",
    "missing_combinations = unique_combinations[~unique_combinations.index.isin(covered_combinations.index)]\n",
    "\n",
    "# Convert missing combinations to a DataFrame for easier readability\n",
    "missing_combinations_df = missing_combinations.reset_index(name='count')\n",
    "missing_combinations_df\n"
   ]
  },
  {
   "cell_type": "code",
   "execution_count": 27,
   "metadata": {},
   "outputs": [
    {
     "data": {
      "text/html": [
       "<div>\n",
       "<style scoped>\n",
       "    .dataframe tbody tr th:only-of-type {\n",
       "        vertical-align: middle;\n",
       "    }\n",
       "\n",
       "    .dataframe tbody tr th {\n",
       "        vertical-align: top;\n",
       "    }\n",
       "\n",
       "    .dataframe thead th {\n",
       "        text-align: right;\n",
       "    }\n",
       "</style>\n",
       "<table border=\"1\" class=\"dataframe\">\n",
       "  <thead>\n",
       "    <tr style=\"text-align: right;\">\n",
       "      <th></th>\n",
       "      <th>is_free</th>\n",
       "      <th>in_app</th>\n",
       "      <th>has_ads</th>\n",
       "      <th>level</th>\n",
       "    </tr>\n",
       "  </thead>\n",
       "  <tbody>\n",
       "    <tr>\n",
       "      <th>0</th>\n",
       "      <td>True</td>\n",
       "      <td>False</td>\n",
       "      <td>False</td>\n",
       "      <td>0</td>\n",
       "    </tr>\n",
       "    <tr>\n",
       "      <th>1</th>\n",
       "      <td>True</td>\n",
       "      <td>False</td>\n",
       "      <td>True</td>\n",
       "      <td>1</td>\n",
       "    </tr>\n",
       "    <tr>\n",
       "      <th>2</th>\n",
       "      <td>True</td>\n",
       "      <td>False</td>\n",
       "      <td>[False, True]</td>\n",
       "      <td>2 (Sample)</td>\n",
       "    </tr>\n",
       "    <tr>\n",
       "      <th>3</th>\n",
       "      <td>False</td>\n",
       "      <td>False</td>\n",
       "      <td>False</td>\n",
       "      <td>2 (Premium)</td>\n",
       "    </tr>\n",
       "    <tr>\n",
       "      <th>4</th>\n",
       "      <td>True</td>\n",
       "      <td>True</td>\n",
       "      <td>True</td>\n",
       "      <td>3</td>\n",
       "    </tr>\n",
       "    <tr>\n",
       "      <th>5</th>\n",
       "      <td>True</td>\n",
       "      <td>True</td>\n",
       "      <td>False</td>\n",
       "      <td>4</td>\n",
       "    </tr>\n",
       "    <tr>\n",
       "      <th>6</th>\n",
       "      <td>False</td>\n",
       "      <td>False</td>\n",
       "      <td>False</td>\n",
       "      <td>5</td>\n",
       "    </tr>\n",
       "  </tbody>\n",
       "</table>\n",
       "</div>"
      ],
      "text/plain": [
       "   is_free  in_app        has_ads        level\n",
       "0     True   False          False            0\n",
       "1     True   False           True            1\n",
       "2     True   False  [False, True]   2 (Sample)\n",
       "3    False   False          False  2 (Premium)\n",
       "4     True    True           True            3\n",
       "5     True    True          False            4\n",
       "6    False   False          False            5"
      ]
     },
     "execution_count": 27,
     "metadata": {},
     "output_type": "execute_result"
    }
   ],
   "source": [
    "data = {\n",
    "    \"is_free\": [True, True, True, False, True, True, False],\n",
    "    \"in_app\": [False, False, False, False, True, True, False],\n",
    "    \"has_ads\": [False, True, [False, True], False, True, False, False],\n",
    "    \"level\": [\"0\", \"1\", \"2 (Sample)\", \"2 (Premium)\", \"3\", \"4\", \"5\"]\n",
    "}\n",
    "\n",
    "df_levels = pd.DataFrame(data)\n",
    "df_levels"
   ]
  },
  {
   "cell_type": "code",
   "execution_count": 28,
   "metadata": {
    "ExecuteTime": {
     "end_time": "2024-11-19T19:15:45.402587Z",
     "start_time": "2024-11-19T19:15:45.399575Z"
    }
   },
   "outputs": [
    {
     "name": "stdout",
     "output_type": "stream",
     "text": [
      "Level 0: 313633\n",
      "Level 1: 432264\n",
      "Level 2 sample: 11432\n",
      "Level 2 premium: 11432\n",
      "Level 3: 73753\n",
      "Level 4: 26286\n",
      "Level 5: 48136\n"
     ]
    },
    {
     "data": {
      "text/plain": [
       "923714"
      ]
     },
     "execution_count": 28,
     "metadata": {},
     "output_type": "execute_result"
    }
   ],
   "source": [
    "# print the length of each level\n",
    "print(f\"Level 0: {len(df_level_0)}\")\n",
    "print(f\"Level 1: {len(df_level_1)}\")\n",
    "print(f\"Level 2 sample: {len(df_level_2_sample)}\")\n",
    "print(f\"Level 2 premium: {len(df_level_2_premium)}\")\n",
    "print(f\"Level 3: {len(df_level_3)}\")\n",
    "print(f\"Level 4: {len(df_level_4)}\")\n",
    "print(f\"Level 5: {len(df_level_5)}\")\n",
    "\n",
    "len(df_filtered)"
   ]
  },
  {
   "cell_type": "code",
   "execution_count": 29,
   "metadata": {},
   "outputs": [
    {
     "name": "stdout",
     "output_type": "stream",
     "text": [
      "Total sum of all levels: 916936\n",
      "6778\n",
      "True\n"
     ]
    }
   ],
   "source": [
    "# Assuming the length of each level is stored in variables, calculate the sum of all levels\n",
    "total_length_sum = (\n",
    "    len(df_level_0)\n",
    "    + len(df_level_1)\n",
    "    + len(df_level_2_sample)\n",
    "    + len(df_level_2_premium)\n",
    "    + len(df_level_3)\n",
    "    + len(df_level_4)\n",
    "    + len(df_level_5)\n",
    ")\n",
    "\n",
    "# Print the total sum\n",
    "print(f\"Total sum of all levels: {total_length_sum}\")\n",
    "\n",
    "# print the sum of missed combinations\n",
    "print(missing_combinations_df['count'].sum())\n",
    "\n",
    "# Is the total sum of all levels equal to the length of the original DataFrame?\n",
    "print(total_length_sum + missing_combinations_df['count'].sum() == len(df_filtered))"
   ]
  },
  {
   "cell_type": "markdown",
   "metadata": {},
   "source": [
    "## 2.2 Number of Downloads"
   ]
  },
  {
   "cell_type": "code",
   "execution_count": 30,
   "metadata": {},
   "outputs": [],
   "source": [
    "def convert_to_numeric(value):\n",
    "    \"\"\"\n",
    "    Clean and convert a string value to a numeric value.\n",
    "\n",
    "    Parameters:\n",
    "    value (str): The value to clean and convert.\n",
    "\n",
    "    Returns:\n",
    "    int or float: The cleaned and converted numeric value, or NaN if invalid.\n",
    "    \"\"\"\n",
    "    if pd.isna(value):\n",
    "        return np.nan\n",
    "    try:\n",
    "        # Remove ',', '+', '>' and strip whitespace\n",
    "        cleaned_value = value.replace(',', '').replace('+', '').replace('>', '').strip()\n",
    "        return float(cleaned_value)\n",
    "    except ValueError:\n",
    "        return np.nan\n",
    "\n",
    "def clean_and_convert_column(df, column_name):\n",
    "    \"\"\"\n",
    "    Apply the conversion function to a specified column in a DataFrame.\n",
    "\n",
    "    Parameters:\n",
    "    df (pd.DataFrame): The DataFrame containing the column.\n",
    "    column_name (str): The name of the column to clean and convert.\n",
    "\n",
    "    Returns:\n",
    "    pd.DataFrame: A copy of the DataFrame with the column cleaned and converted.\n",
    "    \"\"\"\n",
    "    df = df.copy()  # Avoid modifying the original DataFrame\n",
    "    df[column_name] = df[column_name].apply(convert_to_numeric)\n",
    "    df[column_name] = pd.to_numeric(df[column_name], errors='coerce')\n",
    "    df[column_name] = df['num_downloads'].astype(int)\n",
    "    return df\n",
    "\n",
    "# List of DataFrames to process\n",
    "dataframes = [\n",
    "    \"df_filtered\", \"df_level_0\", \"df_level_1\", \"df_level_2_sample\", \n",
    "    \"df_level_2_premium\", \"df_level_3\", \"df_level_4\", \"df_level_5\"\n",
    "]\n",
    "\n",
    "# Apply the function to each DataFrame\n",
    "for name in dataframes:\n",
    "    globals()[name] = clean_and_convert_column(globals()[name], column_name=\"num_downloads\")\n"
   ]
  },
  {
   "cell_type": "markdown",
   "metadata": {},
   "source": [
    "## 2.3 Ratings"
   ]
  },
  {
   "cell_type": "code",
   "execution_count": 31,
   "metadata": {},
   "outputs": [],
   "source": [
    "def calculate_bayesian_average(df, rating_col, num_ratings_col, prior_weight):\n",
    "    \"\"\"\n",
    "    Calculate the Bayesian average rating for each app in the DataFrame.\n",
    "\n",
    "    Parameters:\n",
    "    df (pd.DataFrame): The DataFrame containing the data.\n",
    "    rating_col (str): The name of the column containing the app ratings.\n",
    "    num_ratings_col (str): The name of the column containing the number of ratings.\n",
    "    prior_weight (int): The prior weight (m), representing the number of ratings at which the global mean is considered reliable.\n",
    "\n",
    "    Returns:\n",
    "    pd.DataFrame: The DataFrame with a new column 'bayesian_average' added.\n",
    "    \"\"\"\n",
    "    # Create a copy of the DataFrame to avoid SettingWithCopyWarning\n",
    "    df = df.copy()\n",
    "\n",
    "    # Ensure the rating and number of ratings columns are numeric\n",
    "    df[num_ratings_col] = df[num_ratings_col].str.replace(',', '', regex=True)  # Remove commas\n",
    "    df.loc[:, rating_col] = pd.to_numeric(df[rating_col], errors='coerce')\n",
    "    df.loc[:, num_ratings_col] = pd.to_numeric(df[num_ratings_col], errors='coerce')\n",
    "    \n",
    "    # Calculate the global mean rating\n",
    "    global_mean_rating = df[rating_col].mean()\n",
    "    \n",
    "    # Calculate the Bayesian average for each row\n",
    "    df['bayesian_average'] = (\n",
    "        (global_mean_rating * prior_weight + df[rating_col] * df[num_ratings_col]) / \n",
    "        (prior_weight + df[num_ratings_col])\n",
    "    )\n",
    "    \n",
    "    return df\n",
    "\n",
    "# Apply the function to each DataFrame\n",
    "prior_weight = 50  # You can adjust this value as needed\n",
    "\n",
    "dataframes = [\n",
    "    \"df_filtered\", \"df_level_0\", \"df_level_1\", \"df_level_2_sample\", \n",
    "    \"df_level_2_premium\", \"df_level_3\", \"df_level_4\", \"df_level_5\"\n",
    "]\n",
    "\n",
    "for name in dataframes:\n",
    "    globals()[name] = calculate_bayesian_average(\n",
    "        globals()[name], \n",
    "        rating_col=\"rating_app\", \n",
    "        num_ratings_col=\"nb_rating\", \n",
    "        prior_weight=prior_weight\n",
    "    )\n"
   ]
  },
  {
   "cell_type": "markdown",
   "metadata": {},
   "source": [
    "## 2.4 Content Rating"
   ]
  },
  {
   "cell_type": "code",
   "execution_count": 32,
   "metadata": {},
   "outputs": [],
   "source": [
    "def clean_content_rating(df, column_name=\"content_rating_app\"):\n",
    "    \"\"\"\n",
    "    Clean and standardize the content rating column of a DataFrame.\n",
    "\n",
    "    - Extracts PEGI ratings (3, 7, 12, 16, 18) using regex.\n",
    "    - Standardizes values containing 'not yet been rated' to 'not yet been rated'.\n",
    "    - Handles missing or invalid values gracefully.\n",
    "\n",
    "    Parameters:\n",
    "    df (pd.DataFrame): The DataFrame to clean.\n",
    "    column_name (str): The name of the column to clean.\n",
    "\n",
    "    Returns:\n",
    "    pd.DataFrame: The cleaned DataFrame.\n",
    "    \"\"\"\n",
    "    # Ensure the column exists and convert to string to handle NaN\n",
    "    df = df.copy()  # Avoid modifying the original DataFrame\n",
    "    if column_name in df.columns:\n",
    "        df[column_name] = df[column_name].astype(str)\n",
    "\n",
    "        # Extract PEGI ratings using regex\n",
    "        df.loc[:, column_name] = df[column_name].str.extract(r'(PEGI (3|7|12|16|18))', expand=False)[0].fillna(df[column_name])\n",
    "\n",
    "        # Standardize 'not yet been rated'\n",
    "        df.loc[df[column_name].str.contains('not yet been rated', na=False), column_name] = 'not yet been rated'\n",
    "\n",
    "    return df\n",
    "\n",
    "# List of DataFrames to process\n",
    "dataframes = [\n",
    "    \"df_filtered\", \"df_level_0\", \"df_level_1\", \"df_level_2_sample\", \n",
    "    \"df_level_2_premium\", \"df_level_3\", \"df_level_4\", \"df_level_5\"\n",
    "]\n",
    "\n",
    "# Apply the function to each DataFrame\n",
    "for name in dataframes:\n",
    "    globals()[name] = clean_content_rating(globals()[name], column_name=\"content_rating_app\")\n"
   ]
  },
  {
   "cell_type": "markdown",
   "metadata": {},
   "source": [
    "# 3. Hypotheses"
   ]
  },
  {
   "cell_type": "code",
   "execution_count": 33,
   "metadata": {},
   "outputs": [
    {
     "name": "stdout",
     "output_type": "stream",
     "text": [
      "Level 0: 313633\n",
      "Level 1: 432264\n",
      "Level 2 sample: 11432\n",
      "Level 2 premium: 11432\n",
      "Level 3: 73753\n",
      "Level 4: 26286\n",
      "Level 5: 48136\n"
     ]
    }
   ],
   "source": [
    "print(f\"Level 0: {len(df_level_0)}\")\n",
    "print(f\"Level 1: {len(df_level_1)}\")\n",
    "print(f\"Level 2 sample: {len(df_level_2_sample)}\")\n",
    "print(f\"Level 2 premium: {len(df_level_2_premium)}\")\n",
    "print(f\"Level 3: {len(df_level_3)}\")\n",
    "print(f\"Level 4: {len(df_level_4)}\")\n",
    "print(f\"Level 5: {len(df_level_5)}\")"
   ]
  },
  {
   "cell_type": "code",
   "execution_count": 34,
   "metadata": {},
   "outputs": [],
   "source": [
    "# add category to each level\n",
    "df_level_0['level'] = '0'\n",
    "df_level_1['level'] = '1'\n",
    "df_level_2_sample['level'] = '2 (Sample)'\n",
    "df_level_2_premium['level'] = '2 (Premium)'\n",
    "df_level_3['level'] = '3'\n",
    "df_level_4['level'] = '4'\n",
    "df_level_5['level'] = '5'\n",
    "\n",
    "# combine all levels\n",
    "df_level_combined = pd.concat([df_level_0, df_level_1, df_level_2_sample, df_level_2_premium, df_level_3, df_level_4, df_level_5])"
   ]
  },
  {
   "cell_type": "code",
   "execution_count": 35,
   "metadata": {},
   "outputs": [
    {
     "name": "stdout",
     "output_type": "stream",
     "text": [
      "<class 'pandas.core.frame.DataFrame'>\n",
      "Index: 916936 entries, 14 to 1016643\n",
      "Data columns (total 17 columns):\n",
      " #   Column              Non-Null Count   Dtype  \n",
      "---  ------              --------------   -----  \n",
      " 0   my_app_id           916936 non-null  object \n",
      " 1   num_downloads       916936 non-null  int64  \n",
      " 2   rating_app          916936 non-null  float64\n",
      " 3   nb_rating           916936 non-null  object \n",
      " 4   price_gplay         916936 non-null  object \n",
      " 5   in_app              916936 non-null  bool   \n",
      " 6   content_rating_app  916936 non-null  object \n",
      " 7   categ_app           916936 non-null  object \n",
      " 8   date_published      916936 non-null  object \n",
      " 9   has_ads             916936 non-null  bool   \n",
      " 10  family_library      916936 non-null  bool   \n",
      " 11  developer_name      916936 non-null  object \n",
      " 12  developer_info      916936 non-null  object \n",
      " 13  price_value         916936 non-null  float64\n",
      " 14  is_free             916936 non-null  bool   \n",
      " 15  bayesian_average    916936 non-null  object \n",
      " 16  level               916936 non-null  object \n",
      "dtypes: bool(4), float64(2), int64(1), object(10)\n",
      "memory usage: 101.4+ MB\n"
     ]
    }
   ],
   "source": [
    "df_level_combined.info()"
   ]
  },
  {
   "cell_type": "code",
   "execution_count": 37,
   "metadata": {},
   "outputs": [
    {
     "data": {
      "text/html": [
       "<div>\n",
       "<style scoped>\n",
       "    .dataframe tbody tr th:only-of-type {\n",
       "        vertical-align: middle;\n",
       "    }\n",
       "\n",
       "    .dataframe tbody tr th {\n",
       "        vertical-align: top;\n",
       "    }\n",
       "\n",
       "    .dataframe thead th {\n",
       "        text-align: right;\n",
       "    }\n",
       "</style>\n",
       "<table border=\"1\" class=\"dataframe\">\n",
       "  <thead>\n",
       "    <tr style=\"text-align: right;\">\n",
       "      <th></th>\n",
       "      <th>my_app_id</th>\n",
       "      <th>num_downloads</th>\n",
       "      <th>rating_app</th>\n",
       "      <th>nb_rating</th>\n",
       "      <th>price_gplay</th>\n",
       "      <th>in_app</th>\n",
       "      <th>content_rating_app</th>\n",
       "      <th>categ_app</th>\n",
       "      <th>date_published</th>\n",
       "      <th>has_ads</th>\n",
       "      <th>family_library</th>\n",
       "      <th>developer_name</th>\n",
       "      <th>developer_info</th>\n",
       "      <th>price_value</th>\n",
       "      <th>is_free</th>\n",
       "      <th>bayesian_average</th>\n",
       "      <th>level</th>\n",
       "    </tr>\n",
       "  </thead>\n",
       "  <tbody>\n",
       "    <tr>\n",
       "      <th>439554</th>\n",
       "      <td>com.mxtech.videoplayer.ad</td>\n",
       "      <td>500000000</td>\n",
       "      <td>4.5</td>\n",
       "      <td>7261614</td>\n",
       "      <td>0 USD</td>\n",
       "      <td>False</td>\n",
       "      <td>PEGI 3</td>\n",
       "      <td>Video Players &amp; Editors</td>\n",
       "      <td>May 10, 2019</td>\n",
       "      <td>True</td>\n",
       "      <td>False</td>\n",
       "      <td>J2 Interactive</td>\n",
       "      <td>Visit website    support@mxplayer.in    Privac...</td>\n",
       "      <td>0.0</td>\n",
       "      <td>True</td>\n",
       "      <td>4.499997</td>\n",
       "      <td>2 (Sample)</td>\n",
       "    </tr>\n",
       "    <tr>\n",
       "      <th>141427</th>\n",
       "      <td>com.appstar.callrecorder</td>\n",
       "      <td>100000000</td>\n",
       "      <td>4.3</td>\n",
       "      <td>1953159</td>\n",
       "      <td>0 USD</td>\n",
       "      <td>False</td>\n",
       "      <td>PEGI 3</td>\n",
       "      <td>Tools</td>\n",
       "      <td>May 5, 2019</td>\n",
       "      <td>True</td>\n",
       "      <td>False</td>\n",
       "      <td>Appliqato</td>\n",
       "      <td>Visit website    support@appliqato.com    Priv...</td>\n",
       "      <td>0.0</td>\n",
       "      <td>True</td>\n",
       "      <td>4.299993</td>\n",
       "      <td>2 (Sample)</td>\n",
       "    </tr>\n",
       "    <tr>\n",
       "      <th>490247</th>\n",
       "      <td>com.popularapp.periodcalendar</td>\n",
       "      <td>100000000</td>\n",
       "      <td>4.8</td>\n",
       "      <td>4855165</td>\n",
       "      <td>0 USD</td>\n",
       "      <td>False</td>\n",
       "      <td>PEGI 3</td>\n",
       "      <td>Health &amp; Fitness</td>\n",
       "      <td>April 16, 2019</td>\n",
       "      <td>True</td>\n",
       "      <td>False</td>\n",
       "      <td>Simple Design Ltd.</td>\n",
       "      <td>abishkking@gmail.com    Privacy Policy   UNIT0...</td>\n",
       "      <td>0.0</td>\n",
       "      <td>True</td>\n",
       "      <td>4.799992</td>\n",
       "      <td>2 (Sample)</td>\n",
       "    </tr>\n",
       "    <tr>\n",
       "      <th>552702</th>\n",
       "      <td>com.sonyericsson.extras.liveware</td>\n",
       "      <td>100000000</td>\n",
       "      <td>4.1</td>\n",
       "      <td>188232</td>\n",
       "      <td>0 USD</td>\n",
       "      <td>False</td>\n",
       "      <td>PEGI 3</td>\n",
       "      <td>Tools</td>\n",
       "      <td>March 29, 2019</td>\n",
       "      <td>False</td>\n",
       "      <td>False</td>\n",
       "      <td>Sony Mobile Communications</td>\n",
       "      <td>Visit website    apps@sonymobile.com    Privac...</td>\n",
       "      <td>0.0</td>\n",
       "      <td>True</td>\n",
       "      <td>4.099981</td>\n",
       "      <td>2 (Sample)</td>\n",
       "    </tr>\n",
       "    <tr>\n",
       "      <th>927863</th>\n",
       "      <td>com.lazyswipe</td>\n",
       "      <td>100000000</td>\n",
       "      <td>4.5</td>\n",
       "      <td>3042012</td>\n",
       "      <td>0</td>\n",
       "      <td>False</td>\n",
       "      <td>PEGI 3</td>\n",
       "      <td>Tools</td>\n",
       "      <td>May 11, 2018</td>\n",
       "      <td>True</td>\n",
       "      <td>False</td>\n",
       "      <td>Holaverse Group</td>\n",
       "      <td>Visit website    omniswipe@holaverse.com    Pr...</td>\n",
       "      <td>0.0</td>\n",
       "      <td>True</td>\n",
       "      <td>4.499992</td>\n",
       "      <td>2 (Sample)</td>\n",
       "    </tr>\n",
       "  </tbody>\n",
       "</table>\n",
       "</div>"
      ],
      "text/plain": [
       "                               my_app_id  num_downloads  rating_app nb_rating  \\\n",
       "439554         com.mxtech.videoplayer.ad      500000000         4.5   7261614   \n",
       "141427          com.appstar.callrecorder      100000000         4.3   1953159   \n",
       "490247     com.popularapp.periodcalendar      100000000         4.8   4855165   \n",
       "552702  com.sonyericsson.extras.liveware      100000000         4.1    188232   \n",
       "927863                     com.lazyswipe      100000000         4.5   3042012   \n",
       "\n",
       "       price_gplay  in_app content_rating_app                categ_app  \\\n",
       "439554       0 USD   False             PEGI 3  Video Players & Editors   \n",
       "141427       0 USD   False             PEGI 3                    Tools   \n",
       "490247       0 USD   False             PEGI 3         Health & Fitness   \n",
       "552702       0 USD   False             PEGI 3                    Tools   \n",
       "927863           0   False             PEGI 3                    Tools   \n",
       "\n",
       "        date_published  has_ads  family_library              developer_name  \\\n",
       "439554    May 10, 2019     True           False              J2 Interactive   \n",
       "141427     May 5, 2019     True           False                   Appliqato   \n",
       "490247  April 16, 2019     True           False          Simple Design Ltd.   \n",
       "552702  March 29, 2019    False           False  Sony Mobile Communications   \n",
       "927863    May 11, 2018     True           False             Holaverse Group   \n",
       "\n",
       "                                           developer_info  price_value  \\\n",
       "439554  Visit website    support@mxplayer.in    Privac...          0.0   \n",
       "141427  Visit website    support@appliqato.com    Priv...          0.0   \n",
       "490247  abishkking@gmail.com    Privacy Policy   UNIT0...          0.0   \n",
       "552702  Visit website    apps@sonymobile.com    Privac...          0.0   \n",
       "927863  Visit website    omniswipe@holaverse.com    Pr...          0.0   \n",
       "\n",
       "        is_free bayesian_average       level  \n",
       "439554     True         4.499997  2 (Sample)  \n",
       "141427     True         4.299993  2 (Sample)  \n",
       "490247     True         4.799992  2 (Sample)  \n",
       "552702     True         4.099981  2 (Sample)  \n",
       "927863     True         4.499992  2 (Sample)  "
      ]
     },
     "execution_count": 37,
     "metadata": {},
     "output_type": "execute_result"
    }
   ],
   "source": [
    "df_level_2_sample.sort_values(by='num_downloads', ascending=False).head()"
   ]
  },
  {
   "cell_type": "code",
   "execution_count": 38,
   "metadata": {},
   "outputs": [],
   "source": [
    "# write the dataframes to csv\n",
    "df_level_combined.to_csv('./SBM Group Project/data/google_data_levels_combined.csv', index=False)\n",
    "df_similarities.to_csv('./SBM Group Project/data/mapping_level_2.csv', index=False)"
   ]
  },
  {
   "cell_type": "markdown",
   "metadata": {},
   "source": [
    "## 3.1 Popularity"
   ]
  },
  {
   "cell_type": "markdown",
   "metadata": {},
   "source": [
    "* H1a: Apps that allow the user to have free access to all features (level 0 and 1) will have the highest amount of downloads overall. However, the ratings may fluctuate, as quality can vary for free-to-access apps.\n",
    "* H1b: The apps with the most downloads will be level 1. Most social media platforms, which dominate our culture, tend to have this revenue stream (Djaruma et al. 2023).\n",
    "* H1c: For apps that utilize a sample and a premium version of the same app (level 2), the free versions of an app will have more downloads than their paid-for counterpart. Most, if not all, users will download the free version first, and then might upgrade. This means there should be a disparity between the number of downloads between the apps, as is also demonstrated by Liu, Au, and Choi (2012).\n",
    "* H1d: The most downloaded apps in the gaming category will likely fall under level 4. Many popular games use this type of “pay-to-win” mechanism (Nieborg 2016). Therefore, it would be expected this same pattern would arise from our data."
   ]
  },
  {
   "cell_type": "markdown",
   "metadata": {},
   "source": [
    "### 3.1.1 H1a"
   ]
  },
  {
   "cell_type": "code",
   "execution_count": 39,
   "metadata": {},
   "outputs": [],
   "source": [
    "df_h1a = df_level_combined.copy()\n",
    "\n",
    "# if level is 0 or 1 then new column category is 'Free apps'\n",
    "df_h1a['category'] = ['Free all feature apps' if level in ['0', '1'] else 'Free/Paid not all feature apps' for level in df_h1a['level']]"
   ]
  },
  {
   "cell_type": "code",
   "execution_count": 40,
   "metadata": {},
   "outputs": [],
   "source": [
    "# Calculate the sum of downloads for each category\n",
    "total_downloads_h1a = df_h1a.groupby('category')['num_downloads'].sum().reset_index()"
   ]
  },
  {
   "cell_type": "markdown",
   "metadata": {},
   "source": [
    "#### 3.1.1.1 Apps that allow the user to have free access to all features (level 0 and 1) will have the highest amount of downloads overall."
   ]
  },
  {
   "cell_type": "code",
   "execution_count": 41,
   "metadata": {},
   "outputs": [
    {
     "data": {
      "image/png": "[encoded data removed]",
      "text/plain": [
       "<Figure size 1000x600 with 1 Axes>"
      ]
     },
     "metadata": {},
     "output_type": "display_data"
    }
   ],
   "source": [
    "# Make a bar chart \n",
    "plt.figure(figsize=(10, 6))\n",
    "sns.barplot(data=total_downloads_h1a, x='category', y='num_downloads', hue='category', palette='viridis', dodge=False)\n",
    "plt.title('Total Number of Downloads by Category')\n",
    "plt.xlabel('Category')\n",
    "plt.ylabel('Total Number of Downloads')\n",
    "plt.show()"
   ]
  },
  {
   "cell_type": "markdown",
   "metadata": {},
   "source": [
    "#### 3.1.1.2 However, the ratings may fluctuate, as quality can vary for free-to-access apps."
   ]
  },
  {
   "cell_type": "code",
   "execution_count": 42,
   "metadata": {},
   "outputs": [
    {
     "data": {
      "text/html": [
       "<div>\n",
       "<style scoped>\n",
       "    .dataframe tbody tr th:only-of-type {\n",
       "        vertical-align: middle;\n",
       "    }\n",
       "\n",
       "    .dataframe tbody tr th {\n",
       "        vertical-align: top;\n",
       "    }\n",
       "\n",
       "    .dataframe thead th {\n",
       "        text-align: right;\n",
       "    }\n",
       "</style>\n",
       "<table border=\"1\" class=\"dataframe\">\n",
       "  <thead>\n",
       "    <tr style=\"text-align: right;\">\n",
       "      <th></th>\n",
       "      <th>category</th>\n",
       "      <th>variance in rating</th>\n",
       "      <th>standard deviation in rating</th>\n",
       "    </tr>\n",
       "  </thead>\n",
       "  <tbody>\n",
       "    <tr>\n",
       "      <th>0</th>\n",
       "      <td>Free all feature apps</td>\n",
       "      <td>0.531282</td>\n",
       "      <td>0.728891</td>\n",
       "    </tr>\n",
       "    <tr>\n",
       "      <th>1</th>\n",
       "      <td>Free/Paid not all feature apps</td>\n",
       "      <td>0.511318</td>\n",
       "      <td>0.715065</td>\n",
       "    </tr>\n",
       "  </tbody>\n",
       "</table>\n",
       "</div>"
      ],
      "text/plain": [
       "                         category  variance in rating   \n",
       "0           Free all feature apps            0.531282  \\\n",
       "1  Free/Paid not all feature apps            0.511318   \n",
       "\n",
       "   standard deviation in rating  \n",
       "0                      0.728891  \n",
       "1                      0.715065  "
      ]
     },
     "execution_count": 42,
     "metadata": {},
     "output_type": "execute_result"
    }
   ],
   "source": [
    "# Calculate variance and standard deviation for each category\n",
    "df_stats_h1a = df_h1a.groupby('category')['rating_app'].agg(['var', 'std']).reset_index()\n",
    "\n",
    "# Rename columns for clarity\n",
    "df_stats_h1a.rename(columns={'var': 'variance in rating', 'std': 'standard deviation in rating'}, inplace=True)\n",
    "\n",
    "df_stats_h1a"
   ]
  },
  {
   "cell_type": "code",
   "execution_count": 43,
   "metadata": {},
   "outputs": [
    {
     "data": {
      "image/png": "[encoded data removed]",
      "text/plain": [
       "<Figure size 1000x600 with 1 Axes>"
      ]
     },
     "metadata": {},
     "output_type": "display_data"
    }
   ],
   "source": [
    "plt.figure(figsize=(10, 6))\n",
    "sns.boxplot(data=df_h1a, x='category', y='rating_app')\n",
    "plt.title('App Ratings by Category')\n",
    "plt.xlabel('Category')\n",
    "plt.ylabel('Ratings')\n",
    "plt.show()"
   ]
  },
  {
   "cell_type": "code",
   "execution_count": 44,
   "metadata": {},
   "outputs": [
    {
     "name": "stderr",
     "output_type": "stream",
     "text": [
      "C:\\Users\\Kevin\\AppData\\Local\\Temp\\ipykernel_11244\\926861678.py:3: FutureWarning: \n",
      "\n",
      "Passing `palette` without assigning `hue` is deprecated and will be removed in v0.14.0. Assign the `x` variable to `hue` and set `legend=False` for the same effect.\n",
      "\n",
      "  sns.barplot(data=variance_data, x='category', y='rating_app', palette='viridis')\n"
     ]
    },
    {
     "data": {
      "image/png": "[encoded data removed]",
      "text/plain": [
       "<Figure size 1000x600 with 1 Axes>"
      ]
     },
     "metadata": {},
     "output_type": "display_data"
    }
   ],
   "source": [
    "plt.figure(figsize=(10, 6))\n",
    "variance_data = df_h1a.groupby('category')['rating_app'].var().reset_index()\n",
    "sns.barplot(data=variance_data, x='category', y='rating_app', palette='viridis')\n",
    "plt.title('Variance of Ratings by Category')\n",
    "plt.xlabel('Category')\n",
    "plt.ylabel('Variance of Ratings')\n",
    "plt.show()"
   ]
  },
  {
   "cell_type": "markdown",
   "metadata": {},
   "source": [
    "### 3.1.2 H1b"
   ]
  },
  {
   "cell_type": "markdown",
   "metadata": {},
   "source": [
    "Our key findings reveal that 7 out of the top 9 apps fall within the freemium spectrum, enabling users to access their platforms freely but with certain “drawbacks.” This validation underscores that implementing the freemium model is the most effective strategy, regardless of the app category, due to its flexibility in attracting a substantial user base and generating significant revenue.\n",
    "Among these freemium apps, it is evident that the network effect plays a crucial role, as seen in platforms like Instagram, TikTok, Snapchat, and Facebook, where the number of followers leads users to promote themselves and others through each platform."
   ]
  },
  {
   "cell_type": "code",
   "execution_count": 45,
   "metadata": {},
   "outputs": [],
   "source": [
    "df_h1b = df_level_combined.copy()"
   ]
  },
  {
   "cell_type": "code",
   "execution_count": 46,
   "metadata": {},
   "outputs": [],
   "source": [
    "# convert float to int for num_downloads\n",
    "df_h1b['num_downloads'] = df_h1b['num_downloads'].astype(int)"
   ]
  },
  {
   "cell_type": "code",
   "execution_count": 47,
   "metadata": {},
   "outputs": [],
   "source": [
    "# relevant columns\n",
    "relevant_columns_h1b = ['my_app_id', 'num_downloads', 'categ_app', 'level', 'developer_name']\n",
    "\n",
    "# filter the relevant columns\n",
    "df_h1b = df_h1b[relevant_columns_h1b]"
   ]
  },
  {
   "cell_type": "code",
   "execution_count": 48,
   "metadata": {},
   "outputs": [],
   "source": [
    "# Calculate the sum of downloads for each level\n",
    "total_downloads_h1b = df_h1b.groupby('level')['num_downloads'].sum().reset_index()"
   ]
  },
  {
   "cell_type": "code",
   "execution_count": 49,
   "metadata": {},
   "outputs": [
    {
     "data": {
      "image/png": "[encoded data removed]",
      "text/plain": [
       "<Figure size 1000x600 with 1 Axes>"
      ]
     },
     "metadata": {},
     "output_type": "display_data"
    }
   ],
   "source": [
    "# Sort the dataframe by 'num_downloads' in descending order\n",
    "df_sorted = df_h1b.sort_values(by='num_downloads', ascending=False)\n",
    "\n",
    "# Calculate the cumulative percentage of downloads\n",
    "df_sorted['cumulative_percentage_downloads'] = df_sorted['num_downloads'].cumsum() / df_sorted['num_downloads'].sum() * 100\n",
    "\n",
    "# Create a Lorenz curve-style plot\n",
    "plt.figure(figsize=(10, 6))\n",
    "plt.plot(range(1, len(df_sorted) + 1), df_sorted['cumulative_percentage_downloads'], label='Cumulative Downloads')\n",
    "plt.plot([1, len(df_sorted)], [0, 100], linestyle='--', color='gray', label='Equality Line')\n",
    "\n",
    "# Add labels and title\n",
    "plt.title('Distribution of App Downloads (Top-Heavy Analysis)')\n",
    "plt.xlabel('Apps (sorted by downloads)')\n",
    "plt.ylabel('Cumulative Percentage of Downloads')\n",
    "plt.legend()\n",
    "plt.grid(True)\n",
    "plt.show()"
   ]
  },
  {
   "cell_type": "code",
   "execution_count": null,
   "metadata": {},
   "outputs": [],
   "source": []
  },
  {
   "cell_type": "markdown",
   "metadata": {},
   "source": [
    "#### 3.1.2.1 The apps with the most downloads will be level 1."
   ]
  },
  {
   "cell_type": "code",
   "execution_count": 50,
   "metadata": {},
   "outputs": [
    {
     "data": {
      "image/png": "[encoded data removed]",
      "text/plain": [
       "<Figure size 1000x600 with 1 Axes>"
      ]
     },
     "metadata": {},
     "output_type": "display_data"
    }
   ],
   "source": [
    "# Make a bar chart \n",
    "plt.figure(figsize=(10, 6))\n",
    "sns.barplot(data=total_downloads_h1b, x='level', y='num_downloads', hue='level', palette='viridis', dodge=False)\n",
    "plt.title('Total Number of Downloads by Level')\n",
    "plt.xlabel('Level')\n",
    "plt.ylabel('Total Number of Downloads')\n",
    "plt.show()\n",
    "\n"
   ]
  },
  {
   "cell_type": "markdown",
   "metadata": {},
   "source": [
    "#### 3.1.2.2 Most social media platforms, which dominate our culture, tend to have this revenue stream (Djaruma et al. 2023)."
   ]
  },
  {
   "cell_type": "code",
   "execution_count": 51,
   "metadata": {},
   "outputs": [
    {
     "data": {
      "text/html": [
       "<div>\n",
       "<style scoped>\n",
       "    .dataframe tbody tr th:only-of-type {\n",
       "        vertical-align: middle;\n",
       "    }\n",
       "\n",
       "    .dataframe tbody tr th {\n",
       "        vertical-align: top;\n",
       "    }\n",
       "\n",
       "    .dataframe thead th {\n",
       "        text-align: right;\n",
       "    }\n",
       "</style>\n",
       "<table border=\"1\" class=\"dataframe\">\n",
       "  <thead>\n",
       "    <tr style=\"text-align: right;\">\n",
       "      <th></th>\n",
       "      <th>Name</th>\n",
       "      <th>Monetization Type</th>\n",
       "      <th>Detail</th>\n",
       "    </tr>\n",
       "  </thead>\n",
       "  <tbody>\n",
       "    <tr>\n",
       "      <th>0</th>\n",
       "      <td>Amazon</td>\n",
       "      <td>Freemium</td>\n",
       "      <td>Ads, IAP</td>\n",
       "    </tr>\n",
       "    <tr>\n",
       "      <th>1</th>\n",
       "      <td>Facebook</td>\n",
       "      <td>Freemium</td>\n",
       "      <td>Ads</td>\n",
       "    </tr>\n",
       "    <tr>\n",
       "      <th>2</th>\n",
       "      <td>Instagram</td>\n",
       "      <td>Freemium</td>\n",
       "      <td>Ads</td>\n",
       "    </tr>\n",
       "    <tr>\n",
       "      <th>3</th>\n",
       "      <td>Messenger</td>\n",
       "      <td>Freemium</td>\n",
       "      <td>Ads, IAP</td>\n",
       "    </tr>\n",
       "    <tr>\n",
       "      <th>4</th>\n",
       "      <td>Netflix</td>\n",
       "      <td>Premium</td>\n",
       "      <td>Subscription</td>\n",
       "    </tr>\n",
       "    <tr>\n",
       "      <th>5</th>\n",
       "      <td>Snapchat</td>\n",
       "      <td>Freemium</td>\n",
       "      <td>Ads</td>\n",
       "    </tr>\n",
       "    <tr>\n",
       "      <th>6</th>\n",
       "      <td>Spotify</td>\n",
       "      <td>Freemium</td>\n",
       "      <td>Ads, Subscription</td>\n",
       "    </tr>\n",
       "    <tr>\n",
       "      <th>7</th>\n",
       "      <td>TikTok</td>\n",
       "      <td>Freemium</td>\n",
       "      <td>Ads, IAP</td>\n",
       "    </tr>\n",
       "    <tr>\n",
       "      <th>8</th>\n",
       "      <td>WhatsApp</td>\n",
       "      <td>Free</td>\n",
       "      <td>-</td>\n",
       "    </tr>\n",
       "  </tbody>\n",
       "</table>\n",
       "</div>"
      ],
      "text/plain": [
       "        Name Monetization Type             Detail\n",
       "0     Amazon          Freemium           Ads, IAP\n",
       "1   Facebook          Freemium                Ads\n",
       "2  Instagram          Freemium                Ads\n",
       "3  Messenger          Freemium           Ads, IAP\n",
       "4    Netflix           Premium       Subscription\n",
       "5   Snapchat          Freemium                Ads\n",
       "6    Spotify          Freemium  Ads, Subscription\n",
       "7     TikTok          Freemium           Ads, IAP\n",
       "8   WhatsApp              Free                  -"
      ]
     },
     "execution_count": 51,
     "metadata": {},
     "output_type": "execute_result"
    }
   ],
   "source": [
    "import pandas as pd\n",
    "\n",
    "# Creating a DataFrame from the given table in the image\n",
    "data = {\n",
    "    \"Name\": [\"Amazon\", \"Facebook\", \"Instagram\", \"Messenger\", \"Netflix\", \"Snapchat\", \"Spotify\", \"TikTok\", \"WhatsApp\"],\n",
    "    \"Monetization Type\": [\"Freemium\", \"Freemium\", \"Freemium\", \"Freemium\", \"Premium\", \"Freemium\", \"Freemium\", \"Freemium\", \"Free\"],\n",
    "    \"Detail\": [\"Ads, IAP\", \"Ads\", \"Ads\", \"Ads, IAP\", \"Subscription\", \"Ads\", \"Ads, Subscription\", \"Ads, IAP\", \"-\"]\n",
    "}\n",
    "\n",
    "df = pd.DataFrame(data)\n",
    "df\n"
   ]
  },
  {
   "cell_type": "code",
   "execution_count": 52,
   "metadata": {},
   "outputs": [
    {
     "data": {
      "text/html": [
       "<div>\n",
       "<style scoped>\n",
       "    .dataframe tbody tr th:only-of-type {\n",
       "        vertical-align: middle;\n",
       "    }\n",
       "\n",
       "    .dataframe tbody tr th {\n",
       "        vertical-align: top;\n",
       "    }\n",
       "\n",
       "    .dataframe thead th {\n",
       "        text-align: right;\n",
       "    }\n",
       "</style>\n",
       "<table border=\"1\" class=\"dataframe\">\n",
       "  <thead>\n",
       "    <tr style=\"text-align: right;\">\n",
       "      <th></th>\n",
       "      <th>id</th>\n",
       "      <th>App Name</th>\n",
       "      <th>Downloads (in B)</th>\n",
       "      <th>Category</th>\n",
       "      <th>Level</th>\n",
       "    </tr>\n",
       "  </thead>\n",
       "  <tbody>\n",
       "    <tr>\n",
       "      <th>631105</th>\n",
       "      <td>com.whatsapp</td>\n",
       "      <td>WhatsApp</td>\n",
       "      <td>1000000000</td>\n",
       "      <td>Communication</td>\n",
       "      <td>0</td>\n",
       "    </tr>\n",
       "    <tr>\n",
       "      <th>109761</th>\n",
       "      <td>com.amazon.mShop.android.shopping</td>\n",
       "      <td>Amazon Shopping</td>\n",
       "      <td>100000000</td>\n",
       "      <td>Shopping</td>\n",
       "      <td>1</td>\n",
       "    </tr>\n",
       "    <tr>\n",
       "      <th>264375</th>\n",
       "      <td>com.facebook.lite</td>\n",
       "      <td>Facebook Lite</td>\n",
       "      <td>1000000000</td>\n",
       "      <td>Social</td>\n",
       "      <td>1</td>\n",
       "    </tr>\n",
       "    <tr>\n",
       "      <th>340427</th>\n",
       "      <td>com.instagram.android</td>\n",
       "      <td>Instagram</td>\n",
       "      <td>1000000000</td>\n",
       "      <td>Social</td>\n",
       "      <td>1</td>\n",
       "    </tr>\n",
       "    <tr>\n",
       "      <th>548242</th>\n",
       "      <td>com.snapchat.android</td>\n",
       "      <td>Snapchat</td>\n",
       "      <td>500000000</td>\n",
       "      <td>Social</td>\n",
       "      <td>1</td>\n",
       "    </tr>\n",
       "    <tr>\n",
       "      <th>557054</th>\n",
       "      <td>com.spotify.music</td>\n",
       "      <td>Spotify</td>\n",
       "      <td>500000000</td>\n",
       "      <td>Music &amp; Audio</td>\n",
       "      <td>1</td>\n",
       "    </tr>\n",
       "    <tr>\n",
       "      <th>264379</th>\n",
       "      <td>com.facebook.orca</td>\n",
       "      <td>Facebook Messenger</td>\n",
       "      <td>1000000000</td>\n",
       "      <td>Communication</td>\n",
       "      <td>4</td>\n",
       "    </tr>\n",
       "    <tr>\n",
       "      <th>449184</th>\n",
       "      <td>com.netflix.mediaclient</td>\n",
       "      <td>Netflix</td>\n",
       "      <td>500000000</td>\n",
       "      <td>Entertainment</td>\n",
       "      <td>4</td>\n",
       "    </tr>\n",
       "  </tbody>\n",
       "</table>\n",
       "</div>"
      ],
      "text/plain": [
       "                                       id            App Name   \n",
       "631105                       com.whatsapp            WhatsApp  \\\n",
       "109761  com.amazon.mShop.android.shopping     Amazon Shopping   \n",
       "264375                  com.facebook.lite       Facebook Lite   \n",
       "340427              com.instagram.android           Instagram   \n",
       "548242               com.snapchat.android            Snapchat   \n",
       "557054                  com.spotify.music             Spotify   \n",
       "264379                  com.facebook.orca  Facebook Messenger   \n",
       "449184            com.netflix.mediaclient             Netflix   \n",
       "\n",
       "        Downloads (in B)       Category Level  \n",
       "631105        1000000000  Communication     0  \n",
       "109761         100000000       Shopping     1  \n",
       "264375        1000000000         Social     1  \n",
       "340427        1000000000         Social     1  \n",
       "548242         500000000         Social     1  \n",
       "557054         500000000  Music & Audio     1  \n",
       "264379        1000000000  Communication     4  \n",
       "449184         500000000  Entertainment     4  "
      ]
     },
     "execution_count": 52,
     "metadata": {},
     "output_type": "execute_result"
    }
   ],
   "source": [
    "df_h1b = df_h1b[df_h1b['my_app_id'].isin(['com.amazon.mShop.android.shopping', 'com.instagram.android', 'com.facebook.lite', 'com.netflix.mediaclient', 'com.snapchat.android', 'com.spotify.music', 'com.whatsapp', 'com.facebook.orca'])]\n",
    "\n",
    "df_h1b = df_h1b[['my_app_id', 'num_downloads', 'categ_app', 'level']]\n",
    "\n",
    "app_mapping = {\n",
    "    'com.amazon.mShop.android.shopping': 'Amazon Shopping',\n",
    "    'com.instagram.android': 'Instagram',\n",
    "    'com.facebook.lite': 'Facebook Lite',\n",
    "    'com.netflix.mediaclient': 'Netflix',\n",
    "    'com.snapchat.android': 'Snapchat',\n",
    "    'com.spotify.music': 'Spotify',\n",
    "    'com.whatsapp': 'WhatsApp',\n",
    "    'com.facebook.orca': 'Facebook Messenger'\n",
    "}\n",
    "\n",
    "# Map app names to the 'my_app_id' column\n",
    "df_h1b['app_name'] = df_h1b['my_app_id'].map(app_mapping)\n",
    "\n",
    "# Reorder columns for better readability\n",
    "df_h1b = df_h1b[['my_app_id', 'app_name', 'num_downloads', 'categ_app', 'level']]\n",
    "\n",
    "\n",
    "# Rename columns as per requirement\n",
    "df_h1b = df_h1b.rename(columns={\n",
    "    'my_app_id': 'id',\n",
    "    'app_name': 'App Name',\n",
    "    'num_downloads': 'Downloads (in B)',\n",
    "    'level': 'Level',\n",
    "    'categ_app': 'Category'\n",
    "})\n",
    "\n",
    "df_h1b"
   ]
  },
  {
   "cell_type": "code",
   "execution_count": 53,
   "metadata": {},
   "outputs": [
    {
     "data": {
      "text/html": [
       "<div>\n",
       "<style scoped>\n",
       "    .dataframe tbody tr th:only-of-type {\n",
       "        vertical-align: middle;\n",
       "    }\n",
       "\n",
       "    .dataframe tbody tr th {\n",
       "        vertical-align: top;\n",
       "    }\n",
       "\n",
       "    .dataframe thead th {\n",
       "        text-align: right;\n",
       "    }\n",
       "</style>\n",
       "<table border=\"1\" class=\"dataframe\">\n",
       "  <thead>\n",
       "    <tr style=\"text-align: right;\">\n",
       "      <th></th>\n",
       "      <th>id</th>\n",
       "      <th>App Name</th>\n",
       "      <th>Downloads (in B)</th>\n",
       "      <th>Category</th>\n",
       "      <th>Level</th>\n",
       "    </tr>\n",
       "  </thead>\n",
       "  <tbody>\n",
       "    <tr>\n",
       "      <th>264375</th>\n",
       "      <td>com.facebook.lite</td>\n",
       "      <td>Facebook Lite</td>\n",
       "      <td>1000000000</td>\n",
       "      <td>Social</td>\n",
       "      <td>1</td>\n",
       "    </tr>\n",
       "    <tr>\n",
       "      <th>340427</th>\n",
       "      <td>com.instagram.android</td>\n",
       "      <td>Instagram</td>\n",
       "      <td>1000000000</td>\n",
       "      <td>Social</td>\n",
       "      <td>1</td>\n",
       "    </tr>\n",
       "    <tr>\n",
       "      <th>548242</th>\n",
       "      <td>com.snapchat.android</td>\n",
       "      <td>Snapchat</td>\n",
       "      <td>500000000</td>\n",
       "      <td>Social</td>\n",
       "      <td>1</td>\n",
       "    </tr>\n",
       "  </tbody>\n",
       "</table>\n",
       "</div>"
      ],
      "text/plain": [
       "                           id       App Name  Downloads (in B) Category Level\n",
       "264375      com.facebook.lite  Facebook Lite        1000000000   Social     1\n",
       "340427  com.instagram.android      Instagram        1000000000   Social     1\n",
       "548242   com.snapchat.android       Snapchat         500000000   Social     1"
      ]
     },
     "execution_count": 53,
     "metadata": {},
     "output_type": "execute_result"
    }
   ],
   "source": [
    "# Top social apps by number of downloads\n",
    "df_h1b[df_h1b['Category'] == 'Social'].sort_values(by='Downloads (in B)', ascending=False).head(10)"
   ]
  },
  {
   "cell_type": "code",
   "execution_count": 54,
   "metadata": {},
   "outputs": [
    {
     "data": {
      "text/html": [
       "<div>\n",
       "<style scoped>\n",
       "    .dataframe tbody tr th:only-of-type {\n",
       "        vertical-align: middle;\n",
       "    }\n",
       "\n",
       "    .dataframe tbody tr th {\n",
       "        vertical-align: top;\n",
       "    }\n",
       "\n",
       "    .dataframe thead th {\n",
       "        text-align: right;\n",
       "    }\n",
       "</style>\n",
       "<table border=\"1\" class=\"dataframe\">\n",
       "  <thead>\n",
       "    <tr style=\"text-align: right;\">\n",
       "      <th></th>\n",
       "      <th>id</th>\n",
       "      <th>App Name</th>\n",
       "      <th>Downloads (in B)</th>\n",
       "      <th>Category</th>\n",
       "      <th>Level</th>\n",
       "    </tr>\n",
       "  </thead>\n",
       "  <tbody>\n",
       "    <tr>\n",
       "      <th>631105</th>\n",
       "      <td>com.whatsapp</td>\n",
       "      <td>WhatsApp</td>\n",
       "      <td>1000000000</td>\n",
       "      <td>Communication</td>\n",
       "      <td>0</td>\n",
       "    </tr>\n",
       "    <tr>\n",
       "      <th>264379</th>\n",
       "      <td>com.facebook.orca</td>\n",
       "      <td>Facebook Messenger</td>\n",
       "      <td>1000000000</td>\n",
       "      <td>Communication</td>\n",
       "      <td>4</td>\n",
       "    </tr>\n",
       "  </tbody>\n",
       "</table>\n",
       "</div>"
      ],
      "text/plain": [
       "                       id            App Name  Downloads (in B)   \n",
       "631105       com.whatsapp            WhatsApp        1000000000  \\\n",
       "264379  com.facebook.orca  Facebook Messenger        1000000000   \n",
       "\n",
       "             Category Level  \n",
       "631105  Communication     0  \n",
       "264379  Communication     4  "
      ]
     },
     "execution_count": 54,
     "metadata": {},
     "output_type": "execute_result"
    }
   ],
   "source": [
    "# Top communication apps by number of downloads\n",
    "df_h1b[df_h1b['Category'] == 'Communication'].sort_values(by='Downloads (in B)', ascending=False).head(10)"
   ]
  },
  {
   "cell_type": "markdown",
   "metadata": {},
   "source": [
    "### 3.1.3 H1c"
   ]
  },
  {
   "cell_type": "code",
   "execution_count": 55,
   "metadata": {},
   "outputs": [],
   "source": [
    "df_sample_h1c = df_level_2_sample.copy()\n",
    "df_premium_h1c = df_level_2_premium.copy()\n",
    "df_mapping_h1c = df_similarities.copy()"
   ]
  },
  {
   "cell_type": "code",
   "execution_count": 56,
   "metadata": {},
   "outputs": [],
   "source": [
    "# relevant columns\n",
    "relevant_columns_h1c = ['my_app_id', 'num_downloads', 'level', 'rating_app']\n",
    "relevant_columns_mapping_h1c =  ['Sample app name',\t'Premium app name']\n",
    "\n",
    "# filter the relevant columns\n",
    "df_sample_h1c = df_sample_h1c[relevant_columns_h1c]\n",
    "df_premium_h1c = df_premium_h1c[relevant_columns_h1c]\n",
    "df_mapping_h1c = df_mapping_h1c[relevant_columns_mapping_h1c]"
   ]
  },
  {
   "cell_type": "code",
   "execution_count": 57,
   "metadata": {},
   "outputs": [],
   "source": [
    "# Merge mapping dataframe with sample dataframe and premium dataframe\n",
    "df_mapped_h1c = (\n",
    "    df_mapping_h1c\n",
    "    .merge(df_sample_h1c[['my_app_id', 'num_downloads', 'rating_app']], left_on='Sample app name', right_on='my_app_id', how='left')\n",
    "    .drop(columns=['my_app_id'])\n",
    "    .rename(columns={'num_downloads': 'Sample Downloads', 'rating_app': 'Sample Rating'})\n",
    "    .merge(df_premium_h1c[['my_app_id', 'num_downloads', 'rating_app']], left_on='Premium app name', right_on='my_app_id', how='left')\n",
    "    .drop(columns=['my_app_id'])\n",
    "    .rename(columns={'num_downloads': 'Premium Downloads', 'rating_app': 'Premium Rating'})\n",
    ")"
   ]
  },
  {
   "cell_type": "code",
   "execution_count": 58,
   "metadata": {},
   "outputs": [
    {
     "data": {
      "text/html": [
       "<div>\n",
       "<style scoped>\n",
       "    .dataframe tbody tr th:only-of-type {\n",
       "        vertical-align: middle;\n",
       "    }\n",
       "\n",
       "    .dataframe tbody tr th {\n",
       "        vertical-align: top;\n",
       "    }\n",
       "\n",
       "    .dataframe thead th {\n",
       "        text-align: right;\n",
       "    }\n",
       "</style>\n",
       "<table border=\"1\" class=\"dataframe\">\n",
       "  <thead>\n",
       "    <tr style=\"text-align: right;\">\n",
       "      <th></th>\n",
       "      <th>Metric</th>\n",
       "      <th>Value</th>\n",
       "    </tr>\n",
       "  </thead>\n",
       "  <tbody>\n",
       "    <tr>\n",
       "      <th>0</th>\n",
       "      <td>Average Download Difference</td>\n",
       "      <td>-475145.245101</td>\n",
       "    </tr>\n",
       "    <tr>\n",
       "      <th>1</th>\n",
       "      <td>Average Download Ratio</td>\n",
       "      <td>0.265126</td>\n",
       "    </tr>\n",
       "  </tbody>\n",
       "</table>\n",
       "</div>"
      ],
      "text/plain": [
       "                        Metric          Value\n",
       "0  Average Download Difference -475145.245101\n",
       "1       Average Download Ratio       0.265126"
      ]
     },
     "execution_count": 58,
     "metadata": {},
     "output_type": "execute_result"
    }
   ],
   "source": [
    "# Calculate metrics\n",
    "df_mapped_h1c['Download Difference'] = df_mapped_h1c['Premium Downloads'] - df_mapped_h1c['Sample Downloads']\n",
    "df_mapped_h1c['Download Ratio'] = df_mapped_h1c['Premium Downloads'] / df_mapped_h1c['Sample Downloads']\n",
    "\n",
    "# Data for the new dataframe\n",
    "metric_data_h1c = {\n",
    "    \"Metric\": [\n",
    "        \"Average Download Difference\",\n",
    "        \"Average Download Ratio\"\n",
    "    ],\n",
    "    \"Value\": [\n",
    "        df_mapped_h1c['Download Difference'].mean(),\n",
    "        df_mapped_h1c['Download Ratio'].mean(),\n",
    "    ]\n",
    "}\n",
    "\n",
    "# Create the new dataframe\n",
    "df_metrics_h1c = pd.DataFrame(metric_data_h1c)\n",
    "df_metrics_h1c"
   ]
  },
  {
   "cell_type": "code",
   "execution_count": 59,
   "metadata": {},
   "outputs": [
    {
     "data": {
      "text/html": [
       "<div>\n",
       "<style scoped>\n",
       "    .dataframe tbody tr th:only-of-type {\n",
       "        vertical-align: middle;\n",
       "    }\n",
       "\n",
       "    .dataframe tbody tr th {\n",
       "        vertical-align: top;\n",
       "    }\n",
       "\n",
       "    .dataframe thead th {\n",
       "        text-align: right;\n",
       "    }\n",
       "</style>\n",
       "<table border=\"1\" class=\"dataframe\">\n",
       "  <thead>\n",
       "    <tr style=\"text-align: right;\">\n",
       "      <th></th>\n",
       "      <th>Sample app name</th>\n",
       "      <th>Premium app name</th>\n",
       "      <th>Sample Downloads</th>\n",
       "      <th>Sample Rating</th>\n",
       "      <th>Premium Downloads</th>\n",
       "      <th>Premium Rating</th>\n",
       "      <th>Download Difference</th>\n",
       "      <th>Download Ratio</th>\n",
       "    </tr>\n",
       "  </thead>\n",
       "  <tbody>\n",
       "    <tr>\n",
       "      <th>0</th>\n",
       "      <td>HBSpritverbrauch.lite</td>\n",
       "      <td>HBSpritverbrauch.full</td>\n",
       "      <td>50000</td>\n",
       "      <td>4.4</td>\n",
       "      <td>5000</td>\n",
       "      <td>4.6</td>\n",
       "      <td>-45000</td>\n",
       "      <td>0.10</td>\n",
       "    </tr>\n",
       "    <tr>\n",
       "      <th>1</th>\n",
       "      <td>HBVerbrauchszaehler.lite</td>\n",
       "      <td>HBVerbrauchszaehler.full</td>\n",
       "      <td>50000</td>\n",
       "      <td>3.9</td>\n",
       "      <td>10000</td>\n",
       "      <td>4.6</td>\n",
       "      <td>-40000</td>\n",
       "      <td>0.20</td>\n",
       "    </tr>\n",
       "    <tr>\n",
       "      <th>2</th>\n",
       "      <td>Hurricane.Software</td>\n",
       "      <td>Hurricane.Software.Pro</td>\n",
       "      <td>500000</td>\n",
       "      <td>4.3</td>\n",
       "      <td>5000</td>\n",
       "      <td>4.0</td>\n",
       "      <td>-495000</td>\n",
       "      <td>0.01</td>\n",
       "    </tr>\n",
       "    <tr>\n",
       "      <th>3</th>\n",
       "      <td>JVC.FOViewerDX</td>\n",
       "      <td>JVC.FOViewerDXFull</td>\n",
       "      <td>10000</td>\n",
       "      <td>3.9</td>\n",
       "      <td>500</td>\n",
       "      <td>4.1</td>\n",
       "      <td>-9500</td>\n",
       "      <td>0.05</td>\n",
       "    </tr>\n",
       "    <tr>\n",
       "      <th>4</th>\n",
       "      <td>JVC.FOViewerDXHDTrial</td>\n",
       "      <td>JVC.FOViewerDXHD</td>\n",
       "      <td>1000</td>\n",
       "      <td>2.5</td>\n",
       "      <td>100</td>\n",
       "      <td>3.8</td>\n",
       "      <td>-900</td>\n",
       "      <td>0.10</td>\n",
       "    </tr>\n",
       "  </tbody>\n",
       "</table>\n",
       "</div>"
      ],
      "text/plain": [
       "            Sample app name          Premium app name  Sample Downloads   \n",
       "0     HBSpritverbrauch.lite     HBSpritverbrauch.full             50000  \\\n",
       "1  HBVerbrauchszaehler.lite  HBVerbrauchszaehler.full             50000   \n",
       "2        Hurricane.Software    Hurricane.Software.Pro            500000   \n",
       "3            JVC.FOViewerDX        JVC.FOViewerDXFull             10000   \n",
       "4     JVC.FOViewerDXHDTrial          JVC.FOViewerDXHD              1000   \n",
       "\n",
       "   Sample Rating  Premium Downloads  Premium Rating  Download Difference   \n",
       "0            4.4               5000             4.6               -45000  \\\n",
       "1            3.9              10000             4.6               -40000   \n",
       "2            4.3               5000             4.0              -495000   \n",
       "3            3.9                500             4.1                -9500   \n",
       "4            2.5                100             3.8                 -900   \n",
       "\n",
       "   Download Ratio  \n",
       "0            0.10  \n",
       "1            0.20  \n",
       "2            0.01  \n",
       "3            0.05  \n",
       "4            0.10  "
      ]
     },
     "execution_count": 59,
     "metadata": {},
     "output_type": "execute_result"
    }
   ],
   "source": [
    "df_mapped_h1c.head()"
   ]
  },
  {
   "cell_type": "markdown",
   "metadata": {},
   "source": [
    "#### 3.1.3.1 For apps that utilize a sample and a premium version of the same app (level 2), the free versions of an app will have more downloads than their paid-for counterpart."
   ]
  },
  {
   "cell_type": "code",
   "execution_count": 60,
   "metadata": {},
   "outputs": [],
   "source": [
    "# Calculating total sample and premium downloads\n",
    "total_sample_downloads = df_mapped_h1c['Sample Downloads'].sum()\n",
    "total_premium_downloads = df_mapped_h1c['Premium Downloads'].sum()"
   ]
  },
  {
   "cell_type": "code",
   "execution_count": 61,
   "metadata": {},
   "outputs": [],
   "source": [
    "# Creating a new dataframe to represent the totals\n",
    "summary_data_h1c = {\n",
    "    \"Version Type\": [\"Sample Downloads\", \"Premium Downloads\"],\n",
    "    \"Total Downloads\": [total_sample_downloads, total_premium_downloads]\n",
    "}\n",
    "df_summary_h1c = pd.DataFrame(summary_data_h1c)"
   ]
  },
  {
   "cell_type": "code",
   "execution_count": 62,
   "metadata": {},
   "outputs": [
    {
     "data": {
      "text/html": [
       "<div>\n",
       "<style scoped>\n",
       "    .dataframe tbody tr th:only-of-type {\n",
       "        vertical-align: middle;\n",
       "    }\n",
       "\n",
       "    .dataframe tbody tr th {\n",
       "        vertical-align: top;\n",
       "    }\n",
       "\n",
       "    .dataframe thead th {\n",
       "        text-align: right;\n",
       "    }\n",
       "</style>\n",
       "<table border=\"1\" class=\"dataframe\">\n",
       "  <thead>\n",
       "    <tr style=\"text-align: right;\">\n",
       "      <th></th>\n",
       "      <th>Version Type</th>\n",
       "      <th>Total Downloads</th>\n",
       "    </tr>\n",
       "  </thead>\n",
       "  <tbody>\n",
       "    <tr>\n",
       "      <th>0</th>\n",
       "      <td>Sample Downloads</td>\n",
       "      <td>5491457990</td>\n",
       "    </tr>\n",
       "    <tr>\n",
       "      <th>1</th>\n",
       "      <td>Premium Downloads</td>\n",
       "      <td>59597548</td>\n",
       "    </tr>\n",
       "  </tbody>\n",
       "</table>\n",
       "</div>"
      ],
      "text/plain": [
       "        Version Type  Total Downloads\n",
       "0   Sample Downloads       5491457990\n",
       "1  Premium Downloads         59597548"
      ]
     },
     "execution_count": 62,
     "metadata": {},
     "output_type": "execute_result"
    }
   ],
   "source": [
    "df_summary_h1c.head()"
   ]
  },
  {
   "cell_type": "code",
   "execution_count": 63,
   "metadata": {},
   "outputs": [
    {
     "data": {
      "image/png": "[encoded data removed]",
      "text/plain": [
       "<Figure size 800x800 with 1 Axes>"
      ]
     },
     "metadata": {},
     "output_type": "display_data"
    }
   ],
   "source": [
    "# Creating a pie chart to show the proportion of sample vs premium downloads\n",
    "fig, ax = plt.subplots(figsize=(8, 8))\n",
    "ax.pie(df_summary_h1c['Total Downloads'], labels=df_summary_h1c['Version Type'], autopct='%1.1f%%', startangle=140)\n",
    "ax.set_title('Proportion of Total Downloads: Sample vs Premium', fontsize=14)\n",
    "\n",
    "plt.show()"
   ]
  },
  {
   "cell_type": "markdown",
   "metadata": {},
   "source": [
    "#### 3.1.3.2 Most, if not all, users will download the free version first, and then might upgrade. This means there should be a disparity between the number of downloads between the apps, as is also demonstrated by Liu, Au, and Choi (2012)."
   ]
  },
  {
   "cell_type": "code",
   "execution_count": 64,
   "metadata": {},
   "outputs": [
    {
     "data": {
      "image/png": "[encoded data removed]",
      "text/plain": [
       "<Figure size 1000x600 with 1 Axes>"
      ]
     },
     "metadata": {},
     "output_type": "display_data"
    }
   ],
   "source": [
    "# Plot 4: Boxplot for Sample and Premium Downloads\n",
    "plt.figure(figsize=(10, 6))\n",
    "plt.boxplot([df_mapped_h1c['Sample Downloads'], df_mapped_h1c['Premium Downloads']], labels=['Sample Downloads', 'Premium Downloads'])\n",
    "plt.ylabel('Number of Downloads')\n",
    "plt.title('Boxplot of Sample vs Premium Downloads')\n",
    "plt.grid(axis='y', linestyle='--')\n",
    "plt.show()\n"
   ]
  },
  {
   "cell_type": "code",
   "execution_count": 65,
   "metadata": {},
   "outputs": [],
   "source": [
    "# Data for the new dataframe\n",
    "metric_data_h1c = {\n",
    "    \"Metric\": [\n",
    "        \"Average Download Difference\",\n",
    "        \"Average Download Ratio\"\n",
    "    ],\n",
    "    \"Value\": [\n",
    "        df_mapped_h1c['Download Difference'].mean(),\n",
    "        df_mapped_h1c['Download Ratio'].mean(),\n",
    "    ]\n",
    "}\n",
    "\n",
    "# Create the new dataframe\n",
    "df_metrics_h1c = pd.DataFrame(metric_data_h1c)"
   ]
  },
  {
   "cell_type": "code",
   "execution_count": 66,
   "metadata": {},
   "outputs": [
    {
     "data": {
      "text/html": [
       "<div>\n",
       "<style scoped>\n",
       "    .dataframe tbody tr th:only-of-type {\n",
       "        vertical-align: middle;\n",
       "    }\n",
       "\n",
       "    .dataframe tbody tr th {\n",
       "        vertical-align: top;\n",
       "    }\n",
       "\n",
       "    .dataframe thead th {\n",
       "        text-align: right;\n",
       "    }\n",
       "</style>\n",
       "<table border=\"1\" class=\"dataframe\">\n",
       "  <thead>\n",
       "    <tr style=\"text-align: right;\">\n",
       "      <th></th>\n",
       "      <th>Metric</th>\n",
       "      <th>Value</th>\n",
       "    </tr>\n",
       "  </thead>\n",
       "  <tbody>\n",
       "    <tr>\n",
       "      <th>0</th>\n",
       "      <td>Average Download Difference</td>\n",
       "      <td>-475145.245101</td>\n",
       "    </tr>\n",
       "    <tr>\n",
       "      <th>1</th>\n",
       "      <td>Average Download Ratio</td>\n",
       "      <td>0.265126</td>\n",
       "    </tr>\n",
       "  </tbody>\n",
       "</table>\n",
       "</div>"
      ],
      "text/plain": [
       "                        Metric          Value\n",
       "0  Average Download Difference -475145.245101\n",
       "1       Average Download Ratio       0.265126"
      ]
     },
     "execution_count": 66,
     "metadata": {},
     "output_type": "execute_result"
    }
   ],
   "source": [
    "df_metrics_h1c.head()"
   ]
  },
  {
   "cell_type": "markdown",
   "metadata": {},
   "source": [
    "### 3.1.4 H1d"
   ]
  },
  {
   "cell_type": "code",
   "execution_count": 67,
   "metadata": {},
   "outputs": [],
   "source": [
    "df_level_combined_h1d = df_level_combined.copy()"
   ]
  },
  {
   "cell_type": "code",
   "execution_count": 68,
   "metadata": {},
   "outputs": [],
   "source": [
    "# relevant columns\n",
    "relevant_columns_h1d = ['my_app_id', 'num_downloads', 'level', 'categ_app']\n",
    "\n",
    "# filter the relevant columns\n",
    "df_level_combined_h1d = df_level_combined_h1d[relevant_columns_h1d]"
   ]
  },
  {
   "cell_type": "code",
   "execution_count": 69,
   "metadata": {},
   "outputs": [
    {
     "data": {
      "text/html": [
       "<div>\n",
       "<style scoped>\n",
       "    .dataframe tbody tr th:only-of-type {\n",
       "        vertical-align: middle;\n",
       "    }\n",
       "\n",
       "    .dataframe tbody tr th {\n",
       "        vertical-align: top;\n",
       "    }\n",
       "\n",
       "    .dataframe thead th {\n",
       "        text-align: right;\n",
       "    }\n",
       "</style>\n",
       "<table border=\"1\" class=\"dataframe\">\n",
       "  <thead>\n",
       "    <tr style=\"text-align: right;\">\n",
       "      <th></th>\n",
       "      <th>my_app_id</th>\n",
       "      <th>num_downloads</th>\n",
       "      <th>level</th>\n",
       "      <th>categ_app</th>\n",
       "    </tr>\n",
       "  </thead>\n",
       "  <tbody>\n",
       "    <tr>\n",
       "      <th>14</th>\n",
       "      <td>Alfasoft.Widgets.PsychedelicAnalogClock</td>\n",
       "      <td>50000</td>\n",
       "      <td>0</td>\n",
       "      <td>Personalization</td>\n",
       "    </tr>\n",
       "    <tr>\n",
       "      <th>24</th>\n",
       "      <td>AmaxSoftware.bubblelevel</td>\n",
       "      <td>5000</td>\n",
       "      <td>0</td>\n",
       "      <td>Tools</td>\n",
       "    </tr>\n",
       "    <tr>\n",
       "      <th>25</th>\n",
       "      <td>Andrew.Compass.com</td>\n",
       "      <td>500000</td>\n",
       "      <td>0</td>\n",
       "      <td>Tools</td>\n",
       "    </tr>\n",
       "    <tr>\n",
       "      <th>26</th>\n",
       "      <td>Android.Page</td>\n",
       "      <td>100</td>\n",
       "      <td>0</td>\n",
       "      <td>Libraries &amp; Demo</td>\n",
       "    </tr>\n",
       "    <tr>\n",
       "      <th>28</th>\n",
       "      <td>AndroidRoll.Roll</td>\n",
       "      <td>500</td>\n",
       "      <td>0</td>\n",
       "      <td>Casual</td>\n",
       "    </tr>\n",
       "  </tbody>\n",
       "</table>\n",
       "</div>"
      ],
      "text/plain": [
       "                                  my_app_id  num_downloads level   \n",
       "14  Alfasoft.Widgets.PsychedelicAnalogClock          50000     0  \\\n",
       "24                 AmaxSoftware.bubblelevel           5000     0   \n",
       "25                       Andrew.Compass.com         500000     0   \n",
       "26                             Android.Page            100     0   \n",
       "28                         AndroidRoll.Roll            500     0   \n",
       "\n",
       "           categ_app  \n",
       "14   Personalization  \n",
       "24             Tools  \n",
       "25             Tools  \n",
       "26  Libraries & Demo  \n",
       "28            Casual  "
      ]
     },
     "execution_count": 69,
     "metadata": {},
     "output_type": "execute_result"
    }
   ],
   "source": [
    "df_level_combined_h1d.head()"
   ]
  },
  {
   "cell_type": "code",
   "execution_count": 70,
   "metadata": {},
   "outputs": [
    {
     "data": {
      "text/plain": [
       "categ_app\n",
       "Education                  81630\n",
       "Entertainment              60010\n",
       "Personalization            56003\n",
       "Tools                      51891\n",
       "Lifestyle                  50749\n",
       "Books & Reference          46506\n",
       "Music & Audio              40727\n",
       "Business                   40109\n",
       "Travel & Local             30397\n",
       "News & Magazines           27206\n",
       "Photography                26348\n",
       "Finance                    25010\n",
       "Health & Fitness           24891\n",
       "Productivity               24259\n",
       "Sports                     23943\n",
       "Shopping                   22354\n",
       "Puzzle                     19617\n",
       "Casual                     17622\n",
       "Food & Drink               17608\n",
       "Social                     17039\n",
       "Maps & Navigation          16667\n",
       "Communication              16369\n",
       "Medical                    16225\n",
       "Arcade                     15713\n",
       "Simulation                 13579\n",
       "Action                     10957\n",
       "Auto & Vehicles             8380\n",
       "Video Players & Editors     8260\n",
       "Adventure                   8169\n",
       "Trivia                      6776\n",
       "Weather                     6042\n",
       "Art & Design                5956\n",
       "Racing                      5771\n",
       "Educational                 5756\n",
       "Card                        5632\n",
       "House & Home                5471\n",
       "Word                        5427\n",
       "Board                       5372\n",
       "Events                      5139\n",
       "Casino                      5054\n",
       "Beauty                      4894\n",
       "Role Playing                4349\n",
       "Strategy                    4071\n",
       "Brain Games                 3684\n",
       "Libraries & Demo            3539\n",
       "Creativity                  2255\n",
       "Action & Adventure          2189\n",
       "Pretend Play                2175\n",
       "Comics                      2129\n",
       "Parenting                   2015\n",
       "Dating                      1917\n",
       "Music                       1616\n",
       "Music & Video               1469\n",
       "Name: count, dtype: int64"
      ]
     },
     "execution_count": 70,
     "metadata": {},
     "output_type": "execute_result"
    }
   ],
   "source": [
    "df_level_combined_h1d['categ_app'].value_counts()"
   ]
  },
  {
   "cell_type": "code",
   "execution_count": 71,
   "metadata": {},
   "outputs": [],
   "source": [
    "# Creating a list of categories that can be considered as part of the gaming category\n",
    "gaming_categories = [\n",
    "    \"Puzzle\", \"Casual\", \"Arcade\", \"Simulation\", \"Action\", \"Adventure\", \n",
    "    \"Trivia\", \"Racing\", \"Educational\", \"Card\", \"Word\", \"Board\", \n",
    "    \"Casino\", \"Role Playing\", \"Strategy\", \"Brain Games\", \n",
    "    \"Action & Adventure\", \"Pretend Play\"\n",
    "]"
   ]
  },
  {
   "cell_type": "code",
   "execution_count": 72,
   "metadata": {},
   "outputs": [],
   "source": [
    "# Filter on games category\n",
    "df_level_combined_h1d = df_level_combined_h1d[df_level_combined_h1d['categ_app'].isin(gaming_categories)]"
   ]
  },
  {
   "cell_type": "markdown",
   "metadata": {},
   "source": [
    "#### 3.1.4.1 The most downloaded apps in the gaming category will likely fall under level 4 (and 3)."
   ]
  },
  {
   "cell_type": "code",
   "execution_count": 73,
   "metadata": {},
   "outputs": [
    {
     "data": {
      "image/png": "[encoded data removed]",
      "text/plain": [
       "<Figure size 1000x600 with 1 Axes>"
      ]
     },
     "metadata": {},
     "output_type": "display_data"
    }
   ],
   "source": [
    "# boxplot the number of downloads for each level\n",
    "plt.figure(figsize=(10, 6))\n",
    "sns.boxplot(data=df_level_combined_h1d, x='level', y='num_downloads')\n",
    "plt.title('Number of Downloads for Gaming Apps by Level')\n",
    "plt.xlabel('Level')\n",
    "plt.ylabel('Number of Downloads')\n",
    "plt.show()"
   ]
  },
  {
   "cell_type": "code",
   "execution_count": 74,
   "metadata": {},
   "outputs": [
    {
     "data": {
      "image/png": "[encoded data removed]",
      "text/plain": [
       "<Figure size 1000x600 with 1 Axes>"
      ]
     },
     "metadata": {},
     "output_type": "display_data"
    }
   ],
   "source": [
    "# Bar chart for total number of downloads per level\n",
    "total_downloads_per_level = df_level_combined_h1d.groupby('level')['num_downloads'].sum().reset_index()\n",
    "\n",
    "plt.figure(figsize=(10, 6))\n",
    "plt.bar(total_downloads_per_level['level'], total_downloads_per_level['num_downloads'])\n",
    "plt.title('Total Number of Downloads for Gaming Apps by Level')\n",
    "plt.xlabel('Level')\n",
    "plt.ylabel('Total Number of Downloads')\n",
    "plt.show()"
   ]
  },
  {
   "cell_type": "markdown",
   "metadata": {},
   "source": [
    "Popular games like Subwaysurf, hillclimb and templerun 2 in level 3."
   ]
  },
  {
   "cell_type": "code",
   "execution_count": 75,
   "metadata": {},
   "outputs": [
    {
     "data": {
      "text/html": [
       "<div>\n",
       "<style scoped>\n",
       "    .dataframe tbody tr th:only-of-type {\n",
       "        vertical-align: middle;\n",
       "    }\n",
       "\n",
       "    .dataframe tbody tr th {\n",
       "        vertical-align: top;\n",
       "    }\n",
       "\n",
       "    .dataframe thead th {\n",
       "        text-align: right;\n",
       "    }\n",
       "</style>\n",
       "<table border=\"1\" class=\"dataframe\">\n",
       "  <thead>\n",
       "    <tr style=\"text-align: right;\">\n",
       "      <th></th>\n",
       "      <th>my_app_id</th>\n",
       "      <th>num_downloads</th>\n",
       "      <th>level</th>\n",
       "      <th>categ_app</th>\n",
       "    </tr>\n",
       "  </thead>\n",
       "  <tbody>\n",
       "    <tr>\n",
       "      <th>370724</th>\n",
       "      <td>com.kiloo.subwaysurf</td>\n",
       "      <td>1000000000</td>\n",
       "      <td>3</td>\n",
       "      <td>Arcade</td>\n",
       "    </tr>\n",
       "    <tr>\n",
       "      <th>334291</th>\n",
       "      <td>com.imangi.templerun2</td>\n",
       "      <td>500000000</td>\n",
       "      <td>3</td>\n",
       "      <td>Action</td>\n",
       "    </tr>\n",
       "    <tr>\n",
       "      <th>470889</th>\n",
       "      <td>com.outfit7.mytalkingtomfree</td>\n",
       "      <td>500000000</td>\n",
       "      <td>3</td>\n",
       "      <td>Casual</td>\n",
       "    </tr>\n",
       "    <tr>\n",
       "      <th>747671</th>\n",
       "      <td>me.pou.app</td>\n",
       "      <td>500000000</td>\n",
       "      <td>3</td>\n",
       "      <td>Casual</td>\n",
       "    </tr>\n",
       "    <tr>\n",
       "      <th>270462</th>\n",
       "      <td>com.fingersoft.hillclimb</td>\n",
       "      <td>500000000</td>\n",
       "      <td>3</td>\n",
       "      <td>Racing</td>\n",
       "    </tr>\n",
       "    <tr>\n",
       "      <th>416108</th>\n",
       "      <td>com.mgc.miami.crime.simulator.two</td>\n",
       "      <td>100000000</td>\n",
       "      <td>3</td>\n",
       "      <td>Simulation</td>\n",
       "    </tr>\n",
       "    <tr>\n",
       "      <th>101467</th>\n",
       "      <td>com.aim.racing</td>\n",
       "      <td>100000000</td>\n",
       "      <td>3</td>\n",
       "      <td>Racing</td>\n",
       "    </tr>\n",
       "    <tr>\n",
       "      <th>244462</th>\n",
       "      <td>com.ea.games.simsfreeplay_row</td>\n",
       "      <td>100000000</td>\n",
       "      <td>3</td>\n",
       "      <td>Simulation</td>\n",
       "    </tr>\n",
       "    <tr>\n",
       "      <th>8227</th>\n",
       "      <td>air.com.hypah.io.slither</td>\n",
       "      <td>100000000</td>\n",
       "      <td>3</td>\n",
       "      <td>Action</td>\n",
       "    </tr>\n",
       "    <tr>\n",
       "      <th>648070</th>\n",
       "      <td>com.zeptolab.ctr2.f2p.google</td>\n",
       "      <td>100000000</td>\n",
       "      <td>3</td>\n",
       "      <td>Puzzle</td>\n",
       "    </tr>\n",
       "  </tbody>\n",
       "</table>\n",
       "</div>"
      ],
      "text/plain": [
       "                                my_app_id  num_downloads level   categ_app\n",
       "370724               com.kiloo.subwaysurf     1000000000     3      Arcade\n",
       "334291              com.imangi.templerun2      500000000     3      Action\n",
       "470889       com.outfit7.mytalkingtomfree      500000000     3      Casual\n",
       "747671                         me.pou.app      500000000     3      Casual\n",
       "270462           com.fingersoft.hillclimb      500000000     3      Racing\n",
       "416108  com.mgc.miami.crime.simulator.two      100000000     3  Simulation\n",
       "101467                     com.aim.racing      100000000     3      Racing\n",
       "244462      com.ea.games.simsfreeplay_row      100000000     3  Simulation\n",
       "8227             air.com.hypah.io.slither      100000000     3      Action\n",
       "648070       com.zeptolab.ctr2.f2p.google      100000000     3      Puzzle"
      ]
     },
     "execution_count": 75,
     "metadata": {},
     "output_type": "execute_result"
    }
   ],
   "source": [
    "# Top 10 most downloaded apps in level 3\n",
    "df_level_combined_h1d[df_level_combined_h1d['level'] == '3'].sort_values(by='num_downloads', ascending=False).head(10)"
   ]
  },
  {
   "cell_type": "markdown",
   "metadata": {},
   "source": [
    "Popular games like candy crush and clash of clans are in level 4."
   ]
  },
  {
   "cell_type": "code",
   "execution_count": 76,
   "metadata": {},
   "outputs": [
    {
     "data": {
      "text/html": [
       "<div>\n",
       "<style scoped>\n",
       "    .dataframe tbody tr th:only-of-type {\n",
       "        vertical-align: middle;\n",
       "    }\n",
       "\n",
       "    .dataframe tbody tr th {\n",
       "        vertical-align: top;\n",
       "    }\n",
       "\n",
       "    .dataframe thead th {\n",
       "        text-align: right;\n",
       "    }\n",
       "</style>\n",
       "<table border=\"1\" class=\"dataframe\">\n",
       "  <thead>\n",
       "    <tr style=\"text-align: right;\">\n",
       "      <th></th>\n",
       "      <th>my_app_id</th>\n",
       "      <th>num_downloads</th>\n",
       "      <th>level</th>\n",
       "      <th>categ_app</th>\n",
       "    </tr>\n",
       "  </thead>\n",
       "  <tbody>\n",
       "    <tr>\n",
       "      <th>566815</th>\n",
       "      <td>com.supercell.clashofclans</td>\n",
       "      <td>500000000</td>\n",
       "      <td>4</td>\n",
       "      <td>Strategy</td>\n",
       "    </tr>\n",
       "    <tr>\n",
       "      <th>371006</th>\n",
       "      <td>com.king.candycrushsaga</td>\n",
       "      <td>500000000</td>\n",
       "      <td>4</td>\n",
       "      <td>Casual</td>\n",
       "    </tr>\n",
       "    <tr>\n",
       "      <th>581171</th>\n",
       "      <td>com.tencent.ig</td>\n",
       "      <td>100000000</td>\n",
       "      <td>4</td>\n",
       "      <td>Action</td>\n",
       "    </tr>\n",
       "    <tr>\n",
       "      <th>242228</th>\n",
       "      <td>com.dts.freefireth</td>\n",
       "      <td>100000000</td>\n",
       "      <td>4</td>\n",
       "      <td>Action</td>\n",
       "    </tr>\n",
       "    <tr>\n",
       "      <th>244460</th>\n",
       "      <td>com.ea.games.r3_row</td>\n",
       "      <td>100000000</td>\n",
       "      <td>4</td>\n",
       "      <td>Action &amp; Adventure</td>\n",
       "    </tr>\n",
       "    <tr>\n",
       "      <th>453075</th>\n",
       "      <td>com.nianticlabs.pokemongo</td>\n",
       "      <td>100000000</td>\n",
       "      <td>4</td>\n",
       "      <td>Adventure</td>\n",
       "    </tr>\n",
       "    <tr>\n",
       "      <th>455201</th>\n",
       "      <td>com.nintendo.zara</td>\n",
       "      <td>100000000</td>\n",
       "      <td>4</td>\n",
       "      <td>Action</td>\n",
       "    </tr>\n",
       "    <tr>\n",
       "      <th>417585</th>\n",
       "      <td>com.midasplayer.apps.bubblewitchsaga2</td>\n",
       "      <td>100000000</td>\n",
       "      <td>4</td>\n",
       "      <td>Casual</td>\n",
       "    </tr>\n",
       "    <tr>\n",
       "      <th>411823</th>\n",
       "      <td>com.mediocre.smashhit</td>\n",
       "      <td>100000000</td>\n",
       "      <td>4</td>\n",
       "      <td>Arcade</td>\n",
       "    </tr>\n",
       "    <tr>\n",
       "      <th>566816</th>\n",
       "      <td>com.supercell.clashroyale</td>\n",
       "      <td>100000000</td>\n",
       "      <td>4</td>\n",
       "      <td>Strategy</td>\n",
       "    </tr>\n",
       "  </tbody>\n",
       "</table>\n",
       "</div>"
      ],
      "text/plain": [
       "                                    my_app_id  num_downloads level   \n",
       "566815             com.supercell.clashofclans      500000000     4  \\\n",
       "371006                com.king.candycrushsaga      500000000     4   \n",
       "581171                         com.tencent.ig      100000000     4   \n",
       "242228                     com.dts.freefireth      100000000     4   \n",
       "244460                    com.ea.games.r3_row      100000000     4   \n",
       "453075              com.nianticlabs.pokemongo      100000000     4   \n",
       "455201                      com.nintendo.zara      100000000     4   \n",
       "417585  com.midasplayer.apps.bubblewitchsaga2      100000000     4   \n",
       "411823                  com.mediocre.smashhit      100000000     4   \n",
       "566816              com.supercell.clashroyale      100000000     4   \n",
       "\n",
       "                 categ_app  \n",
       "566815            Strategy  \n",
       "371006              Casual  \n",
       "581171              Action  \n",
       "242228              Action  \n",
       "244460  Action & Adventure  \n",
       "453075           Adventure  \n",
       "455201              Action  \n",
       "417585              Casual  \n",
       "411823              Arcade  \n",
       "566816            Strategy  "
      ]
     },
     "execution_count": 76,
     "metadata": {},
     "output_type": "execute_result"
    }
   ],
   "source": [
    "# Top 10 most downloaded apps in level 4\n",
    "df_level_combined_h1d[df_level_combined_h1d['level'] == '4'].sort_values(by='num_downloads', ascending=False).head(10)"
   ]
  },
  {
   "cell_type": "code",
   "execution_count": 77,
   "metadata": {},
   "outputs": [
    {
     "data": {
      "text/html": [
       "<div>\n",
       "<style scoped>\n",
       "    .dataframe tbody tr th:only-of-type {\n",
       "        vertical-align: middle;\n",
       "    }\n",
       "\n",
       "    .dataframe tbody tr th {\n",
       "        vertical-align: top;\n",
       "    }\n",
       "\n",
       "    .dataframe thead th {\n",
       "        text-align: right;\n",
       "    }\n",
       "</style>\n",
       "<table border=\"1\" class=\"dataframe\">\n",
       "  <thead>\n",
       "    <tr style=\"text-align: right;\">\n",
       "      <th></th>\n",
       "      <th>my_app_id</th>\n",
       "      <th>num_downloads</th>\n",
       "      <th>level</th>\n",
       "      <th>categ_app</th>\n",
       "    </tr>\n",
       "  </thead>\n",
       "  <tbody>\n",
       "    <tr>\n",
       "      <th>566815</th>\n",
       "      <td>com.supercell.clashofclans</td>\n",
       "      <td>500000000</td>\n",
       "      <td>4</td>\n",
       "      <td>Strategy</td>\n",
       "    </tr>\n",
       "    <tr>\n",
       "      <th>371006</th>\n",
       "      <td>com.king.candycrushsaga</td>\n",
       "      <td>500000000</td>\n",
       "      <td>4</td>\n",
       "      <td>Casual</td>\n",
       "    </tr>\n",
       "    <tr>\n",
       "      <th>581171</th>\n",
       "      <td>com.tencent.ig</td>\n",
       "      <td>100000000</td>\n",
       "      <td>4</td>\n",
       "      <td>Action</td>\n",
       "    </tr>\n",
       "    <tr>\n",
       "      <th>242228</th>\n",
       "      <td>com.dts.freefireth</td>\n",
       "      <td>100000000</td>\n",
       "      <td>4</td>\n",
       "      <td>Action</td>\n",
       "    </tr>\n",
       "    <tr>\n",
       "      <th>244460</th>\n",
       "      <td>com.ea.games.r3_row</td>\n",
       "      <td>100000000</td>\n",
       "      <td>4</td>\n",
       "      <td>Action &amp; Adventure</td>\n",
       "    </tr>\n",
       "  </tbody>\n",
       "</table>\n",
       "</div>"
      ],
      "text/plain": [
       "                         my_app_id  num_downloads level           categ_app\n",
       "566815  com.supercell.clashofclans      500000000     4            Strategy\n",
       "371006     com.king.candycrushsaga      500000000     4              Casual\n",
       "581171              com.tencent.ig      100000000     4              Action\n",
       "242228          com.dts.freefireth      100000000     4              Action\n",
       "244460         com.ea.games.r3_row      100000000     4  Action & Adventure"
      ]
     },
     "execution_count": 77,
     "metadata": {},
     "output_type": "execute_result"
    }
   ],
   "source": [
    "df_level_combined_h1d[df_level_combined_h1d['level'] == '4'] \\\n",
    "    .sort_values(by='num_downloads', ascending=False) \\\n",
    "    .head(5)"
   ]
  },
  {
   "cell_type": "code",
   "execution_count": 78,
   "metadata": {},
   "outputs": [
    {
     "data": {
      "text/html": [
       "<div>\n",
       "<style scoped>\n",
       "    .dataframe tbody tr th:only-of-type {\n",
       "        vertical-align: middle;\n",
       "    }\n",
       "\n",
       "    .dataframe tbody tr th {\n",
       "        vertical-align: top;\n",
       "    }\n",
       "\n",
       "    .dataframe thead th {\n",
       "        text-align: right;\n",
       "    }\n",
       "</style>\n",
       "<table border=\"1\" class=\"dataframe\">\n",
       "  <thead>\n",
       "    <tr style=\"text-align: right;\">\n",
       "      <th></th>\n",
       "      <th>id</th>\n",
       "      <th>App</th>\n",
       "      <th>Downloads (in Billions)</th>\n",
       "      <th>Gaming Category</th>\n",
       "    </tr>\n",
       "  </thead>\n",
       "  <tbody>\n",
       "    <tr>\n",
       "      <th>0</th>\n",
       "      <td>com.supercell.clashofclans</td>\n",
       "      <td>NaN</td>\n",
       "      <td>0.5</td>\n",
       "      <td>Strategy</td>\n",
       "    </tr>\n",
       "    <tr>\n",
       "      <th>1</th>\n",
       "      <td>com.king.candycrushsaga</td>\n",
       "      <td>NaN</td>\n",
       "      <td>0.5</td>\n",
       "      <td>Casual</td>\n",
       "    </tr>\n",
       "    <tr>\n",
       "      <th>2</th>\n",
       "      <td>com.tencent.ig</td>\n",
       "      <td>NaN</td>\n",
       "      <td>0.1</td>\n",
       "      <td>Action</td>\n",
       "    </tr>\n",
       "    <tr>\n",
       "      <th>3</th>\n",
       "      <td>com.dts.freefireth</td>\n",
       "      <td>NaN</td>\n",
       "      <td>0.1</td>\n",
       "      <td>Action</td>\n",
       "    </tr>\n",
       "    <tr>\n",
       "      <th>4</th>\n",
       "      <td>com.ea.games.r3_row</td>\n",
       "      <td>NaN</td>\n",
       "      <td>0.1</td>\n",
       "      <td>Action &amp; Adventure</td>\n",
       "    </tr>\n",
       "  </tbody>\n",
       "</table>\n",
       "</div>"
      ],
      "text/plain": [
       "                           id  App  Downloads (in Billions)   \n",
       "0  com.supercell.clashofclans  NaN                      0.5  \\\n",
       "1     com.king.candycrushsaga  NaN                      0.5   \n",
       "2              com.tencent.ig  NaN                      0.1   \n",
       "3          com.dts.freefireth  NaN                      0.1   \n",
       "4         com.ea.games.r3_row  NaN                      0.1   \n",
       "\n",
       "      Gaming Category  \n",
       "0            Strategy  \n",
       "1              Casual  \n",
       "2              Action  \n",
       "3              Action  \n",
       "4  Action & Adventure  "
      ]
     },
     "execution_count": 78,
     "metadata": {},
     "output_type": "execute_result"
    }
   ],
   "source": [
    "# Filter for level 3, sort by downloads, and pick top 10\n",
    "top_apps = df_level_combined_h1d[df_level_combined_h1d['level'] == '4'] \\\n",
    "    .sort_values(by='num_downloads', ascending=False) \\\n",
    "    .head(5)\n",
    "    \n",
    "app_name_mapping = {\n",
    "    \"com.kiloo.subwaysurf\": \"Subway Surfers\",\n",
    "    \"com.fingersoft.hillclimb\": \"Hill Climb Racing\",\n",
    "    \"com.imangi.templerun2\": \"Temple Run 2\",\n",
    "    \"com.outfit7.mytalkingtomfree\": \"My Talking Tom\",\n",
    "    \"me.pou.app\": \"Pou\"\n",
    "}\n",
    "\n",
    "# Convert num_downloads to per billion\n",
    "top_apps['num_downloads'] = top_apps['num_downloads'] / 1_000_000_000\n",
    "\n",
    "# Mapping the app column to their normal names\n",
    "top_apps['App'] = top_apps['my_app_id'].map(app_name_mapping)\n",
    "\n",
    "# Rename columns as per requirement\n",
    "top_apps = top_apps.rename(columns={\n",
    "    'my_app_id': 'id',\n",
    "    'num_downloads': 'Downloads (in Billions)',\n",
    "    'categ_app': 'Gaming Category'\n",
    "})\n",
    "\n",
    "top_apps.reset_index(drop=True, inplace=True)\n",
    "\n",
    "# order the columns\n",
    "top_apps = top_apps[['id', 'App', 'Downloads (in Billions)', 'Gaming Category']]\n",
    "\n",
    "top_apps"
   ]
  },
  {
   "cell_type": "code",
   "execution_count": 79,
   "metadata": {},
   "outputs": [
    {
     "data": {
      "text/html": [
       "<div>\n",
       "<style scoped>\n",
       "    .dataframe tbody tr th:only-of-type {\n",
       "        vertical-align: middle;\n",
       "    }\n",
       "\n",
       "    .dataframe tbody tr th {\n",
       "        vertical-align: top;\n",
       "    }\n",
       "\n",
       "    .dataframe thead th {\n",
       "        text-align: right;\n",
       "    }\n",
       "</style>\n",
       "<table border=\"1\" class=\"dataframe\">\n",
       "  <thead>\n",
       "    <tr style=\"text-align: right;\">\n",
       "      <th></th>\n",
       "      <th>id</th>\n",
       "      <th>App</th>\n",
       "      <th>Downloads (in Billions)</th>\n",
       "      <th>Gaming Category</th>\n",
       "      <th>level</th>\n",
       "    </tr>\n",
       "  </thead>\n",
       "  <tbody>\n",
       "    <tr>\n",
       "      <th>0</th>\n",
       "      <td>com.kiloo.subwaysurf</td>\n",
       "      <td>Subway Surfers</td>\n",
       "      <td>1.0</td>\n",
       "      <td>Arcade</td>\n",
       "      <td>3</td>\n",
       "    </tr>\n",
       "    <tr>\n",
       "      <th>1</th>\n",
       "      <td>com.imangi.templerun2</td>\n",
       "      <td>Temple Run 2</td>\n",
       "      <td>0.5</td>\n",
       "      <td>Action</td>\n",
       "      <td>3</td>\n",
       "    </tr>\n",
       "    <tr>\n",
       "      <th>2</th>\n",
       "      <td>com.outfit7.mytalkingtomfree</td>\n",
       "      <td>My Talking Tom</td>\n",
       "      <td>0.5</td>\n",
       "      <td>Casual</td>\n",
       "      <td>3</td>\n",
       "    </tr>\n",
       "    <tr>\n",
       "      <th>3</th>\n",
       "      <td>me.pou.app</td>\n",
       "      <td>Pou</td>\n",
       "      <td>0.5</td>\n",
       "      <td>Casual</td>\n",
       "      <td>3</td>\n",
       "    </tr>\n",
       "    <tr>\n",
       "      <th>4</th>\n",
       "      <td>com.fingersoft.hillclimb</td>\n",
       "      <td>Hill Climb Racing</td>\n",
       "      <td>0.5</td>\n",
       "      <td>Racing</td>\n",
       "      <td>3</td>\n",
       "    </tr>\n",
       "    <tr>\n",
       "      <th>0</th>\n",
       "      <td>com.supercell.clashofclans</td>\n",
       "      <td>Clash of Clans</td>\n",
       "      <td>0.5</td>\n",
       "      <td>Strategy</td>\n",
       "      <td>4</td>\n",
       "    </tr>\n",
       "    <tr>\n",
       "      <th>1</th>\n",
       "      <td>com.king.candycrushsaga</td>\n",
       "      <td>Candy Crush Saga</td>\n",
       "      <td>0.5</td>\n",
       "      <td>Casual</td>\n",
       "      <td>4</td>\n",
       "    </tr>\n",
       "    <tr>\n",
       "      <th>2</th>\n",
       "      <td>com.tencent.ig</td>\n",
       "      <td>NaN</td>\n",
       "      <td>0.1</td>\n",
       "      <td>Action</td>\n",
       "      <td>4</td>\n",
       "    </tr>\n",
       "    <tr>\n",
       "      <th>3</th>\n",
       "      <td>com.dts.freefireth</td>\n",
       "      <td>NaN</td>\n",
       "      <td>0.1</td>\n",
       "      <td>Action</td>\n",
       "      <td>4</td>\n",
       "    </tr>\n",
       "    <tr>\n",
       "      <th>4</th>\n",
       "      <td>com.ea.games.r3_row</td>\n",
       "      <td>NaN</td>\n",
       "      <td>0.1</td>\n",
       "      <td>Action &amp; Adventure</td>\n",
       "      <td>4</td>\n",
       "    </tr>\n",
       "  </tbody>\n",
       "</table>\n",
       "</div>"
      ],
      "text/plain": [
       "                             id                App  Downloads (in Billions)   \n",
       "0          com.kiloo.subwaysurf     Subway Surfers                      1.0  \\\n",
       "1         com.imangi.templerun2       Temple Run 2                      0.5   \n",
       "2  com.outfit7.mytalkingtomfree     My Talking Tom                      0.5   \n",
       "3                    me.pou.app                Pou                      0.5   \n",
       "4      com.fingersoft.hillclimb  Hill Climb Racing                      0.5   \n",
       "0    com.supercell.clashofclans     Clash of Clans                      0.5   \n",
       "1       com.king.candycrushsaga   Candy Crush Saga                      0.5   \n",
       "2                com.tencent.ig                NaN                      0.1   \n",
       "3            com.dts.freefireth                NaN                      0.1   \n",
       "4           com.ea.games.r3_row                NaN                      0.1   \n",
       "\n",
       "      Gaming Category level  \n",
       "0              Arcade     3  \n",
       "1              Action     3  \n",
       "2              Casual     3  \n",
       "3              Casual     3  \n",
       "4              Racing     3  \n",
       "0            Strategy     4  \n",
       "1              Casual     4  \n",
       "2              Action     4  \n",
       "3              Action     4  \n",
       "4  Action & Adventure     4  "
      ]
     },
     "execution_count": 79,
     "metadata": {},
     "output_type": "execute_result"
    }
   ],
   "source": [
    "# Filter for level 3, sort by downloads, and pick top 5\n",
    "top_apps_level_3 = df_level_combined_h1d[df_level_combined_h1d['level'] == '3'] \\\n",
    "    .sort_values(by='num_downloads', ascending=False) \\\n",
    "    .head(5)\n",
    "\n",
    "app_name_mapping = {\n",
    "    \"com.kiloo.subwaysurf\": \"Subway Surfers\",\n",
    "    \"com.fingersoft.hillclimb\": \"Hill Climb Racing\",\n",
    "    \"com.imangi.templerun2\": \"Temple Run 2\",\n",
    "    \"com.outfit7.mytalkingtomfree\": \"My Talking Tom\",\n",
    "    \"me.pou.app\": \"Pou\"\n",
    "}\n",
    "\n",
    "# Convert num_downloads to per billion\n",
    "top_apps_level_3['num_downloads'] = top_apps_level_3['num_downloads'] / 1_000_000_000\n",
    "\n",
    "# Mapping the app column to their normal names\n",
    "top_apps_level_3['App'] = top_apps_level_3['my_app_id'].map(app_name_mapping)\n",
    "\n",
    "# Rename columns as per requirement\n",
    "top_apps_level_3 = top_apps_level_3.rename(columns={\n",
    "    'my_app_id': 'id',\n",
    "    'num_downloads': 'Downloads (in Billions)',\n",
    "    'categ_app': 'Gaming Category'\n",
    "})\n",
    "\n",
    "top_apps_level_3.reset_index(drop=True, inplace=True)\n",
    "top_apps_level_3 = top_apps_level_3[['id', 'App', 'Downloads (in Billions)', 'Gaming Category', 'level']]\n",
    "\n",
    "# Filter for level 4, sort by downloads, and pick top 5\n",
    "top_apps_level_4 = df_level_combined_h1d[df_level_combined_h1d['level'] == '4'] \\\n",
    "    .sort_values(by='num_downloads', ascending=False) \\\n",
    "    .head(5)\n",
    "\n",
    "additional_app_name_mapping = {\n",
    "    \"com.king.candycrushsaga\": \"Candy Crush Saga\",\n",
    "    \"com.supercell.clashofclans\": \"Clash of Clans\",\n",
    "    \"com.king.petrescuesaga\": \"Pet Rescue Saga\",\n",
    "    \"com.king.farmheroessaga\": \"Farm Heroes Saga\",\n",
    "    \"com.king.candycrushsodasaga\": \"Candy Crush Soda Saga\"\n",
    "}\n",
    "\n",
    "# Convert num_downloads to per billion\n",
    "top_apps_level_4['num_downloads'] = top_apps_level_4['num_downloads'] / 1_000_000_000\n",
    "\n",
    "# Mapping the app column to their normal names\n",
    "top_apps_level_4['App'] = top_apps_level_4['my_app_id'].map(additional_app_name_mapping)\n",
    "\n",
    "# Rename columns as per requirement\n",
    "top_apps_level_4 = top_apps_level_4.rename(columns={\n",
    "    'my_app_id': 'id',\n",
    "    'num_downloads': 'Downloads (in Billions)',\n",
    "    'categ_app': 'Gaming Category'\n",
    "})\n",
    "\n",
    "top_apps_level_4.reset_index(drop=True, inplace=True)\n",
    "top_apps_level_4 = top_apps_level_4[['id', 'App', 'Downloads (in Billions)', 'Gaming Category', 'level']]\n",
    "\n",
    "# Combine the tables\n",
    "combined_tables = pd.concat([top_apps_level_3, top_apps_level_4])\n",
    "combined_tables.sort_values(by='Downloads (in Billions)', ascending=False, inplace=True)\n",
    "combined_tables"
   ]
  },
  {
   "cell_type": "markdown",
   "metadata": {},
   "source": [
    "### 3.1.5 Other Results"
   ]
  },
  {
   "cell_type": "markdown",
   "metadata": {},
   "source": [
    "#### 3.1.5.1 Across Levels"
   ]
  },
  {
   "cell_type": "code",
   "execution_count": 80,
   "metadata": {},
   "outputs": [],
   "source": [
    "downloads_across_level = df_level_combined.copy()"
   ]
  },
  {
   "cell_type": "code",
   "execution_count": 81,
   "metadata": {},
   "outputs": [
    {
     "name": "stderr",
     "output_type": "stream",
     "text": [
      "C:\\Users\\Kevin\\AppData\\Local\\Temp\\ipykernel_11244\\1655852616.py:13: FutureWarning: \n",
      "\n",
      "Passing `palette` without assigning `hue` is deprecated and will be removed in v0.14.0. Assign the `x` variable to `hue` and set `legend=False` for the same effect.\n",
      "\n",
      "  sns.barplot(data=billion_downloads_summary, x='Category', y='Number of Apps', palette='viridis')\n"
     ]
    },
    {
     "data": {
      "image/png": "[encoded data removed]",
      "text/plain": [
       "<Figure size 1000x600 with 1 Axes>"
      ]
     },
     "metadata": {},
     "output_type": "display_data"
    }
   ],
   "source": [
    "# Add '1B Downloads' column\n",
    "downloads_across_level['1B Downloads'] = downloads_across_level['num_downloads'] >= 1_000_000_000\n",
    "\n",
    "# Filter for apps with 1 billion or more downloads\n",
    "billion_downloads = downloads_across_level[downloads_across_level['1B Downloads'] == True]\n",
    "\n",
    "# Count the number of apps per category\n",
    "billion_downloads_summary = billion_downloads['categ_app'].value_counts().reset_index()\n",
    "billion_downloads_summary.columns = ['Category', 'Number of Apps']\n",
    "\n",
    "# Visualize the data\n",
    "plt.figure(figsize=(10, 6))\n",
    "sns.barplot(data=billion_downloads_summary, x='Category', y='Number of Apps', palette='viridis')\n",
    "plt.title('Number of Apps with Over 1 Billion Downloads by Category')\n",
    "plt.xlabel('Category')\n",
    "plt.ylabel('Number of Apps')\n",
    "plt.xticks(rotation=45)\n",
    "plt.tight_layout()\n",
    "plt.show()\n",
    "\n"
   ]
  },
  {
   "cell_type": "code",
   "execution_count": 82,
   "metadata": {},
   "outputs": [
    {
     "data": {
      "image/png": "[encoded data removed]",
      "text/plain": [
       "<Figure size 1200x800 with 1 Axes>"
      ]
     },
     "metadata": {},
     "output_type": "display_data"
    }
   ],
   "source": [
    "# Define the bins and labels\n",
    "bins = [0, 100, 1000, 10000, 100000, 1000000, 10000000, 100000000, 1000000000, np.inf]\n",
    "labels = ['0-100', '101-1k', '1k-10k', '10k-100k', '100k-1M', '1M-10M', '10M-100M', '100M-1B', '1B+']\n",
    "\n",
    "# Create a new column 'downloads_bin' based on the number of downloads\n",
    "downloads_across_level['downloads_bin'] = pd.cut(downloads_across_level['num_downloads'], bins=bins, labels=labels)\n",
    "\n",
    "# Group by 'level' and 'downloads_bin' to get the count of apps per download bin for each level\n",
    "grouped = downloads_across_level.groupby(['level', 'downloads_bin']).size().unstack(fill_value=0)\n",
    "\n",
    "# Plotting the bar chart with log scale\n",
    "ax = grouped.plot(kind='bar', stacked=False, figsize=(12, 8), logy=True)\n",
    "ax.set_title('Number of Downloads by Level (Log Scale)')\n",
    "ax.set_xlabel('Level')\n",
    "ax.set_ylabel('Number of Apps (Log Scale)')\n",
    "ax.set_xticklabels(ax.get_xticklabels(), rotation=0)\n",
    "plt.legend(title='Download Range', bbox_to_anchor=(1.05, 1), loc='upper left')\n",
    "plt.tight_layout()\n",
    "\n",
    "plt.show()"
   ]
  },
  {
   "cell_type": "code",
   "execution_count": 83,
   "metadata": {},
   "outputs": [
    {
     "data": {
      "image/png": "[encoded data removed]",
      "text/plain": [
       "<Figure size 1000x600 with 2 Axes>"
      ]
     },
     "metadata": {},
     "output_type": "display_data"
    }
   ],
   "source": [
    "plt.figure(figsize=(10, 6))\n",
    "sns.heatmap(grouped, annot=True, fmt='d', cmap='YlGnBu', linewidths=0.5)\n",
    "plt.title('Heatmap of Download Bins Across Levels')\n",
    "plt.xlabel('Download Range')\n",
    "plt.ylabel('Level')\n",
    "plt.tight_layout()\n",
    "\n",
    "plt.show()\n"
   ]
  },
  {
   "cell_type": "markdown",
   "metadata": {},
   "source": [
    "#### 3.1.5.2 Paid vs Free Version"
   ]
  },
  {
   "cell_type": "code",
   "execution_count": 84,
   "metadata": {},
   "outputs": [],
   "source": [
    "paid_free_version = df_level_combined.copy()\n",
    "\n",
    "# if level is 0 or 1 then new column category is 'Free apps'\n",
    "paid_free_version['category'] = ['Free' if level in ['0', '1', '2 (Sample)', '3', '4'] else 'Paid' for level in paid_free_version['level']]"
   ]
  },
  {
   "cell_type": "code",
   "execution_count": 85,
   "metadata": {},
   "outputs": [],
   "source": [
    "# relevant columns\n",
    "relevant_columns_paid_free_version = ['num_downloads', 'category']\n",
    "\n",
    "# filter the relevant columns\n",
    "paid_free_version = paid_free_version[relevant_columns_paid_free_version]"
   ]
  },
  {
   "cell_type": "code",
   "execution_count": 86,
   "metadata": {},
   "outputs": [
    {
     "data": {
      "text/html": [
       "<div>\n",
       "<style scoped>\n",
       "    .dataframe tbody tr th:only-of-type {\n",
       "        vertical-align: middle;\n",
       "    }\n",
       "\n",
       "    .dataframe tbody tr th {\n",
       "        vertical-align: top;\n",
       "    }\n",
       "\n",
       "    .dataframe thead th {\n",
       "        text-align: right;\n",
       "    }\n",
       "</style>\n",
       "<table border=\"1\" class=\"dataframe\">\n",
       "  <thead>\n",
       "    <tr style=\"text-align: right;\">\n",
       "      <th></th>\n",
       "      <th>num_downloads</th>\n",
       "      <th>category</th>\n",
       "    </tr>\n",
       "  </thead>\n",
       "  <tbody>\n",
       "    <tr>\n",
       "      <th>14</th>\n",
       "      <td>50000</td>\n",
       "      <td>Free</td>\n",
       "    </tr>\n",
       "    <tr>\n",
       "      <th>24</th>\n",
       "      <td>5000</td>\n",
       "      <td>Free</td>\n",
       "    </tr>\n",
       "    <tr>\n",
       "      <th>25</th>\n",
       "      <td>500000</td>\n",
       "      <td>Free</td>\n",
       "    </tr>\n",
       "    <tr>\n",
       "      <th>26</th>\n",
       "      <td>100</td>\n",
       "      <td>Free</td>\n",
       "    </tr>\n",
       "    <tr>\n",
       "      <th>28</th>\n",
       "      <td>500</td>\n",
       "      <td>Free</td>\n",
       "    </tr>\n",
       "  </tbody>\n",
       "</table>\n",
       "</div>"
      ],
      "text/plain": [
       "    num_downloads category\n",
       "14          50000     Free\n",
       "24           5000     Free\n",
       "25         500000     Free\n",
       "26            100     Free\n",
       "28            500     Free"
      ]
     },
     "execution_count": 86,
     "metadata": {},
     "output_type": "execute_result"
    }
   ],
   "source": [
    "paid_free_version.head()"
   ]
  },
  {
   "cell_type": "code",
   "execution_count": 87,
   "metadata": {},
   "outputs": [],
   "source": [
    "# Calculate the sum of downloads for each category\n",
    "total_downloads_paid_free_version = paid_free_version.groupby('category')['num_downloads'].sum().reset_index()"
   ]
  },
  {
   "cell_type": "code",
   "execution_count": 88,
   "metadata": {},
   "outputs": [
    {
     "data": {
      "image/png": "[encoded data removed]",
      "text/plain": [
       "<Figure size 1000x600 with 1 Axes>"
      ]
     },
     "metadata": {},
     "output_type": "display_data"
    }
   ],
   "source": [
    "# Plot the total number of downloads by category\n",
    "plt.figure(figsize=(10, 6))\n",
    "sns.barplot(data=total_downloads_paid_free_version, x='category', y='num_downloads', hue='category', palette='viridis', dodge=False)\n",
    "plt.title('Total Number of Downloads by Category')\n",
    "plt.xlabel('Category')\n",
    "plt.ylabel('Total Number of Downloads')\n",
    "plt.show()"
   ]
  },
  {
   "cell_type": "code",
   "execution_count": 89,
   "metadata": {},
   "outputs": [
    {
     "data": {
      "image/png": "[encoded data removed]",
      "text/plain": [
       "<Figure size 1000x600 with 1 Axes>"
      ]
     },
     "metadata": {},
     "output_type": "display_data"
    }
   ],
   "source": [
    "# Plot the total number of downloads by category with a logarithmic scale\n",
    "plt.figure(figsize=(10, 6))\n",
    "sns.barplot(data=total_downloads_paid_free_version, x='category', y='num_downloads', hue='category', palette='viridis', dodge=False)\n",
    "plt.yscale('log')  # Set y-axis to logarithmic scale\n",
    "plt.title('Total Number of Downloads by Category (Log Scale)')\n",
    "plt.xlabel('Category')\n",
    "plt.ylabel('Total Number of Downloads (Log Scale)')\n",
    "plt.xticks(rotation=45, ha='right')  # Rotate x-axis labels for better visibility if needed\n",
    "plt.tight_layout()\n",
    "plt.show()\n"
   ]
  },
  {
   "cell_type": "markdown",
   "metadata": {},
   "source": [
    "#### 3.1.5.3 Gaming"
   ]
  },
  {
   "cell_type": "code",
   "execution_count": 90,
   "metadata": {},
   "outputs": [],
   "source": [
    "all_apps = df_level_combined.copy()\n",
    "\n",
    "# Filter other than gaming apps\n",
    "other_apps = all_apps[~all_apps['categ_app'].isin(gaming_categories)]\n",
    "\n",
    "gaming_apps = df_level_combined_h1d.copy()"
   ]
  },
  {
   "cell_type": "code",
   "execution_count": 91,
   "metadata": {},
   "outputs": [],
   "source": [
    "# relevant columns\n",
    "relevant_columns_other_apps = ['my_app_id', 'num_downloads', 'level', 'categ_app']\n",
    "\n",
    "# filter the relevant columns\n",
    "other_apps = other_apps[relevant_columns_other_apps]"
   ]
  },
  {
   "cell_type": "code",
   "execution_count": 92,
   "metadata": {},
   "outputs": [
    {
     "data": {
      "text/html": [
       "<div>\n",
       "<style scoped>\n",
       "    .dataframe tbody tr th:only-of-type {\n",
       "        vertical-align: middle;\n",
       "    }\n",
       "\n",
       "    .dataframe tbody tr th {\n",
       "        vertical-align: top;\n",
       "    }\n",
       "\n",
       "    .dataframe thead th {\n",
       "        text-align: right;\n",
       "    }\n",
       "</style>\n",
       "<table border=\"1\" class=\"dataframe\">\n",
       "  <thead>\n",
       "    <tr style=\"text-align: right;\">\n",
       "      <th></th>\n",
       "      <th>my_app_id</th>\n",
       "      <th>num_downloads</th>\n",
       "      <th>level</th>\n",
       "      <th>categ_app</th>\n",
       "    </tr>\n",
       "  </thead>\n",
       "  <tbody>\n",
       "    <tr>\n",
       "      <th>28</th>\n",
       "      <td>AndroidRoll.Roll</td>\n",
       "      <td>500</td>\n",
       "      <td>0</td>\n",
       "      <td>Casual</td>\n",
       "    </tr>\n",
       "    <tr>\n",
       "      <th>89</th>\n",
       "      <td>Discworld.Quiz</td>\n",
       "      <td>5000</td>\n",
       "      <td>0</td>\n",
       "      <td>Puzzle</td>\n",
       "    </tr>\n",
       "    <tr>\n",
       "      <th>111</th>\n",
       "      <td>ForgottenTales.PetrifiedSandworm</td>\n",
       "      <td>1000</td>\n",
       "      <td>0</td>\n",
       "      <td>Adventure</td>\n",
       "    </tr>\n",
       "    <tr>\n",
       "      <th>187</th>\n",
       "      <td>LiborVasa.Ships</td>\n",
       "      <td>500000</td>\n",
       "      <td>0</td>\n",
       "      <td>Brain Games</td>\n",
       "    </tr>\n",
       "    <tr>\n",
       "      <th>190</th>\n",
       "      <td>LuckyPangPang.app</td>\n",
       "      <td>1000</td>\n",
       "      <td>0</td>\n",
       "      <td>Arcade</td>\n",
       "    </tr>\n",
       "  </tbody>\n",
       "</table>\n",
       "</div>"
      ],
      "text/plain": [
       "                            my_app_id  num_downloads level    categ_app\n",
       "28                   AndroidRoll.Roll            500     0       Casual\n",
       "89                     Discworld.Quiz           5000     0       Puzzle\n",
       "111  ForgottenTales.PetrifiedSandworm           1000     0    Adventure\n",
       "187                   LiborVasa.Ships         500000     0  Brain Games\n",
       "190                 LuckyPangPang.app           1000     0       Arcade"
      ]
     },
     "execution_count": 92,
     "metadata": {},
     "output_type": "execute_result"
    }
   ],
   "source": [
    "gaming_apps.head()"
   ]
  },
  {
   "cell_type": "code",
   "execution_count": 93,
   "metadata": {},
   "outputs": [
    {
     "data": {
      "text/html": [
       "<div>\n",
       "<style scoped>\n",
       "    .dataframe tbody tr th:only-of-type {\n",
       "        vertical-align: middle;\n",
       "    }\n",
       "\n",
       "    .dataframe tbody tr th {\n",
       "        vertical-align: top;\n",
       "    }\n",
       "\n",
       "    .dataframe thead th {\n",
       "        text-align: right;\n",
       "    }\n",
       "</style>\n",
       "<table border=\"1\" class=\"dataframe\">\n",
       "  <thead>\n",
       "    <tr style=\"text-align: right;\">\n",
       "      <th></th>\n",
       "      <th>my_app_id</th>\n",
       "      <th>num_downloads</th>\n",
       "      <th>level</th>\n",
       "      <th>categ_app</th>\n",
       "    </tr>\n",
       "  </thead>\n",
       "  <tbody>\n",
       "    <tr>\n",
       "      <th>14</th>\n",
       "      <td>Alfasoft.Widgets.PsychedelicAnalogClock</td>\n",
       "      <td>50000</td>\n",
       "      <td>0</td>\n",
       "      <td>Personalization</td>\n",
       "    </tr>\n",
       "    <tr>\n",
       "      <th>24</th>\n",
       "      <td>AmaxSoftware.bubblelevel</td>\n",
       "      <td>5000</td>\n",
       "      <td>0</td>\n",
       "      <td>Tools</td>\n",
       "    </tr>\n",
       "    <tr>\n",
       "      <th>25</th>\n",
       "      <td>Andrew.Compass.com</td>\n",
       "      <td>500000</td>\n",
       "      <td>0</td>\n",
       "      <td>Tools</td>\n",
       "    </tr>\n",
       "    <tr>\n",
       "      <th>26</th>\n",
       "      <td>Android.Page</td>\n",
       "      <td>100</td>\n",
       "      <td>0</td>\n",
       "      <td>Libraries &amp; Demo</td>\n",
       "    </tr>\n",
       "    <tr>\n",
       "      <th>30</th>\n",
       "      <td>Animato.Paev</td>\n",
       "      <td>50000</td>\n",
       "      <td>0</td>\n",
       "      <td>Books &amp; Reference</td>\n",
       "    </tr>\n",
       "  </tbody>\n",
       "</table>\n",
       "</div>"
      ],
      "text/plain": [
       "                                  my_app_id  num_downloads level   \n",
       "14  Alfasoft.Widgets.PsychedelicAnalogClock          50000     0  \\\n",
       "24                 AmaxSoftware.bubblelevel           5000     0   \n",
       "25                       Andrew.Compass.com         500000     0   \n",
       "26                             Android.Page            100     0   \n",
       "30                             Animato.Paev          50000     0   \n",
       "\n",
       "            categ_app  \n",
       "14    Personalization  \n",
       "24              Tools  \n",
       "25              Tools  \n",
       "26   Libraries & Demo  \n",
       "30  Books & Reference  "
      ]
     },
     "execution_count": 93,
     "metadata": {},
     "output_type": "execute_result"
    }
   ],
   "source": [
    "other_apps.head()"
   ]
  },
  {
   "cell_type": "code",
   "execution_count": 94,
   "metadata": {},
   "outputs": [
    {
     "data": {
      "text/html": [
       "<div>\n",
       "<style scoped>\n",
       "    .dataframe tbody tr th:only-of-type {\n",
       "        vertical-align: middle;\n",
       "    }\n",
       "\n",
       "    .dataframe tbody tr th {\n",
       "        vertical-align: top;\n",
       "    }\n",
       "\n",
       "    .dataframe thead th {\n",
       "        text-align: right;\n",
       "    }\n",
       "</style>\n",
       "<table border=\"1\" class=\"dataframe\">\n",
       "  <thead>\n",
       "    <tr style=\"text-align: right;\">\n",
       "      <th></th>\n",
       "      <th>Category</th>\n",
       "      <th>Total Downloads</th>\n",
       "      <th>Total Amount</th>\n",
       "      <th>Average Downloads</th>\n",
       "    </tr>\n",
       "  </thead>\n",
       "  <tbody>\n",
       "    <tr>\n",
       "      <th>0</th>\n",
       "      <td>Gaming Apps</td>\n",
       "      <td>65397548186</td>\n",
       "      <td>141913</td>\n",
       "      <td>460828.452545</td>\n",
       "    </tr>\n",
       "    <tr>\n",
       "      <th>1</th>\n",
       "      <td>Other Apps</td>\n",
       "      <td>151246814530</td>\n",
       "      <td>775023</td>\n",
       "      <td>195151.388449</td>\n",
       "    </tr>\n",
       "  </tbody>\n",
       "</table>\n",
       "</div>"
      ],
      "text/plain": [
       "      Category  Total Downloads  Total Amount  Average Downloads\n",
       "0  Gaming Apps      65397548186        141913      460828.452545\n",
       "1   Other Apps     151246814530        775023      195151.388449"
      ]
     },
     "execution_count": 94,
     "metadata": {},
     "output_type": "execute_result"
    }
   ],
   "source": [
    "# Calculate the sum of downloads for each category\n",
    "total_downloads_gaming_apps = gaming_apps['num_downloads'].sum()\n",
    "total_downloads_other_apps = other_apps['num_downloads'].sum()\n",
    "avg_downloads_gaming_apps = gaming_apps['num_downloads'].mean()\n",
    "avg_downloads_other_apps = other_apps['num_downloads'].mean()\n",
    "total_amount_gaming_apps = len(gaming_apps)\n",
    "total_amount_other_apps = len(other_apps)\n",
    "\n",
    "# Creating a new dataframe to represent the totals\n",
    "summary_data = {\n",
    "    \"Category\": [\"Gaming Apps\", \"Other Apps\"],\n",
    "    \"Total Downloads\": [total_downloads_gaming_apps, total_downloads_other_apps],\n",
    "    \"Total Amount\": [total_amount_gaming_apps, total_amount_other_apps],\n",
    "    \"Average Downloads\": [avg_downloads_gaming_apps, avg_downloads_other_apps]\n",
    "\n",
    "}\n",
    "df_summary = pd.DataFrame(summary_data)\n",
    "\n",
    "df_summary.head()"
   ]
  },
  {
   "cell_type": "code",
   "execution_count": 95,
   "metadata": {},
   "outputs": [
    {
     "data": {
      "image/png": "[encoded data removed]",
      "text/plain": [
       "<Figure size 1600x800 with 2 Axes>"
      ]
     },
     "metadata": {},
     "output_type": "display_data"
    }
   ],
   "source": [
    "# Creating pie charts next to each other\n",
    "fig, axs = plt.subplots(1, 2, figsize=(16, 8))\n",
    "\n",
    "# Pie chart for Total Downloads\n",
    "axs[0].pie(df_summary['Total Downloads'], labels=df_summary['Category'], autopct='%1.1f%%', startangle=140)\n",
    "axs[0].set_title('Proportion of Total Downloads: Gaming vs Other Apps', fontsize=14)\n",
    "\n",
    "# Pie chart for Total Amount\n",
    "axs[1].pie(df_summary['Total Amount'], labels=df_summary['Category'], autopct='%1.1f%%', startangle=140)\n",
    "axs[1].set_title('Proportion of Total Amount: Gaming vs Other Apps', fontsize=14)\n",
    "\n",
    "# Display the pie charts\n",
    "plt.tight_layout()\n",
    "plt.show()"
   ]
  },
  {
   "cell_type": "code",
   "execution_count": 96,
   "metadata": {},
   "outputs": [
    {
     "data": {
      "image/png": "[encoded data removed]",
      "text/plain": [
       "<Figure size 1000x600 with 1 Axes>"
      ]
     },
     "metadata": {},
     "output_type": "display_data"
    }
   ],
   "source": [
    "# Plot the average number of downloads by category\n",
    "plt.figure(figsize=(10, 6))\n",
    "sns.barplot(data=df_summary, x='Category', y='Average Downloads', hue='Category', palette='viridis', dodge=False)\n",
    "plt.title('Average Number of Downloads by Category')\n",
    "plt.xlabel('Category')\n",
    "plt.ylabel('Average Number of Downloads')\n",
    "plt.show()"
   ]
  },
  {
   "cell_type": "code",
   "execution_count": 97,
   "metadata": {},
   "outputs": [
    {
     "data": {
      "text/html": [
       "<div>\n",
       "<style scoped>\n",
       "    .dataframe tbody tr th:only-of-type {\n",
       "        vertical-align: middle;\n",
       "    }\n",
       "\n",
       "    .dataframe tbody tr th {\n",
       "        vertical-align: top;\n",
       "    }\n",
       "\n",
       "    .dataframe thead th {\n",
       "        text-align: right;\n",
       "    }\n",
       "</style>\n",
       "<table border=\"1\" class=\"dataframe\">\n",
       "  <thead>\n",
       "    <tr style=\"text-align: right;\">\n",
       "      <th></th>\n",
       "      <th>Category</th>\n",
       "      <th>Avg Downloads</th>\n",
       "      <th>% Diff vs Baseline</th>\n",
       "      <th>% Diff Gaming vs Other</th>\n",
       "    </tr>\n",
       "  </thead>\n",
       "  <tbody>\n",
       "    <tr>\n",
       "      <th>0</th>\n",
       "      <td>Gaming</td>\n",
       "      <td>460828.45</td>\n",
       "      <td>95.04</td>\n",
       "      <td>136.14</td>\n",
       "    </tr>\n",
       "    <tr>\n",
       "      <th>1</th>\n",
       "      <td>Other</td>\n",
       "      <td>195151.39</td>\n",
       "      <td>-17.40</td>\n",
       "      <td>-136.14</td>\n",
       "    </tr>\n",
       "    <tr>\n",
       "      <th>2</th>\n",
       "      <td>Baseline</td>\n",
       "      <td>236269.88</td>\n",
       "      <td>0.00</td>\n",
       "      <td>NaN</td>\n",
       "    </tr>\n",
       "  </tbody>\n",
       "</table>\n",
       "</div>"
      ],
      "text/plain": [
       "   Category  Avg Downloads  % Diff vs Baseline  % Diff Gaming vs Other\n",
       "0    Gaming      460828.45               95.04                  136.14\n",
       "1     Other      195151.39              -17.40                 -136.14\n",
       "2  Baseline      236269.88                0.00                     NaN"
      ]
     },
     "execution_count": 97,
     "metadata": {},
     "output_type": "execute_result"
    }
   ],
   "source": [
    "# Combine both datasets\n",
    "all_apps = pd.concat([gaming_apps, other_apps])\n",
    "\n",
    "# Calculate averages\n",
    "gaming_avg = gaming_apps['num_downloads'].mean()\n",
    "other_avg = other_apps['num_downloads'].mean()\n",
    "overall_avg = all_apps['num_downloads'].mean()\n",
    "\n",
    "# Percentage difference between gaming apps and overall average\n",
    "gaming_vs_baseline_difference = ((gaming_avg - overall_avg) / overall_avg) * 100\n",
    "\n",
    "# Percentage difference between other apps and overall average\n",
    "other_vs_baseline_difference = ((other_avg - overall_avg) / overall_avg) * 100\n",
    "\n",
    "# Percentage difference between gaming apps and other apps\n",
    "gaming_vs_other_difference = ((gaming_avg - other_avg) / other_avg) * 100\n",
    "\n",
    "# Create a summary table with shorter column names\n",
    "summary_table = pd.DataFrame({\n",
    "    'Category': ['Gaming', 'Other', 'Baseline'],\n",
    "    'Avg Downloads': [gaming_avg, other_avg, overall_avg],\n",
    "    '% Diff vs Baseline': [\n",
    "        gaming_vs_baseline_difference, \n",
    "        other_vs_baseline_difference, \n",
    "        0  # Baseline itself, so difference is 0%\n",
    "    ],\n",
    "    '% Diff Gaming vs Other': [\n",
    "        gaming_vs_other_difference, \n",
    "        gaming_vs_other_difference * -1, \n",
    "        None  # No comparison for the baseline\n",
    "    ]\n",
    "})\n",
    "\n",
    "# Round the values for better readability\n",
    "summary_table = summary_table.round(2)\n",
    "\n",
    "summary_table"
   ]
  },
  {
   "cell_type": "markdown",
   "metadata": {},
   "source": [
    "## 3.2 Rating"
   ]
  },
  {
   "cell_type": "markdown",
   "metadata": {},
   "source": [
    "The downloads of an app are not everything. An app can be downloaded often, but may not\n",
    "be highly rated.\n",
    "* H2a: Apps that require the user to pay to unlock features (level 2, 3, and 4) will tend to have lower ratings than the version that requires payment upfront (level 5). The main draw of a freemium model is to attract users, and have them update to a paid version (Kumar 2014). However, as Kumar (2014) points out, this can be a double-edged sword. Too few features, and it may not be attractive to users. Too many features, and the users will not update.\n",
    "\n",
    "* H2b: Fully premium apps (level 5) will have less variance in their ratings, while all other\n",
    "levels will have more. In the same vein as H2a, users have more realistic expectations of\n",
    "paid apps compared to apps that require you to unlock features (Kumar 2014). Therefore, more users downloading premium apps will be satisfied with their purchase, leading to less variance.\n",
    "\n",
    "* H3: For apps that utilize a sample and a premium version of the same app (level 2), the rating of the paid-for version is positively associated with the rating of the free version of the same app. This was true for the study on the most popular apps in the Google Play Store by Liu, Au, and Choi (2012), so it is expected a similar pattern should arise for this dataset."
   ]
  },
  {
   "cell_type": "markdown",
   "metadata": {},
   "source": [
    "### 3.2.1 H2a"
   ]
  },
  {
   "cell_type": "code",
   "execution_count": 98,
   "metadata": {},
   "outputs": [],
   "source": [
    "df_level_combined_h2a = df_level_combined.copy()\n",
    "\n",
    "# Filter only levels 2, 3, 4, and 5\n",
    "df_h2a = df_level_combined_h2a[df_level_combined_h2a['level'].isin(['2 (Sample)', '2 (Premium)', '3', '4', '5'])].copy()\n",
    "\n",
    "# Filter on premium and free apps\n",
    "df_h2a['category'] = np.where((df_h2a['level'] == '5') | (df_h2a['level'] == '2 (Premium)'), 'Premium apps', 'Free apps')"
   ]
  },
  {
   "cell_type": "code",
   "execution_count": 99,
   "metadata": {},
   "outputs": [],
   "source": [
    "# relevant columns\n",
    "relevant_columns_h2a = ['category', 'rating_app', 'bayesian_average']\n",
    "\n",
    "# filter the relevant columns\n",
    "df_h2a = df_h2a[relevant_columns_h2a]"
   ]
  },
  {
   "cell_type": "code",
   "execution_count": 100,
   "metadata": {},
   "outputs": [
    {
     "data": {
      "text/html": [
       "<div>\n",
       "<style scoped>\n",
       "    .dataframe tbody tr th:only-of-type {\n",
       "        vertical-align: middle;\n",
       "    }\n",
       "\n",
       "    .dataframe tbody tr th {\n",
       "        vertical-align: top;\n",
       "    }\n",
       "\n",
       "    .dataframe thead th {\n",
       "        text-align: right;\n",
       "    }\n",
       "</style>\n",
       "<table border=\"1\" class=\"dataframe\">\n",
       "  <thead>\n",
       "    <tr style=\"text-align: right;\">\n",
       "      <th></th>\n",
       "      <th>category</th>\n",
       "      <th>rating_app</th>\n",
       "      <th>bayesian_average</th>\n",
       "    </tr>\n",
       "  </thead>\n",
       "  <tbody>\n",
       "    <tr>\n",
       "      <th>130</th>\n",
       "      <td>Free apps</td>\n",
       "      <td>4.4</td>\n",
       "      <td>4.377555</td>\n",
       "    </tr>\n",
       "    <tr>\n",
       "      <th>132</th>\n",
       "      <td>Free apps</td>\n",
       "      <td>3.9</td>\n",
       "      <td>3.92358</td>\n",
       "    </tr>\n",
       "    <tr>\n",
       "      <th>142</th>\n",
       "      <td>Free apps</td>\n",
       "      <td>4.3</td>\n",
       "      <td>4.295344</td>\n",
       "    </tr>\n",
       "    <tr>\n",
       "      <th>156</th>\n",
       "      <td>Free apps</td>\n",
       "      <td>3.9</td>\n",
       "      <td>3.940634</td>\n",
       "    </tr>\n",
       "    <tr>\n",
       "      <th>159</th>\n",
       "      <td>Free apps</td>\n",
       "      <td>2.5</td>\n",
       "      <td>3.915941</td>\n",
       "    </tr>\n",
       "  </tbody>\n",
       "</table>\n",
       "</div>"
      ],
      "text/plain": [
       "      category  rating_app bayesian_average\n",
       "130  Free apps         4.4         4.377555\n",
       "132  Free apps         3.9          3.92358\n",
       "142  Free apps         4.3         4.295344\n",
       "156  Free apps         3.9         3.940634\n",
       "159  Free apps         2.5         3.915941"
      ]
     },
     "execution_count": 100,
     "metadata": {},
     "output_type": "execute_result"
    }
   ],
   "source": [
    "df_h2a.head()"
   ]
  },
  {
   "cell_type": "markdown",
   "metadata": {},
   "source": [
    "#### 3.2.1.1 Apps that require the user to pay to unlock features (level 2, 3, and 4) will tend to have lower ratings than the version that requires payment upfront (level 5)."
   ]
  },
  {
   "cell_type": "code",
   "execution_count": 101,
   "metadata": {},
   "outputs": [],
   "source": [
    "# Calculating the mean rating for Free and Premium apps\n",
    "mean_rating_free = df_h2a[df_h2a['category'] == 'Free apps']['rating_app'].mean()\n",
    "mean_rating_premium = df_h2a[df_h2a['category'] == 'Premium apps']['rating_app'].mean()\n",
    "\n",
    "# Calculating the mean Bayesian average for Free and Premium apps\n",
    "mean_bayesian_free = df_h2a[df_h2a['category'] == 'Free apps']['bayesian_average'].mean()\n",
    "mean_bayesian_premium = df_h2a[df_h2a['category'] == 'Premium apps']['bayesian_average'].mean()\n",
    "\n",
    "# Creating a new DataFrame from these results\n",
    "mean_results = pd.DataFrame({\n",
    "    'Category': ['Free apps', 'Premium apps'],\n",
    "    'Mean Rating': [mean_rating_free, mean_rating_premium],\n",
    "    'Mean Bayesian Average': [mean_bayesian_free, mean_bayesian_premium]\n",
    "})"
   ]
  },
  {
   "cell_type": "code",
   "execution_count": 102,
   "metadata": {},
   "outputs": [
    {
     "data": {
      "image/png": "[encoded data removed]",
      "text/plain": [
       "<Figure size 640x480 with 1 Axes>"
      ]
     },
     "metadata": {},
     "output_type": "display_data"
    }
   ],
   "source": [
    "# Combine ratings for boxplot\n",
    "categories = ['Free apps', 'Premium apps']\n",
    "ratings_data = [df_h2a[df_h2a['category'] == cat]['rating_app'] for cat in categories]\n",
    "\n",
    "plt.boxplot(ratings_data, labels=categories, patch_artist=True)\n",
    "plt.title('Boxplot of Ratings for Free and Premium Apps')\n",
    "plt.ylabel('Ratings')\n",
    "plt.xlabel('App Category')\n",
    "plt.grid(axis='y', linestyle='--', alpha=0.7)\n",
    "\n",
    "plt.show()"
   ]
  },
  {
   "cell_type": "code",
   "execution_count": 103,
   "metadata": {},
   "outputs": [
    {
     "data": {
      "text/html": [
       "<div>\n",
       "<style scoped>\n",
       "    .dataframe tbody tr th:only-of-type {\n",
       "        vertical-align: middle;\n",
       "    }\n",
       "\n",
       "    .dataframe tbody tr th {\n",
       "        vertical-align: top;\n",
       "    }\n",
       "\n",
       "    .dataframe thead th {\n",
       "        text-align: right;\n",
       "    }\n",
       "</style>\n",
       "<table border=\"1\" class=\"dataframe\">\n",
       "  <thead>\n",
       "    <tr style=\"text-align: right;\">\n",
       "      <th></th>\n",
       "      <th>Category</th>\n",
       "      <th>Mean Rating</th>\n",
       "      <th>Mean Bayesian Average</th>\n",
       "    </tr>\n",
       "  </thead>\n",
       "  <tbody>\n",
       "    <tr>\n",
       "      <th>0</th>\n",
       "      <td>Free apps</td>\n",
       "      <td>4.082801</td>\n",
       "      <td>4.118043</td>\n",
       "    </tr>\n",
       "    <tr>\n",
       "      <th>1</th>\n",
       "      <td>Premium apps</td>\n",
       "      <td>4.084874</td>\n",
       "      <td>4.110071</td>\n",
       "    </tr>\n",
       "  </tbody>\n",
       "</table>\n",
       "</div>"
      ],
      "text/plain": [
       "       Category  Mean Rating  Mean Bayesian Average\n",
       "0     Free apps     4.082801               4.118043\n",
       "1  Premium apps     4.084874               4.110071"
      ]
     },
     "execution_count": 103,
     "metadata": {},
     "output_type": "execute_result"
    }
   ],
   "source": [
    "mean_results"
   ]
  },
  {
   "cell_type": "markdown",
   "metadata": {},
   "source": [
    "#### 3.1.3.2 Too few features, and it may not be attractive to users. Too many features, and the users will not update."
   ]
  },
  {
   "cell_type": "code",
   "execution_count": 104,
   "metadata": {},
   "outputs": [],
   "source": [
    "### NOT POSSIBLE WITH DATASET"
   ]
  },
  {
   "cell_type": "markdown",
   "metadata": {},
   "source": [
    "### 3.2.2 H2b"
   ]
  },
  {
   "cell_type": "code",
   "execution_count": 105,
   "metadata": {},
   "outputs": [],
   "source": [
    "df_level_combined_h2b = df_level_combined.copy()\n",
    "\n",
    "# Filter on level 5 and others\n",
    "df_level_combined_h2b['category'] = np.where(df_level_combined_h2b['level'] == '5', 'Premium apps', 'Other apps')"
   ]
  },
  {
   "cell_type": "code",
   "execution_count": 106,
   "metadata": {},
   "outputs": [],
   "source": [
    "# relevant columns\n",
    "relevant_columns_h2b = ['category', 'rating_app', 'bayesian_average']\n",
    "\n",
    "# filter the relevant columns\n",
    "df_level_combined_h2b = df_level_combined_h2b[relevant_columns_h2b]"
   ]
  },
  {
   "cell_type": "code",
   "execution_count": 107,
   "metadata": {},
   "outputs": [
    {
     "data": {
      "text/html": [
       "<div>\n",
       "<style scoped>\n",
       "    .dataframe tbody tr th:only-of-type {\n",
       "        vertical-align: middle;\n",
       "    }\n",
       "\n",
       "    .dataframe tbody tr th {\n",
       "        vertical-align: top;\n",
       "    }\n",
       "\n",
       "    .dataframe thead th {\n",
       "        text-align: right;\n",
       "    }\n",
       "</style>\n",
       "<table border=\"1\" class=\"dataframe\">\n",
       "  <thead>\n",
       "    <tr style=\"text-align: right;\">\n",
       "      <th></th>\n",
       "      <th>category</th>\n",
       "      <th>rating_app</th>\n",
       "      <th>bayesian_average</th>\n",
       "    </tr>\n",
       "  </thead>\n",
       "  <tbody>\n",
       "    <tr>\n",
       "      <th>14</th>\n",
       "      <td>Other apps</td>\n",
       "      <td>3.9</td>\n",
       "      <td>3.918767</td>\n",
       "    </tr>\n",
       "    <tr>\n",
       "      <th>24</th>\n",
       "      <td>Other apps</td>\n",
       "      <td>3.9</td>\n",
       "      <td>4.026743</td>\n",
       "    </tr>\n",
       "    <tr>\n",
       "      <th>25</th>\n",
       "      <td>Other apps</td>\n",
       "      <td>3.7</td>\n",
       "      <td>3.710579</td>\n",
       "    </tr>\n",
       "    <tr>\n",
       "      <th>26</th>\n",
       "      <td>Other apps</td>\n",
       "      <td>4.0</td>\n",
       "      <td>4.070666</td>\n",
       "    </tr>\n",
       "    <tr>\n",
       "      <th>28</th>\n",
       "      <td>Other apps</td>\n",
       "      <td>4.4</td>\n",
       "      <td>4.180342</td>\n",
       "    </tr>\n",
       "  </tbody>\n",
       "</table>\n",
       "</div>"
      ],
      "text/plain": [
       "      category  rating_app bayesian_average\n",
       "14  Other apps         3.9         3.918767\n",
       "24  Other apps         3.9         4.026743\n",
       "25  Other apps         3.7         3.710579\n",
       "26  Other apps         4.0         4.070666\n",
       "28  Other apps         4.4         4.180342"
      ]
     },
     "execution_count": 107,
     "metadata": {},
     "output_type": "execute_result"
    }
   ],
   "source": [
    "df_level_combined_h2b.head()"
   ]
  },
  {
   "cell_type": "markdown",
   "metadata": {},
   "source": [
    "#### 3.2.2.1 Fully premium apps (level 5) will have less variance in their ratings, while all other levels will have more."
   ]
  },
  {
   "cell_type": "code",
   "execution_count": 108,
   "metadata": {},
   "outputs": [
    {
     "name": "stdout",
     "output_type": "stream",
     "text": [
      "Average rating for Premium apps: 4.059768156888816\n",
      "Average rating for Other apps: 4.101814917127072\n"
     ]
    }
   ],
   "source": [
    "# Average rating for Premium and Other apps\n",
    "average_rating_premium_h2b = df_level_combined_h2b[df_level_combined_h2b['category'] == 'Premium apps']['rating_app'].mean()\n",
    "average_rating_other_h2b = df_level_combined_h2b[df_level_combined_h2b['category'] == 'Other apps']['rating_app'].mean()\n",
    "\n",
    "print(f\"Average rating for Premium apps: {average_rating_premium_h2b}\")\n",
    "print(f\"Average rating for Other apps: {average_rating_other_h2b}\")"
   ]
  },
  {
   "cell_type": "code",
   "execution_count": 109,
   "metadata": {},
   "outputs": [
    {
     "data": {
      "image/png": "[encoded data removed]",
      "text/plain": [
       "<Figure size 1000x600 with 1 Axes>"
      ]
     },
     "metadata": {},
     "output_type": "display_data"
    }
   ],
   "source": [
    "# Filtering data for Free and Premium apps\n",
    "other_apps = df_level_combined_h2b[df_level_combined_h2b['category'] == 'Other apps']\n",
    "premium_apps = df_level_combined_h2b[df_level_combined_h2b['category'] == 'Premium apps']\n",
    "\n",
    "# Calculating variances for ratings and bayesian averages\n",
    "other_variance_rating = other_apps['rating_app'].var()\n",
    "premium_variance_rating = premium_apps['rating_app'].var()\n",
    "\n",
    "# Creating a bar plot for variances in ratings\n",
    "fig, ax = plt.subplots(figsize=(10, 6))\n",
    "ax.bar(['Other apps', 'Premium apps'], [other_variance_rating, premium_variance_rating], color=['skyblue', 'orange'])\n",
    "ax.set_ylabel('Variance in Ratings', fontsize=12)\n",
    "ax.set_title('Variance in Ratings for Other vs Premium Apps', fontsize=14)\n",
    "ax.set_ylim(0, max(other_variance_rating, premium_variance_rating) * 1.2)\n",
    "\n",
    "plt.tight_layout()\n",
    "plt.show()"
   ]
  },
  {
   "cell_type": "markdown",
   "metadata": {},
   "source": [
    "### 3.2.3 H3"
   ]
  },
  {
   "cell_type": "code",
   "execution_count": 110,
   "metadata": {},
   "outputs": [],
   "source": [
    "df_sample_h3 = df_level_2_sample.copy()\n",
    "df_premium_h3 = df_level_2_premium.copy()\n",
    "df_mapping_h3 = df_similarities.copy()"
   ]
  },
  {
   "cell_type": "code",
   "execution_count": 111,
   "metadata": {},
   "outputs": [],
   "source": [
    "# relevant columns\n",
    "relevant_columns_h3 = ['my_app_id', 'level', 'rating_app', 'bayesian_average']\n",
    "relevant_columns_mapping_h3 =  ['Sample app name',\t'Premium app name']\n",
    "\n",
    "# filter the relevant columns\n",
    "df_sample_h3 = df_sample_h3[relevant_columns_h3]\n",
    "df_premium_h3 = df_premium_h3[relevant_columns_h3]\n",
    "df_mapping_h3 = df_mapping_h3[relevant_columns_mapping_h3]\n"
   ]
  },
  {
   "cell_type": "code",
   "execution_count": 112,
   "metadata": {},
   "outputs": [],
   "source": [
    "# Merge mapping dataframe with sample dataframe and premium dataframe\n",
    "df_mapped_h3 = (\n",
    "    df_mapping_h3\n",
    "    .merge(df_sample_h3[['my_app_id', 'bayesian_average', 'rating_app']], left_on='Sample app name', right_on='my_app_id', how='left')\n",
    "    .drop(columns=['my_app_id'])\n",
    "    .rename(columns={'num_downloads': 'Sample Downloads', 'rating_app': 'Sample Rating', 'bayesian_average': 'Sample Bayesian Average'})\n",
    "    .merge(df_premium_h3[['my_app_id', 'bayesian_average', 'rating_app']], left_on='Premium app name', right_on='my_app_id', how='left')\n",
    "    .drop(columns=['my_app_id'])\n",
    "    .rename(columns={'num_downloads': 'Premium Downloads', 'rating_app': 'Premium Rating', 'bayesian_average': 'Premium Bayesian Average'})\n",
    ")"
   ]
  },
  {
   "cell_type": "code",
   "execution_count": 113,
   "metadata": {},
   "outputs": [
    {
     "data": {
      "text/html": [
       "<div>\n",
       "<style scoped>\n",
       "    .dataframe tbody tr th:only-of-type {\n",
       "        vertical-align: middle;\n",
       "    }\n",
       "\n",
       "    .dataframe tbody tr th {\n",
       "        vertical-align: top;\n",
       "    }\n",
       "\n",
       "    .dataframe thead th {\n",
       "        text-align: right;\n",
       "    }\n",
       "</style>\n",
       "<table border=\"1\" class=\"dataframe\">\n",
       "  <thead>\n",
       "    <tr style=\"text-align: right;\">\n",
       "      <th></th>\n",
       "      <th>Sample app name</th>\n",
       "      <th>Premium app name</th>\n",
       "      <th>Sample Bayesian Average</th>\n",
       "      <th>Sample Rating</th>\n",
       "      <th>Premium Bayesian Average</th>\n",
       "      <th>Premium Rating</th>\n",
       "    </tr>\n",
       "  </thead>\n",
       "  <tbody>\n",
       "    <tr>\n",
       "      <th>0</th>\n",
       "      <td>HBSpritverbrauch.lite</td>\n",
       "      <td>HBSpritverbrauch.full</td>\n",
       "      <td>4.377555</td>\n",
       "      <td>4.4</td>\n",
       "      <td>4.574476</td>\n",
       "      <td>4.6</td>\n",
       "    </tr>\n",
       "    <tr>\n",
       "      <th>1</th>\n",
       "      <td>HBVerbrauchszaehler.lite</td>\n",
       "      <td>HBVerbrauchszaehler.full</td>\n",
       "      <td>3.92358</td>\n",
       "      <td>3.9</td>\n",
       "      <td>4.576525</td>\n",
       "      <td>4.6</td>\n",
       "    </tr>\n",
       "    <tr>\n",
       "      <th>2</th>\n",
       "      <td>Hurricane.Software</td>\n",
       "      <td>Hurricane.Software.Pro</td>\n",
       "      <td>4.295344</td>\n",
       "      <td>4.3</td>\n",
       "      <td>4.063529</td>\n",
       "      <td>4.0</td>\n",
       "    </tr>\n",
       "    <tr>\n",
       "      <th>3</th>\n",
       "      <td>JVC.FOViewerDX</td>\n",
       "      <td>JVC.FOViewerDXFull</td>\n",
       "      <td>3.940634</td>\n",
       "      <td>3.9</td>\n",
       "      <td>4.159597</td>\n",
       "      <td>4.1</td>\n",
       "    </tr>\n",
       "    <tr>\n",
       "      <th>4</th>\n",
       "      <td>JVC.FOViewerDXHDTrial</td>\n",
       "      <td>JVC.FOViewerDXHD</td>\n",
       "      <td>3.915941</td>\n",
       "      <td>2.5</td>\n",
       "      <td>4.161655</td>\n",
       "      <td>3.8</td>\n",
       "    </tr>\n",
       "  </tbody>\n",
       "</table>\n",
       "</div>"
      ],
      "text/plain": [
       "            Sample app name          Premium app name Sample Bayesian Average   \n",
       "0     HBSpritverbrauch.lite     HBSpritverbrauch.full                4.377555  \\\n",
       "1  HBVerbrauchszaehler.lite  HBVerbrauchszaehler.full                 3.92358   \n",
       "2        Hurricane.Software    Hurricane.Software.Pro                4.295344   \n",
       "3            JVC.FOViewerDX        JVC.FOViewerDXFull                3.940634   \n",
       "4     JVC.FOViewerDXHDTrial          JVC.FOViewerDXHD                3.915941   \n",
       "\n",
       "   Sample Rating Premium Bayesian Average  Premium Rating  \n",
       "0            4.4                 4.574476             4.6  \n",
       "1            3.9                 4.576525             4.6  \n",
       "2            4.3                 4.063529             4.0  \n",
       "3            3.9                 4.159597             4.1  \n",
       "4            2.5                 4.161655             3.8  "
      ]
     },
     "execution_count": 113,
     "metadata": {},
     "output_type": "execute_result"
    }
   ],
   "source": [
    "df_mapped_h3.head()"
   ]
  },
  {
   "cell_type": "markdown",
   "metadata": {},
   "source": [
    "#### 3.2.3.1 For apps that utilize a sample and a premium version of the same app (level 2), the rating of the paid-for version is positively associated with the rating of the free version of the same app."
   ]
  },
  {
   "cell_type": "code",
   "execution_count": 114,
   "metadata": {},
   "outputs": [
    {
     "ename": "AttributeError",
     "evalue": "'float' object has no attribute 'shape'",
     "output_type": "error",
     "traceback": [
      "\u001b[1;31m---------------------------------------------------------------------------\u001b[0m",
      "\u001b[1;31mAttributeError\u001b[0m                            Traceback (most recent call last)",
      "Cell \u001b[1;32mIn[114], line 5\u001b[0m\n\u001b[0;32m      2\u001b[0m correlation_rating_h3 \u001b[38;5;241m=\u001b[39m df_mapped_h3[\u001b[38;5;124m\"\u001b[39m\u001b[38;5;124mSample Rating\u001b[39m\u001b[38;5;124m\"\u001b[39m]\u001b[38;5;241m.\u001b[39mcorr(df_mapped_h3[\u001b[38;5;124m\"\u001b[39m\u001b[38;5;124mPremium Rating\u001b[39m\u001b[38;5;124m\"\u001b[39m])\n\u001b[0;32m      4\u001b[0m \u001b[38;5;66;03m# Correlation Coefficient for Bayesian averages\u001b[39;00m\n\u001b[1;32m----> 5\u001b[0m correlation_bayesian_rating_h3 \u001b[38;5;241m=\u001b[39m \u001b[43mdf_mapped_h3\u001b[49m\u001b[43m[\u001b[49m\u001b[38;5;124;43m\"\u001b[39;49m\u001b[38;5;124;43mSample Bayesian Average\u001b[39;49m\u001b[38;5;124;43m\"\u001b[39;49m\u001b[43m]\u001b[49m\u001b[38;5;241;43m.\u001b[39;49m\u001b[43mcorr\u001b[49m\u001b[43m(\u001b[49m\u001b[43mdf_mapped_h3\u001b[49m\u001b[43m[\u001b[49m\u001b[38;5;124;43m\"\u001b[39;49m\u001b[38;5;124;43mPremium Bayesian Average\u001b[39;49m\u001b[38;5;124;43m\"\u001b[39;49m\u001b[43m]\u001b[49m\u001b[43m)\u001b[49m\n",
      "File \u001b[1;32mc:\\Users\\Kevin\\AppData\\Local\\Programs\\Python\\Python310\\lib\\site-packages\\pandas\\core\\series.py:2723\u001b[0m, in \u001b[0;36mSeries.corr\u001b[1;34m(self, other, method, min_periods)\u001b[0m\n\u001b[0;32m   2720\u001b[0m     \u001b[38;5;28;01mreturn\u001b[39;00m np\u001b[38;5;241m.\u001b[39mnan\n\u001b[0;32m   2722\u001b[0m \u001b[38;5;28;01mif\u001b[39;00m method \u001b[38;5;129;01min\u001b[39;00m [\u001b[38;5;124m\"\u001b[39m\u001b[38;5;124mpearson\u001b[39m\u001b[38;5;124m\"\u001b[39m, \u001b[38;5;124m\"\u001b[39m\u001b[38;5;124mspearman\u001b[39m\u001b[38;5;124m\"\u001b[39m, \u001b[38;5;124m\"\u001b[39m\u001b[38;5;124mkendall\u001b[39m\u001b[38;5;124m\"\u001b[39m] \u001b[38;5;129;01mor\u001b[39;00m \u001b[38;5;28mcallable\u001b[39m(method):\n\u001b[1;32m-> 2723\u001b[0m     \u001b[38;5;28;01mreturn\u001b[39;00m \u001b[43mnanops\u001b[49m\u001b[38;5;241;43m.\u001b[39;49m\u001b[43mnancorr\u001b[49m\u001b[43m(\u001b[49m\n\u001b[0;32m   2724\u001b[0m \u001b[43m        \u001b[49m\u001b[43mthis\u001b[49m\u001b[38;5;241;43m.\u001b[39;49m\u001b[43mvalues\u001b[49m\u001b[43m,\u001b[49m\u001b[43m \u001b[49m\u001b[43mother\u001b[49m\u001b[38;5;241;43m.\u001b[39;49m\u001b[43mvalues\u001b[49m\u001b[43m,\u001b[49m\u001b[43m \u001b[49m\u001b[43mmethod\u001b[49m\u001b[38;5;241;43m=\u001b[39;49m\u001b[43mmethod\u001b[49m\u001b[43m,\u001b[49m\u001b[43m \u001b[49m\u001b[43mmin_periods\u001b[49m\u001b[38;5;241;43m=\u001b[39;49m\u001b[43mmin_periods\u001b[49m\n\u001b[0;32m   2725\u001b[0m \u001b[43m    \u001b[49m\u001b[43m)\u001b[49m\n\u001b[0;32m   2727\u001b[0m \u001b[38;5;28;01mraise\u001b[39;00m \u001b[38;5;167;01mValueError\u001b[39;00m(\n\u001b[0;32m   2728\u001b[0m     \u001b[38;5;124m\"\u001b[39m\u001b[38;5;124mmethod must be either \u001b[39m\u001b[38;5;124m'\u001b[39m\u001b[38;5;124mpearson\u001b[39m\u001b[38;5;124m'\u001b[39m\u001b[38;5;124m, \u001b[39m\u001b[38;5;124m\"\u001b[39m\n\u001b[0;32m   2729\u001b[0m     \u001b[38;5;124m\"\u001b[39m\u001b[38;5;124m'\u001b[39m\u001b[38;5;124mspearman\u001b[39m\u001b[38;5;124m'\u001b[39m\u001b[38;5;124m, \u001b[39m\u001b[38;5;124m'\u001b[39m\u001b[38;5;124mkendall\u001b[39m\u001b[38;5;124m'\u001b[39m\u001b[38;5;124m, or a callable, \u001b[39m\u001b[38;5;124m\"\u001b[39m\n\u001b[0;32m   2730\u001b[0m     \u001b[38;5;124mf\u001b[39m\u001b[38;5;124m\"\u001b[39m\u001b[38;5;124m'\u001b[39m\u001b[38;5;132;01m{\u001b[39;00mmethod\u001b[38;5;132;01m}\u001b[39;00m\u001b[38;5;124m'\u001b[39m\u001b[38;5;124m was supplied\u001b[39m\u001b[38;5;124m\"\u001b[39m\n\u001b[0;32m   2731\u001b[0m )\n",
      "File \u001b[1;32mc:\\Users\\Kevin\\AppData\\Local\\Programs\\Python\\Python310\\lib\\site-packages\\pandas\\core\\nanops.py:96\u001b[0m, in \u001b[0;36mdisallow.__call__.<locals>._f\u001b[1;34m(*args, **kwargs)\u001b[0m\n\u001b[0;32m     94\u001b[0m \u001b[38;5;28;01mtry\u001b[39;00m:\n\u001b[0;32m     95\u001b[0m     \u001b[38;5;28;01mwith\u001b[39;00m np\u001b[38;5;241m.\u001b[39merrstate(invalid\u001b[38;5;241m=\u001b[39m\u001b[38;5;124m\"\u001b[39m\u001b[38;5;124mignore\u001b[39m\u001b[38;5;124m\"\u001b[39m):\n\u001b[1;32m---> 96\u001b[0m         \u001b[38;5;28;01mreturn\u001b[39;00m f(\u001b[38;5;241m*\u001b[39margs, \u001b[38;5;241m*\u001b[39m\u001b[38;5;241m*\u001b[39mkwargs)\n\u001b[0;32m     97\u001b[0m \u001b[38;5;28;01mexcept\u001b[39;00m \u001b[38;5;167;01mValueError\u001b[39;00m \u001b[38;5;28;01mas\u001b[39;00m e:\n\u001b[0;32m     98\u001b[0m     \u001b[38;5;66;03m# we want to transform an object array\u001b[39;00m\n\u001b[0;32m     99\u001b[0m     \u001b[38;5;66;03m# ValueError message to the more typical TypeError\u001b[39;00m\n\u001b[0;32m    100\u001b[0m     \u001b[38;5;66;03m# e.g. this is normally a disallowed function on\u001b[39;00m\n\u001b[0;32m    101\u001b[0m     \u001b[38;5;66;03m# object arrays that contain strings\u001b[39;00m\n\u001b[0;32m    102\u001b[0m     \u001b[38;5;28;01mif\u001b[39;00m is_object_dtype(args[\u001b[38;5;241m0\u001b[39m]):\n",
      "File \u001b[1;32mc:\\Users\\Kevin\\AppData\\Local\\Programs\\Python\\Python310\\lib\\site-packages\\pandas\\core\\nanops.py:1614\u001b[0m, in \u001b[0;36mnancorr\u001b[1;34m(a, b, method, min_periods)\u001b[0m\n\u001b[0;32m   1611\u001b[0m     \u001b[38;5;28;01mreturn\u001b[39;00m np\u001b[38;5;241m.\u001b[39mnan\n\u001b[0;32m   1613\u001b[0m f \u001b[38;5;241m=\u001b[39m get_corr_func(method)\n\u001b[1;32m-> 1614\u001b[0m \u001b[38;5;28;01mreturn\u001b[39;00m \u001b[43mf\u001b[49m\u001b[43m(\u001b[49m\u001b[43ma\u001b[49m\u001b[43m,\u001b[49m\u001b[43m \u001b[49m\u001b[43mb\u001b[49m\u001b[43m)\u001b[49m\n",
      "File \u001b[1;32mc:\\Users\\Kevin\\AppData\\Local\\Programs\\Python\\Python310\\lib\\site-packages\\pandas\\core\\nanops.py:1637\u001b[0m, in \u001b[0;36mget_corr_func.<locals>.func\u001b[1;34m(a, b)\u001b[0m\n\u001b[0;32m   1636\u001b[0m \u001b[38;5;28;01mdef\u001b[39;00m \u001b[38;5;21mfunc\u001b[39m(a, b):\n\u001b[1;32m-> 1637\u001b[0m     \u001b[38;5;28;01mreturn\u001b[39;00m \u001b[43mnp\u001b[49m\u001b[38;5;241;43m.\u001b[39;49m\u001b[43mcorrcoef\u001b[49m\u001b[43m(\u001b[49m\u001b[43ma\u001b[49m\u001b[43m,\u001b[49m\u001b[43m \u001b[49m\u001b[43mb\u001b[49m\u001b[43m)\u001b[49m[\u001b[38;5;241m0\u001b[39m, \u001b[38;5;241m1\u001b[39m]\n",
      "File \u001b[1;32m<__array_function__ internals>:180\u001b[0m, in \u001b[0;36mcorrcoef\u001b[1;34m(*args, **kwargs)\u001b[0m\n",
      "File \u001b[1;32mc:\\Users\\Kevin\\AppData\\Local\\Programs\\Python\\Python310\\lib\\site-packages\\numpy\\lib\\function_base.py:2845\u001b[0m, in \u001b[0;36mcorrcoef\u001b[1;34m(x, y, rowvar, bias, ddof, dtype)\u001b[0m\n\u001b[0;32m   2841\u001b[0m \u001b[38;5;28;01mif\u001b[39;00m bias \u001b[38;5;129;01mis\u001b[39;00m \u001b[38;5;129;01mnot\u001b[39;00m np\u001b[38;5;241m.\u001b[39m_NoValue \u001b[38;5;129;01mor\u001b[39;00m ddof \u001b[38;5;129;01mis\u001b[39;00m \u001b[38;5;129;01mnot\u001b[39;00m np\u001b[38;5;241m.\u001b[39m_NoValue:\n\u001b[0;32m   2842\u001b[0m     \u001b[38;5;66;03m# 2015-03-15, 1.10\u001b[39;00m\n\u001b[0;32m   2843\u001b[0m     warnings\u001b[38;5;241m.\u001b[39mwarn(\u001b[38;5;124m'\u001b[39m\u001b[38;5;124mbias and ddof have no effect and are deprecated\u001b[39m\u001b[38;5;124m'\u001b[39m,\n\u001b[0;32m   2844\u001b[0m                   \u001b[38;5;167;01mDeprecationWarning\u001b[39;00m, stacklevel\u001b[38;5;241m=\u001b[39m\u001b[38;5;241m3\u001b[39m)\n\u001b[1;32m-> 2845\u001b[0m c \u001b[38;5;241m=\u001b[39m \u001b[43mcov\u001b[49m\u001b[43m(\u001b[49m\u001b[43mx\u001b[49m\u001b[43m,\u001b[49m\u001b[43m \u001b[49m\u001b[43my\u001b[49m\u001b[43m,\u001b[49m\u001b[43m \u001b[49m\u001b[43mrowvar\u001b[49m\u001b[43m,\u001b[49m\u001b[43m \u001b[49m\u001b[43mdtype\u001b[49m\u001b[38;5;241;43m=\u001b[39;49m\u001b[43mdtype\u001b[49m\u001b[43m)\u001b[49m\n\u001b[0;32m   2846\u001b[0m \u001b[38;5;28;01mtry\u001b[39;00m:\n\u001b[0;32m   2847\u001b[0m     d \u001b[38;5;241m=\u001b[39m diag(c)\n",
      "File \u001b[1;32m<__array_function__ internals>:180\u001b[0m, in \u001b[0;36mcov\u001b[1;34m(*args, **kwargs)\u001b[0m\n",
      "File \u001b[1;32mc:\\Users\\Kevin\\AppData\\Local\\Programs\\Python\\Python310\\lib\\site-packages\\numpy\\lib\\function_base.py:2680\u001b[0m, in \u001b[0;36mcov\u001b[1;34m(m, y, rowvar, bias, ddof, fweights, aweights, dtype)\u001b[0m\n\u001b[0;32m   2677\u001b[0m     \u001b[38;5;28;01melse\u001b[39;00m:\n\u001b[0;32m   2678\u001b[0m         w \u001b[38;5;241m*\u001b[39m\u001b[38;5;241m=\u001b[39m aweights\n\u001b[1;32m-> 2680\u001b[0m avg, w_sum \u001b[38;5;241m=\u001b[39m \u001b[43maverage\u001b[49m\u001b[43m(\u001b[49m\u001b[43mX\u001b[49m\u001b[43m,\u001b[49m\u001b[43m \u001b[49m\u001b[43maxis\u001b[49m\u001b[38;5;241;43m=\u001b[39;49m\u001b[38;5;241;43m1\u001b[39;49m\u001b[43m,\u001b[49m\u001b[43m \u001b[49m\u001b[43mweights\u001b[49m\u001b[38;5;241;43m=\u001b[39;49m\u001b[43mw\u001b[49m\u001b[43m,\u001b[49m\u001b[43m \u001b[49m\u001b[43mreturned\u001b[49m\u001b[38;5;241;43m=\u001b[39;49m\u001b[38;5;28;43;01mTrue\u001b[39;49;00m\u001b[43m)\u001b[49m\n\u001b[0;32m   2681\u001b[0m w_sum \u001b[38;5;241m=\u001b[39m w_sum[\u001b[38;5;241m0\u001b[39m]\n\u001b[0;32m   2683\u001b[0m \u001b[38;5;66;03m# Determine the normalization\u001b[39;00m\n",
      "File \u001b[1;32m<__array_function__ internals>:180\u001b[0m, in \u001b[0;36maverage\u001b[1;34m(*args, **kwargs)\u001b[0m\n",
      "File \u001b[1;32mc:\\Users\\Kevin\\AppData\\Local\\Programs\\Python\\Python310\\lib\\site-packages\\numpy\\lib\\function_base.py:554\u001b[0m, in \u001b[0;36maverage\u001b[1;34m(a, axis, weights, returned, keepdims)\u001b[0m\n\u001b[0;32m    550\u001b[0m     avg \u001b[38;5;241m=\u001b[39m np\u001b[38;5;241m.\u001b[39mmultiply(a, wgt,\n\u001b[0;32m    551\u001b[0m                       dtype\u001b[38;5;241m=\u001b[39mresult_dtype)\u001b[38;5;241m.\u001b[39msum(axis, \u001b[38;5;241m*\u001b[39m\u001b[38;5;241m*\u001b[39mkeepdims_kw) \u001b[38;5;241m/\u001b[39m scl\n\u001b[0;32m    553\u001b[0m \u001b[38;5;28;01mif\u001b[39;00m returned:\n\u001b[1;32m--> 554\u001b[0m     \u001b[38;5;28;01mif\u001b[39;00m \u001b[43mscl\u001b[49m\u001b[38;5;241;43m.\u001b[39;49m\u001b[43mshape\u001b[49m \u001b[38;5;241m!=\u001b[39m avg\u001b[38;5;241m.\u001b[39mshape:\n\u001b[0;32m    555\u001b[0m         scl \u001b[38;5;241m=\u001b[39m np\u001b[38;5;241m.\u001b[39mbroadcast_to(scl, avg\u001b[38;5;241m.\u001b[39mshape)\u001b[38;5;241m.\u001b[39mcopy()\n\u001b[0;32m    556\u001b[0m     \u001b[38;5;28;01mreturn\u001b[39;00m avg, scl\n",
      "\u001b[1;31mAttributeError\u001b[0m: 'float' object has no attribute 'shape'"
     ]
    }
   ],
   "source": [
    "# Correlation Coefficient\n",
    "correlation_rating_h3 = df_mapped_h3[\"Sample Rating\"].corr(df_mapped_h3[\"Premium Rating\"])\n",
    "\n",
    "# Correlation Coefficient for Bayesian averages\n",
    "correlation_bayesian_rating_h3 = df_mapped_h3[\"Sample Bayesian Average\"].corr(df_mapped_h3[\"Premium Bayesian Average\"])"
   ]
  },
  {
   "cell_type": "code",
   "execution_count": null,
   "metadata": {},
   "outputs": [],
   "source": [
    "correlation_data_h3 = {\n",
    "    \"Metric\": [\"Sample Rating vs Premium Rating\", \"Sample Bayesian Average vs Premium Bayesian Average\"],\n",
    "    \"Correlation Coefficient\": [correlation_rating_h3, correlation_bayesian_rating_h3]\n",
    "}\n",
    "pd.DataFrame(correlation_data_h3)"
   ]
  },
  {
   "cell_type": "markdown",
   "metadata": {},
   "source": [
    "### 3.2.4 Other Results"
   ]
  },
  {
   "cell_type": "markdown",
   "metadata": {},
   "source": [
    "#### 3.2.4.1 Across Levels"
   ]
  },
  {
   "cell_type": "code",
   "execution_count": null,
   "metadata": {},
   "outputs": [],
   "source": [
    "ratings_across_level = df_level_combined.copy()"
   ]
  },
  {
   "cell_type": "code",
   "execution_count": null,
   "metadata": {},
   "outputs": [],
   "source": [
    "# Group by 'level' and calculate mean for 'rating_app' and 'bayesian_average'\n",
    "average_ratings = ratings_across_level.groupby('level')['rating_app'].mean()\n",
    "bayesian_ratings = ratings_across_level.groupby('level')['bayesian_average'].mean()"
   ]
  },
  {
   "cell_type": "code",
   "execution_count": null,
   "metadata": {},
   "outputs": [],
   "source": [
    "# Plotting the ratings across levels\n",
    "plt.figure(figsize=(10, 6))\n",
    "\n",
    "# Bar plot for ratings and Bayesian ratings\n",
    "average_ratings.plot(kind='bar', width=0.4, position=1, label='Average Rating', color='blue', alpha=0.6)\n",
    "bayesian_ratings.plot(kind='bar', width=0.4, position=0, label='Bayesian Rating', color='green', alpha=0.6)\n",
    "\n",
    "# Adding labels and title\n",
    "plt.xlabel('Level')\n",
    "plt.ylabel('Rating')\n",
    "plt.title('Ratings Across Levels')\n",
    "plt.legend()\n",
    "plt.xticks(rotation=0)\n",
    "\n",
    "# Show plot\n",
    "plt.tight_layout()\n",
    "plt.show()"
   ]
  },
  {
   "cell_type": "markdown",
   "metadata": {},
   "source": [
    "#### 3.2.4.2 Variance"
   ]
  },
  {
   "cell_type": "code",
   "execution_count": null,
   "metadata": {},
   "outputs": [],
   "source": [
    "variance_rating = df_level_combined.copy()"
   ]
  },
  {
   "cell_type": "code",
   "execution_count": null,
   "metadata": {},
   "outputs": [],
   "source": [
    "# Assuming your dataframe is named df\n",
    "columns_to_calculate = ['rating_app', 'bayesian_average']\n",
    "variance_specific = variance_rating.groupby('level')[columns_to_calculate].var().reset_index()\n",
    "\n",
    "# Melting the dataframe to long format for easier plotting\n",
    "variance_melted = variance_specific.melt(id_vars='level', var_name='Attribute', value_name='Variance')"
   ]
  },
  {
   "cell_type": "code",
   "execution_count": null,
   "metadata": {},
   "outputs": [],
   "source": [
    "plt.figure(figsize=(12, 6))\n",
    "sns.barplot(data=variance_melted, x='level', y='Variance', hue='Attribute', palette='viridis')\n",
    "plt.title('Variance of Different Attributes Grouped by Level')\n",
    "plt.xlabel('Level')\n",
    "plt.ylabel('Variance')\n",
    "plt.xticks(rotation=45)\n",
    "plt.legend(title='Attribute', loc='upper right')\n",
    "plt.tight_layout()\n",
    "plt.show()"
   ]
  },
  {
   "cell_type": "code",
   "execution_count": null,
   "metadata": {},
   "outputs": [],
   "source": [
    "# Ensure data is numeric and check for NaN values\n",
    "variance_per_level = variance_specific.apply(pd.to_numeric, errors='coerce')\n",
    "variance_per_level = variance_per_level.fillna(0)  # Replace NaN with 0 for plotting\n",
    "\n",
    "# Plotting the heatmap\n",
    "plt.figure(figsize=(10, 6))\n",
    "sns.heatmap(variance_per_level, annot=True, cmap='Blues', fmt=\".2f\", linewidths=0.5)\n",
    "plt.title('Heatmap of Variance per Attribute and Level')\n",
    "plt.xlabel('Attribute')\n",
    "plt.ylabel('Level')\n",
    "plt.tight_layout()\n",
    "plt.show()"
   ]
  },
  {
   "cell_type": "code",
   "execution_count": null,
   "metadata": {},
   "outputs": [],
   "source": [
    "# Melting the dataframe to long format\n",
    "variance_melted = variance_specific.melt(id_vars='level', var_name='Attribute', value_name='Variance')\n",
    "\n",
    "# Plotting line plot with seaborn\n",
    "plt.figure(figsize=(12, 6))\n",
    "sns.lineplot(data=variance_melted, x='level', y='Variance', hue='Attribute', marker='o', palette='Set1')\n",
    "plt.title('Variance of Attributes Across Different Levels')\n",
    "plt.xlabel('Level')\n",
    "plt.ylabel('Variance')\n",
    "plt.xticks(rotation=45)\n",
    "plt.legend(title='Attribute')\n",
    "plt.tight_layout()\n",
    "plt.show()"
   ]
  },
  {
   "cell_type": "markdown",
   "metadata": {},
   "source": [
    "#### 3.2.4.3 Paid vs Free Version"
   ]
  },
  {
   "cell_type": "code",
   "execution_count": null,
   "metadata": {},
   "outputs": [],
   "source": [
    "paid_free_version_rating = df_level_combined.copy()\n",
    "\n",
    "# if level is 0 or 1 then new column category is 'Free apps'\n",
    "paid_free_version_rating['category'] = ['Free' if level in ['0', '1', '2 (Sample)', '3', '4'] else 'Paid' for level in paid_free_version_rating['level']]"
   ]
  },
  {
   "cell_type": "code",
   "execution_count": null,
   "metadata": {},
   "outputs": [],
   "source": [
    "# relevant columns\n",
    "relevant_columns_paid_free_version_rating = ['rating_app', 'bayesian_average', 'category']\n",
    "\n",
    "# filter the relevant columns\n",
    "paid_free_version_rating = paid_free_version_rating[relevant_columns_paid_free_version_rating]"
   ]
  },
  {
   "cell_type": "code",
   "execution_count": null,
   "metadata": {},
   "outputs": [],
   "source": [
    "paid_free_version_rating.head()"
   ]
  },
  {
   "cell_type": "code",
   "execution_count": null,
   "metadata": {},
   "outputs": [],
   "source": [
    "# Plot the average rating by category\n",
    "plt.figure(figsize=(10, 6))\n",
    "sns.boxplot(data=paid_free_version_rating, x='category', y='rating_app')\n",
    "plt.title('Average Rating by Category')\n",
    "plt.xlabel('Category')\n",
    "plt.ylabel('Rating')\n",
    "plt.show()\n"
   ]
  },
  {
   "cell_type": "code",
   "execution_count": null,
   "metadata": {},
   "outputs": [],
   "source": [
    "# Plot the bayesian average rating by category\n",
    "plt.figure(figsize=(10, 6))\n",
    "sns.boxplot(data=paid_free_version_rating, x='category', y='bayesian_average')\n",
    "plt.title('Bayesian Average Rating by Category')\n",
    "plt.xlabel('Category')\n",
    "plt.ylabel('Bayesian Average')\n",
    "plt.show()\n"
   ]
  },
  {
   "cell_type": "code",
   "execution_count": null,
   "metadata": {},
   "outputs": [],
   "source": [
    "# Plot histogram\n",
    "paid_free_version_rating['rating_app'].hist(bins=20, figsize=(10, 6))\n",
    "plt.xlabel('App Rating')\n",
    "plt.ylabel('Frequency')\n",
    "plt.title('Distribution of App Rating')\n",
    "plt.xticks(rotation=45)  # Rotate x-axis labels for better readability\n",
    "plt.show()"
   ]
  },
  {
   "cell_type": "code",
   "execution_count": null,
   "metadata": {},
   "outputs": [],
   "source": [
    "# Plot histogram\n",
    "paid_free_version_rating['bayesian_average'].hist(bins=20, figsize=(10, 6))\n",
    "plt.xlabel('Bayesian average App Rating')\n",
    "plt.ylabel('Frequency')\n",
    "plt.title('Distribution of Bayesian average App Rating')\n",
    "plt.xticks(rotation=45)  # Rotate x-axis labels for better readability\n",
    "plt.show()"
   ]
  },
  {
   "cell_type": "markdown",
   "metadata": {},
   "source": [
    "# 4. Other results"
   ]
  },
  {
   "cell_type": "markdown",
   "metadata": {},
   "source": [
    "## 4.1 Content Ratings"
   ]
  },
  {
   "cell_type": "code",
   "execution_count": null,
   "metadata": {},
   "outputs": [],
   "source": [
    "plt.figure(figsize=(8, 8))\n",
    "content_rating_counts = df_filtered[\"content_rating_app\"].value_counts(normalize=True) * 100  # percentage\n",
    "content_rating_counts.plot(kind='pie', autopct='%1.1f%%', startangle=140)\n",
    "plt.title(\"Proportion of Different Content Ratings\")\n",
    "plt.ylabel(\"\")  # Hide y-axis label for cleaner look\n",
    "plt.show()\n"
   ]
  },
  {
   "cell_type": "markdown",
   "metadata": {},
   "source": [
    "## 4.2 Category of apps"
   ]
  },
  {
   "cell_type": "code",
   "execution_count": null,
   "metadata": {},
   "outputs": [],
   "source": [
    "category_counts = df_filtered['categ_app'].value_counts()\n",
    "\n",
    "plt.figure(figsize=(8, 8))\n",
    "\n",
    "category_counts.plot(kind='pie', autopct='%1.1f%%', startangle=140, wedgeprops={'edgecolor': 'black'})\n",
    "\n",
    "plt.title(\"Distribution of App Categories\")\n",
    "\n",
    "plt.ylabel(\"\")  # Hide y-axis label for cleaner look\n",
    "\n",
    "plt.show()"
   ]
  },
  {
   "cell_type": "markdown",
   "metadata": {},
   "source": [
    "## 4.3 Average app rating per category"
   ]
  },
  {
   "cell_type": "code",
   "execution_count": null,
   "metadata": {},
   "outputs": [],
   "source": [
    "# Splitting categories into two parts for better readability\n",
    "unique_categories = df_filtered[\"categ_app\"].unique()\n",
    "midpoint = len(unique_categories) // 2\n",
    "categories_part1 = unique_categories[:midpoint]\n",
    "categories_part2 = unique_categories[midpoint:]\n",
    "\n",
    "# Filtering data for each part\n",
    "df_category_part1 = df_filtered[df_filtered[\"categ_app\"].isin(categories_part1)]\n",
    "df_category_part2 = df_filtered[df_filtered[\"categ_app\"].isin(categories_part2)]\n",
    "\n",
    "# Plotting box plot for average app ratings by category (Part 1)\n",
    "plt.figure(figsize=(12, 6))\n",
    "df_category_part1.boxplot(column=\"rating_app\", by=\"categ_app\", grid=False, vert=False)\n",
    "plt.title(\"Average App Ratings by Category (Part 1)\")\n",
    "plt.suptitle(\"\")  # Remove default title to keep it clean\n",
    "plt.xlabel(\"Average Rating\")\n",
    "plt.ylabel(\"App Category\")\n",
    "plt.show()\n",
    "\n",
    "# Plotting box plot for average app ratings by category (Part 2)\n",
    "plt.figure(figsize=(12, 6))\n",
    "df_category_part2.boxplot(column=\"rating_app\", by=\"categ_app\", grid=False, vert=False)\n",
    "plt.title(\"Average App Ratings by Category (Part 2)\")\n",
    "plt.suptitle(\"\")  # Remove default title to keep it clean\n",
    "plt.xlabel(\"Average Rating\")\n",
    "plt.ylabel(\"App Category\")\n",
    "plt.show()\n"
   ]
  }
 ],
 "metadata": {
  "kernelspec": {
   "display_name": "python_env",
   "language": "python",
   "name": "python3"
  },
  "language_info": {
   "codemirror_mode": {
    "name": "ipython",
    "version": 3
   },
   "file_extension": ".py",
   "mimetype": "text/x-python",
   "name": "python",
   "nbconvert_exporter": "python",
   "pygments_lexer": "ipython3",
   "version": "3.13.0"
  }
 },
 "nbformat": 4,
 "nbformat_minor": 2
}
