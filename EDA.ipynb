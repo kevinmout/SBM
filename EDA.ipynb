{
 "cells": [
  {
   "cell_type": "markdown",
   "metadata": {},
   "source": [
    "# Import packages"
   ]
  },
  {
   "cell_type": "code",
   "execution_count": 170,
   "metadata": {
    "ExecuteTime": {
     "end_time": "2024-11-19T19:14:22.657933Z",
     "start_time": "2024-11-19T19:14:22.519536Z"
    }
   },
   "outputs": [],
   "source": [
    "import pandas as pd\n",
    "import matplotlib.pyplot as plt\n",
    "import seaborn as sns\n",
    "import re\n",
    "from sklearn.feature_extraction.text import TfidfVectorizer\n",
    "from sklearn.neighbors import NearestNeighbors\n",
    "import numpy as np"
   ]
  },
  {
   "cell_type": "markdown",
   "metadata": {},
   "source": [
    "# 1. Prepare and merge the datasets"
   ]
  },
  {
   "cell_type": "code",
   "execution_count": 171,
   "metadata": {
    "ExecuteTime": {
     "end_time": "2024-11-19T19:14:31.468250Z",
     "start_time": "2024-11-19T19:14:22.659937Z"
    }
   },
   "outputs": [],
   "source": [
    "df_google_first = pd.read_csv('app_sdk/google_data_first.csv', encoding='ISO-8859-1')\n",
    "df_google_first = df_google_first.loc[:, ~df_google_first.columns.str.contains('^Unnamed')]"
   ]
  },
  {
   "cell_type": "code",
   "execution_count": 172,
   "metadata": {
    "ExecuteTime": {
     "end_time": "2024-11-19T19:14:40.884608Z",
     "start_time": "2024-11-19T19:14:31.651463Z"
    }
   },
   "outputs": [],
   "source": [
    "df_google_last = pd.read_csv('app_sdk/google_data_last.csv', encoding='ISO-8859-1')\n",
    "df_google_last = df_google_last.loc[:, ~df_google_last.columns.str.contains('^Unnamed')]"
   ]
  },
  {
   "cell_type": "code",
   "execution_count": 173,
   "metadata": {
    "ExecuteTime": {
     "end_time": "2024-11-19T19:14:41.286754Z",
     "start_time": "2024-11-19T19:14:40.892518Z"
    }
   },
   "outputs": [],
   "source": [
    "missing_rows = df_google_first[~df_google_first['my_app_id'].isin(df_google_last['my_app_id'])]\n",
    "\n",
    "df = pd.concat([df_google_last, missing_rows], ignore_index=True)"
   ]
  },
  {
   "cell_type": "markdown",
   "metadata": {},
   "source": [
    "# 2. Analyze dataframe"
   ]
  },
  {
   "cell_type": "code",
   "execution_count": 174,
   "metadata": {
    "ExecuteTime": {
     "end_time": "2024-11-19T19:14:41.303371Z",
     "start_time": "2024-11-19T19:14:41.299896Z"
    }
   },
   "outputs": [],
   "source": [
    "def dataframe_summary(df):\n",
    "    print(f\"DataFrame contains {df.shape[0]} rows and {df.shape[1]} columns.\\n\")\n",
    "    df_info = pd.DataFrame({\n",
    "        'Data Type': df.dtypes,\n",
    "        'Non-null Count': df.count(),\n",
    "        'Null Count': df.isnull().sum(),\n",
    "        'Null Percentage (%)': (df.isnull().sum() / len(df)) * 100\n",
    "    })\n",
    "    print(df_info)\n",
    "\n",
    "# Run the function to get an enhanced summary of the DataFrame\n",
    "# dataframe_summary(df)"
   ]
  },
  {
   "cell_type": "markdown",
   "metadata": {},
   "source": [
    "# 2. Preprocess DataFrame"
   ]
  },
  {
   "cell_type": "code",
   "execution_count": 175,
   "metadata": {
    "ExecuteTime": {
     "end_time": "2024-11-19T19:14:41.549573Z",
     "start_time": "2024-11-19T19:14:41.315522Z"
    }
   },
   "outputs": [],
   "source": [
    "# Use specific columns\n",
    "df = df[['my_app_id', 'num_downloads', 'rating_app', 'nb_rating', 'price_gplay', 'in_app', 'content_rating_app', 'categ_app', 'date_published', 'has_ads', 'family_library', 'developer_name', 'developer_info']]"
   ]
  },
  {
   "cell_type": "markdown",
   "metadata": {},
   "source": [
    "## 2.1 Classify Apps into Levels"
   ]
  },
  {
   "cell_type": "markdown",
   "metadata": {},
   "source": [
    "### 2.1.1 Preprocess price_gplay to a numerical value."
   ]
  },
  {
   "cell_type": "markdown",
   "metadata": {},
   "source": [
    "Should be noted the app's prices have different currencies."
   ]
  },
  {
   "cell_type": "code",
   "execution_count": 176,
   "metadata": {
    "ExecuteTime": {
     "end_time": "2024-11-19T19:14:41.652236Z",
     "start_time": "2024-11-19T19:14:41.560349Z"
    }
   },
   "outputs": [],
   "source": [
    "# Drop rows where no numeric part is found (if desired)\n",
    "df = df.dropna(subset=['price_gplay'])"
   ]
  },
  {
   "cell_type": "code",
   "execution_count": 177,
   "metadata": {
    "ExecuteTime": {
     "end_time": "2024-11-19T19:14:42.613053Z",
     "start_time": "2024-11-19T19:14:41.663377Z"
    }
   },
   "outputs": [],
   "source": [
    "# List of currency symbols and codes to match, including €\n",
    "currency_codes = [\"€\", \"£\", \"$\", \"USD\", \"CZK\", \"EUR\", \"RUB\", \"AUD\", \"GBP\", \"JPY\", \"CAD\", \"KRW\", \"INR\", \"AED\", \n",
    "                  \"DKK\", \"SAR\", \"PLN\", \"UAH\", \"SEK\", \"IDR\", \"TRY\", \"TWD\", \"ILS\", \"HKD\", \"BGN\", \"MXN\", \"MYR\", \n",
    "                  \"BRL\", \"CLP\", \"CHF\", \"\"]\n",
    "\n",
    "# Create a regex pattern to match the symbols and codes\n",
    "currency_pattern = r'|'.join(map(re.escape, currency_codes))\n",
    "\n",
    "df_filtered = df.copy()\n",
    "\n",
    "# Remove currency symbols and codes\n",
    "df_filtered['price_value'] = df_filtered['price_gplay'].apply(lambda x: re.sub(currency_pattern, '', x).strip() if isinstance(x, str) else None)\n",
    "\n",
    "df_filtered['price_value'] = df_filtered['price_value'].str.replace(',', '.')\n",
    "\n",
    "# remove initial-scale=1. minimum-scale \" hre\n",
    "df_filtered['price_value'] = df_filtered['price_value'].str.replace('initial-scale=1. minimum-scale \" hre', '')\n",
    "\n",
    "# remove empty strings\n",
    "df_filtered = df_filtered[df_filtered['price_value'] != '']\n",
    "\n",
    "# convert to float\n",
    "df_filtered['price_value'] = df_filtered['price_value'].astype(float)\n",
    "\n",
    "# make new column with if app is free or not\n",
    "df_filtered['is_free'] = df_filtered['price_value'].apply(lambda x: True if x == 0 else False)"
   ]
  },
  {
   "cell_type": "markdown",
   "metadata": {},
   "source": [
    "### 2.1.2 Convert in_app and has_ads to boolean."
   ]
  },
  {
   "cell_type": "code",
   "execution_count": 178,
   "metadata": {
    "ExecuteTime": {
     "end_time": "2024-11-19T19:14:42.650465Z",
     "start_time": "2024-11-19T19:14:42.643970Z"
    }
   },
   "outputs": [],
   "source": [
    "# convert in_app and has_ads to boolean\n",
    "df_filtered['in_app'] = df_filtered['in_app'].astype(bool)\n",
    "df_filtered['has_ads'] = df_filtered['has_ads'].astype(bool)\n",
    "\n",
    "df_filtered = df_filtered.dropna()"
   ]
  },
  {
   "cell_type": "markdown",
   "metadata": {},
   "source": [
    "### 2.1.3 Define the levels."
   ]
  },
  {
   "cell_type": "code",
   "execution_count": 179,
   "metadata": {},
   "outputs": [
    {
     "data": {
      "text/html": [
       "<div>\n",
       "<style scoped>\n",
       "    .dataframe tbody tr th:only-of-type {\n",
       "        vertical-align: middle;\n",
       "    }\n",
       "\n",
       "    .dataframe tbody tr th {\n",
       "        vertical-align: top;\n",
       "    }\n",
       "\n",
       "    .dataframe thead th {\n",
       "        text-align: right;\n",
       "    }\n",
       "</style>\n",
       "<table border=\"1\" class=\"dataframe\">\n",
       "  <thead>\n",
       "    <tr style=\"text-align: right;\">\n",
       "      <th></th>\n",
       "      <th>Level</th>\n",
       "      <th>Description</th>\n",
       "      <th>Criteria</th>\n",
       "    </tr>\n",
       "  </thead>\n",
       "  <tbody>\n",
       "    <tr>\n",
       "      <th>0</th>\n",
       "      <td>0</td>\n",
       "      <td>Helemaal geen monetization</td>\n",
       "      <td>`is_free == 1`, `in_app == 0`, `has_ads == 0`</td>\n",
       "    </tr>\n",
       "    <tr>\n",
       "      <th>1</th>\n",
       "      <td>1</td>\n",
       "      <td>Alleen ads</td>\n",
       "      <td>`is_free == 1`, `in_app == 0`, `has_ads == 1`</td>\n",
       "    </tr>\n",
       "    <tr>\n",
       "      <th>2</th>\n",
       "      <td>2 (Sample)</td>\n",
       "      <td>2 verschillende versies: sample</td>\n",
       "      <td>`is_free == 1`, `in_app == 0`, `has_ads ∈ [0, 1]`</td>\n",
       "    </tr>\n",
       "    <tr>\n",
       "      <th>3</th>\n",
       "      <td>2 (Premium)</td>\n",
       "      <td>2 verschillende versies: premium</td>\n",
       "      <td>`is_free == 0`, `in_app == 0`, `has_ads == 0`</td>\n",
       "    </tr>\n",
       "    <tr>\n",
       "      <th>4</th>\n",
       "      <td>3</td>\n",
       "      <td>Gratis met ads, en mogelijkheid voor extra fea...</td>\n",
       "      <td>`is_free == 1`, `in_app == 1`, `has_ads == 1`</td>\n",
       "    </tr>\n",
       "    <tr>\n",
       "      <th>5</th>\n",
       "      <td>4</td>\n",
       "      <td>Gratis met in-app aankopen (geen ads)</td>\n",
       "      <td>`is_free == 1`, `in_app == 1`, `has_ads == 0`</td>\n",
       "    </tr>\n",
       "    <tr>\n",
       "      <th>6</th>\n",
       "      <td>5</td>\n",
       "      <td>Betalen voor app-download (geen ads/in-app aan...</td>\n",
       "      <td>`is_free == 0`, `in_app == 0`, `has_ads == 0`</td>\n",
       "    </tr>\n",
       "  </tbody>\n",
       "</table>\n",
       "</div>"
      ],
      "text/plain": [
       "         Level                                        Description  \\\n",
       "0            0                         Helemaal geen monetization   \n",
       "1            1                                         Alleen ads   \n",
       "2   2 (Sample)                    2 verschillende versies: sample   \n",
       "3  2 (Premium)                   2 verschillende versies: premium   \n",
       "4            3  Gratis met ads, en mogelijkheid voor extra fea...   \n",
       "5            4              Gratis met in-app aankopen (geen ads)   \n",
       "6            5  Betalen voor app-download (geen ads/in-app aan...   \n",
       "\n",
       "                                            Criteria  \n",
       "0      `is_free == 1`, `in_app == 0`, `has_ads == 0`  \n",
       "1      `is_free == 1`, `in_app == 0`, `has_ads == 1`  \n",
       "2  `is_free == 1`, `in_app == 0`, `has_ads ∈ [0, 1]`  \n",
       "3      `is_free == 0`, `in_app == 0`, `has_ads == 0`  \n",
       "4      `is_free == 1`, `in_app == 1`, `has_ads == 1`  \n",
       "5      `is_free == 1`, `in_app == 1`, `has_ads == 0`  \n",
       "6      `is_free == 0`, `in_app == 0`, `has_ads == 0`  "
      ]
     },
     "execution_count": 179,
     "metadata": {},
     "output_type": "execute_result"
    }
   ],
   "source": [
    "# Create a DataFrame to represent the levels and their criteria\n",
    "data = {\n",
    "    \"Level\": [\"0\", \"1\", \"2 (Sample)\", \"2 (Premium)\", \"3\", \"4\", \"5\"],\n",
    "    \"Description\": [\n",
    "        \"Helemaal geen monetization\",\n",
    "        \"Alleen ads\",\n",
    "        \"2 verschillende versies: sample\",\n",
    "        \"2 verschillende versies: premium\",\n",
    "        \"Gratis met ads, en mogelijkheid voor extra features\",\n",
    "        \"Gratis met in-app aankopen (geen ads)\",\n",
    "        \"Betalen voor app-download (geen ads/in-app aankopen)\"\n",
    "    ],\n",
    "    \"Criteria\": [\n",
    "        \"`is_free == 1`, `in_app == 0`, `has_ads == 0`\",\n",
    "        \"`is_free == 1`, `in_app == 0`, `has_ads == 1`\",\n",
    "        \"`is_free == 1`, `in_app == 0`, `has_ads ∈ [0, 1]`\",\n",
    "        \"`is_free == 0`, `in_app == 0`, `has_ads == 0`\",\n",
    "        \"`is_free == 1`, `in_app == 1`, `has_ads == 1`\",\n",
    "        \"`is_free == 1`, `in_app == 1`, `has_ads == 0`\",\n",
    "        \"`is_free == 0`, `in_app == 0`, `has_ads == 0`\"\n",
    "    ]\n",
    "}\n",
    "\n",
    "df_levels = pd.DataFrame(data)\n",
    "df_levels"
   ]
  },
  {
   "cell_type": "code",
   "execution_count": 180,
   "metadata": {},
   "outputs": [],
   "source": [
    "# Level 0: Helemaal geen monetization\n",
    "predicate_level_0 = (df_filtered['is_free'] == 1) & (df_filtered['in_app'] == 0) & (df_filtered['has_ads'] == 0)\n",
    "\n",
    "# Level 1: Alleen ads\n",
    "predicate_level_1 = (df_filtered['is_free'] == 1) & (df_filtered['in_app'] == 0) & (df_filtered['has_ads'] == 1)\n",
    "\n",
    "# Level 2: 2 verschillende versies\n",
    "predicate_level_2_sample = (df_filtered['is_free'] == 1) & (df_filtered['in_app'] == 0) & (df_filtered['has_ads'].isin([1, 0]))\n",
    "predicate_level_2_premium = (df_filtered['is_free'] == 0) & (df_filtered['in_app'] == 0) & (df_filtered['has_ads'] == 0)\n",
    "\n",
    "# Level 3: Gratis met ads, met de mogelijkheid om te betalen voor extra features of een app zonder ads\n",
    "predicate_level_3 = (df_filtered['is_free'] == 1) & (df_filtered['in_app'] == 1) & (df_filtered['has_ads'] == 1)\n",
    "\n",
    "# Level 4: Gratis, maar met in-app aankopen voor andere features\n",
    "predicate_level_4 = (df_filtered['is_free'] == 1) & (df_filtered['in_app'] == 1) & (df_filtered['has_ads'] == 0)\n",
    "\n",
    "# Level 5: Betalen voor het downloaden van de app, hetzelfde als in level 2 premium\n",
    "predicate_level_5 = predicate_level_2_premium\n",
    "\n",
    "\n",
    "# level 0 - Free\n",
    "df_level_0 = df_filtered[predicate_level_0]\n",
    "\n",
    "# level 1 - In-app advertising\n",
    "df_level_1 = df_filtered[predicate_level_1]\n",
    "\n",
    "# Level 2\n",
    "# Possible sample apps: Free, with or without ads, without in-app purchases\n",
    "df_level_2_sample = df_filtered[predicate_level_2_sample]\n",
    "\n",
    "# Possible premium apps: Paid, without ads, with or without in-app purchases\n",
    "df_level_2_premium = df_filtered[predicate_level_2_premium]\n",
    "\n",
    "\n",
    "# level 3 - Free with ads and in-app purchases\n",
    "df_level_3 = df_filtered[predicate_level_3]\n",
    "\n",
    "# level 4 - Semi-premium (freemium)\n",
    "df_level_4 = df_filtered[predicate_level_4]\n",
    "\n",
    "# level 5 - Premium\n",
    "df_level_5 = df_filtered[predicate_level_5]\n"
   ]
  },
  {
   "cell_type": "markdown",
   "metadata": {},
   "source": [
    "### 2.1.4 Get level 2."
   ]
  },
  {
   "cell_type": "code",
   "execution_count": 181,
   "metadata": {},
   "outputs": [],
   "source": [
    "# Preprocess further on developer names. This says a developer must have at least 1 app in df_level_2_sample and df_level_2_premium. This makes sense since we want to find the sample and premium apps of the \"same\" app.\n",
    "\n",
    "# Find common developer names\n",
    "common_developers = pd.merge(\n",
    "    df_level_2_sample[['developer_name']],\n",
    "    df_level_2_premium[['developer_name']],\n",
    "    on='developer_name',\n",
    "    how='inner'\n",
    ")['developer_name'].unique()\n",
    "\n",
    "# Filter both DataFrames to keep only rows with common developers\n",
    "df_level_2_sample_filtered = df_level_2_sample[\n",
    "    df_level_2_sample['developer_name'].isin(common_developers)\n",
    "]\n",
    "df_level_2_premium_filtered = df_level_2_premium[\n",
    "    df_level_2_premium['developer_name'].isin(common_developers)\n",
    "]"
   ]
  },
  {
   "cell_type": "markdown",
   "metadata": {},
   "source": [
    "#### 2.1.4.1 Word similarity algorithm."
   ]
  },
  {
   "cell_type": "code",
   "execution_count": 182,
   "metadata": {},
   "outputs": [],
   "source": [
    "# The app names are in the 'my_app_id' column. We will use these to find similar words between the two lists.\n",
    "list1 = df_level_2_sample_filtered['my_app_id'].tolist()\n",
    "list2 = df_level_2_premium_filtered['my_app_id'].tolist()\n",
    "\n",
    "# Function to find similar words with at least 75% similarity\n",
    "def find_similar_words(list1, list2, threshold=75):\n",
    "    # Combine both lists for TF-IDF feature extraction\n",
    "    combined_list = list1 + list2\n",
    "\n",
    "    # Use TF-IDF Vectorizer to transform the text into feature vectors\n",
    "    vectorizer = TfidfVectorizer(analyzer='char', ngram_range=(2, 4))  # You can change ngram_range for more efficiency\n",
    "    tfidf_matrix = vectorizer.fit_transform(combined_list)\n",
    "\n",
    "    # Separate the TF-IDF vectors for both lists\n",
    "    tfidf_list1 = tfidf_matrix[:len(list1)]\n",
    "    tfidf_list2 = tfidf_matrix[len(list1):]\n",
    "\n",
    "    # Use NearestNeighbors for finding approximate matches\n",
    "    # Set the number of neighbors to a minimum of 10 or the size of list2 to limit comparisons\n",
    "    n_neighbors = min(10, len(list2))\n",
    "    nn = NearestNeighbors(n_neighbors=n_neighbors, metric='cosine', algorithm='brute', n_jobs=-1)\n",
    "    nn.fit(tfidf_list2)\n",
    "\n",
    "    similar_pairs = []\n",
    "    distances, indices = nn.kneighbors(tfidf_list1)\n",
    "\n",
    "    # Iterate through the results to find pairs with similarity above the threshold\n",
    "    for i, (dists, idxs) in enumerate(zip(distances, indices)):\n",
    "        for dist, idx in zip(dists, idxs):\n",
    "            similarity = (1 - dist) * 100\n",
    "            if similarity >= threshold:\n",
    "                similar_pairs.append((list1[i], list2[idx], similarity))\n",
    "\n",
    "    # Create a DataFrame from the similar pairs\n",
    "    df = pd.DataFrame(similar_pairs, columns=['Sample app name', 'Premium app name', 'Similarity (%)'])\n",
    "    return df\n",
    "\n",
    "# Run the function on the slices\n",
    "df_similarities = find_similar_words(list1, list2)"
   ]
  },
  {
   "cell_type": "code",
   "execution_count": 183,
   "metadata": {},
   "outputs": [
    {
     "data": {
      "text/html": [
       "<div>\n",
       "<style scoped>\n",
       "    .dataframe tbody tr th:only-of-type {\n",
       "        vertical-align: middle;\n",
       "    }\n",
       "\n",
       "    .dataframe tbody tr th {\n",
       "        vertical-align: top;\n",
       "    }\n",
       "\n",
       "    .dataframe thead th {\n",
       "        text-align: right;\n",
       "    }\n",
       "</style>\n",
       "<table border=\"1\" class=\"dataframe\">\n",
       "  <thead>\n",
       "    <tr style=\"text-align: right;\">\n",
       "      <th></th>\n",
       "      <th>Sample app name</th>\n",
       "      <th>Premium app name</th>\n",
       "      <th>Similarity (%)</th>\n",
       "    </tr>\n",
       "  </thead>\n",
       "  <tbody>\n",
       "    <tr>\n",
       "      <th>0</th>\n",
       "      <td>Andrew.Compass.com</td>\n",
       "      <td>andrew.compass.color2</td>\n",
       "      <td>85.780677</td>\n",
       "    </tr>\n",
       "    <tr>\n",
       "      <th>1</th>\n",
       "      <td>Andrew.Compass.com</td>\n",
       "      <td>andrew.compass.color3</td>\n",
       "      <td>85.317104</td>\n",
       "    </tr>\n",
       "    <tr>\n",
       "      <th>2</th>\n",
       "      <td>Andrew.Compass.com</td>\n",
       "      <td>andrew.compass.color1</td>\n",
       "      <td>84.718042</td>\n",
       "    </tr>\n",
       "    <tr>\n",
       "      <th>3</th>\n",
       "      <td>Andrew.Compass.com</td>\n",
       "      <td>andrew.compass.com.yellow</td>\n",
       "      <td>82.218412</td>\n",
       "    </tr>\n",
       "    <tr>\n",
       "      <th>4</th>\n",
       "      <td>AutoLoanCalculatorPRO.DPsoftware.org</td>\n",
       "      <td>AutoLoanCalculatorPRO_Market.DPsoftware.org</td>\n",
       "      <td>80.783936</td>\n",
       "    </tr>\n",
       "  </tbody>\n",
       "</table>\n",
       "</div>"
      ],
      "text/plain": [
       "                        Sample app name  \\\n",
       "0                    Andrew.Compass.com   \n",
       "1                    Andrew.Compass.com   \n",
       "2                    Andrew.Compass.com   \n",
       "3                    Andrew.Compass.com   \n",
       "4  AutoLoanCalculatorPRO.DPsoftware.org   \n",
       "\n",
       "                              Premium app name  Similarity (%)  \n",
       "0                        andrew.compass.color2       85.780677  \n",
       "1                        andrew.compass.color3       85.317104  \n",
       "2                        andrew.compass.color1       84.718042  \n",
       "3                    andrew.compass.com.yellow       82.218412  \n",
       "4  AutoLoanCalculatorPRO_Market.DPsoftware.org       80.783936  "
      ]
     },
     "execution_count": 183,
     "metadata": {},
     "output_type": "execute_result"
    }
   ],
   "source": [
    "df_similarities.head()"
   ]
  },
  {
   "cell_type": "markdown",
   "metadata": {},
   "source": [
    "#### 2.1.4.2 Extra filter (prefix)."
   ]
  },
  {
   "cell_type": "code",
   "execution_count": 184,
   "metadata": {},
   "outputs": [],
   "source": [
    "# If the first word of the app names is the same, we can consider them as similar\n",
    "\n",
    "# Fill NaN values with empty strings\n",
    "df_similarities['First_Word_List1'] = df_similarities['Sample app name'].fillna('').str.split('.').str[0]\n",
    "df_similarities['First_Word_List2'] = df_similarities['Premium app name'].fillna('').str.split('.').str[0]\n",
    "\n",
    "# Perform case-insensitive comparison\n",
    "df_similarities['Comparison_Result'] = df_similarities['First_Word_List1'] == df_similarities['First_Word_List2']\n",
    "\n",
    "# Filter rows where the first words match\n",
    "df_similarities = df_similarities[df_similarities['Comparison_Result'] == True]\n",
    "\n",
    "# Drop the helper column if no longer needed\n",
    "df_similarities = df_similarities.drop(columns=['Comparison_Result', 'First_Word_List1', 'First_Word_List2'])\n"
   ]
  },
  {
   "cell_type": "markdown",
   "metadata": {},
   "source": [
    "#### 2.1.4.3 Filter extra on the difference."
   ]
  },
  {
   "cell_type": "code",
   "execution_count": 185,
   "metadata": {},
   "outputs": [],
   "source": [
    "def get_simple_suffix_difference(str1, str2):\n",
    "    # Find the common prefix\n",
    "    prefix_length = 0\n",
    "    while prefix_length < len(str1) and prefix_length < len(str2) and str1[prefix_length] == str2[prefix_length]:\n",
    "        prefix_length += 1\n",
    "\n",
    "    # Extract the differing suffixes\n",
    "    suffix1 = str1[prefix_length:]\n",
    "    suffix2 = str2[prefix_length:]\n",
    "\n",
    "    # Return the difference in suffixes\n",
    "    return f\"{suffix1.lower()}{suffix2.lower()}\"\n",
    "\n",
    "df_similarities['Difference Score'] = df_similarities.apply(\n",
    "    lambda row: get_simple_suffix_difference(row['Sample app name'], row['Premium app name']),\n",
    "    axis=1\n",
    ")\n"
   ]
  },
  {
   "cell_type": "code",
   "execution_count": 186,
   "metadata": {},
   "outputs": [
    {
     "data": {
      "text/html": [
       "<div>\n",
       "<style scoped>\n",
       "    .dataframe tbody tr th:only-of-type {\n",
       "        vertical-align: middle;\n",
       "    }\n",
       "\n",
       "    .dataframe tbody tr th {\n",
       "        vertical-align: top;\n",
       "    }\n",
       "\n",
       "    .dataframe thead th {\n",
       "        text-align: right;\n",
       "    }\n",
       "</style>\n",
       "<table border=\"1\" class=\"dataframe\">\n",
       "  <thead>\n",
       "    <tr style=\"text-align: right;\">\n",
       "      <th></th>\n",
       "      <th>Sample app name</th>\n",
       "      <th>Premium app name</th>\n",
       "      <th>Similarity (%)</th>\n",
       "      <th>Difference Score</th>\n",
       "    </tr>\n",
       "  </thead>\n",
       "  <tbody>\n",
       "    <tr>\n",
       "      <th>22338</th>\n",
       "      <td>xyz.cryptomines.spacepools</td>\n",
       "      <td>xyz.cryptomines.SpacepoolsMonitor</td>\n",
       "      <td>87.178177</td>\n",
       "      <td>spacepoolsspacepoolsmonitor</td>\n",
       "    </tr>\n",
       "    <tr>\n",
       "      <th>22339</th>\n",
       "      <td>xyz.cryptomines.zpool</td>\n",
       "      <td>xyz.cryptomines.ZpoolMonitor</td>\n",
       "      <td>87.264442</td>\n",
       "      <td>zpoolzpoolmonitor</td>\n",
       "    </tr>\n",
       "    <tr>\n",
       "      <th>22340</th>\n",
       "      <td>xyz.digigem.gem.verge</td>\n",
       "      <td>xyz.digigem.gem.diamond</td>\n",
       "      <td>79.579567</td>\n",
       "      <td>vergediamond</td>\n",
       "    </tr>\n",
       "    <tr>\n",
       "      <th>22341</th>\n",
       "      <td>yukod.science.electronconfiglite</td>\n",
       "      <td>yukod.science.electronconfigengine</td>\n",
       "      <td>84.524221</td>\n",
       "      <td>liteengine</td>\n",
       "    </tr>\n",
       "    <tr>\n",
       "      <th>22342</th>\n",
       "      <td>yukod.science.electronconfiglite</td>\n",
       "      <td>yukod.science.electronconfiguration</td>\n",
       "      <td>83.404048</td>\n",
       "      <td>liteuration</td>\n",
       "    </tr>\n",
       "  </tbody>\n",
       "</table>\n",
       "</div>"
      ],
      "text/plain": [
       "                        Sample app name                     Premium app name  \\\n",
       "22338        xyz.cryptomines.spacepools    xyz.cryptomines.SpacepoolsMonitor   \n",
       "22339             xyz.cryptomines.zpool         xyz.cryptomines.ZpoolMonitor   \n",
       "22340             xyz.digigem.gem.verge              xyz.digigem.gem.diamond   \n",
       "22341  yukod.science.electronconfiglite   yukod.science.electronconfigengine   \n",
       "22342  yukod.science.electronconfiglite  yukod.science.electronconfiguration   \n",
       "\n",
       "       Similarity (%)             Difference Score  \n",
       "22338       87.178177  spacepoolsspacepoolsmonitor  \n",
       "22339       87.264442            zpoolzpoolmonitor  \n",
       "22340       79.579567                 vergediamond  \n",
       "22341       84.524221                   liteengine  \n",
       "22342       83.404048                  liteuration  "
      ]
     },
     "execution_count": 186,
     "metadata": {},
     "output_type": "execute_result"
    }
   ],
   "source": [
    "df_similarities.tail()"
   ]
  },
  {
   "cell_type": "code",
   "execution_count": 187,
   "metadata": {},
   "outputs": [],
   "source": [
    "# Get the tail of the second word (alphabetic characters only) that starts right after the first word\n",
    "def get_tail_cleaned(first_app_name, second_app_name):\n",
    "    \"\"\"\n",
    "    Returns the cleaned tail of the second app name (alphabetic characters only)\n",
    "    that starts right after the first app name.\n",
    "    \"\"\"\n",
    "    if first_app_name.startswith(second_app_name):\n",
    "        tail = first_app_name[len(second_app_name):]\n",
    "        # Remove non-alphabetic characters using regex\n",
    "        return re.sub(r'[^a-zA-Z]', '', tail)\n",
    "    return None\n",
    "\n",
    "# Function to process a list of cleaned tails\n",
    "def process_tails(df, col1, col2):\n",
    "    \"\"\"\n",
    "    Extracts, cleans, and processes the tails between two columns in a DataFrame.\n",
    "    Removes None and empty strings.\n",
    "    \"\"\"\n",
    "    tails = df.apply(lambda row: get_tail_cleaned(row[col1], row[col2]), axis=1).dropna()\n",
    "    return [x for x in tails if x]\n",
    "\n",
    "# Process both sample and premium lists\n",
    "sample_list = process_tails(df_similarities, 'Sample app name', 'Premium app name')\n",
    "premium_list = process_tails(df_similarities, 'Premium app name', 'Sample app name')\n",
    "\n",
    "# Count values that occur more than once\n",
    "grouped_sample = pd.Series(sample_list).value_counts()\n",
    "grouped_sample = grouped_sample[grouped_sample > 1]\n",
    "grouped_premium = pd.Series(premium_list).value_counts()\n",
    "grouped_premium = grouped_premium[grouped_premium > 1]"
   ]
  },
  {
   "cell_type": "code",
   "execution_count": 188,
   "metadata": {},
   "outputs": [],
   "source": [
    "# List of indicative strings for free/sample and paid/premium versions. Inspired by grouped_sample and grouped_premium.\n",
    "indicative_terms = [\n",
    "    # Free/sample version terms\n",
    "    \"free\",\n",
    "    \"lite\",\n",
    "    \"demo\",\n",
    "    \"trial\",\n",
    "    \"beta\",\n",
    "    \"ad\",\n",
    "    \"light\",\n",
    "    \"test\",\n",
    "    \"eval\",\n",
    "    \"preview\",\n",
    "    \"gratis\",\n",
    "    \"libre\",\n",
    "    \"sample\",\n",
    "    \"mini\",\n",
    "    \"basic\",\n",
    "    \"limited\",\n",
    "    \"trail\",\n",
    "    \"try\",\n",
    "\n",
    "    # Paid/premium version terms\n",
    "    \"pro\",\n",
    "    \"full\",\n",
    "    \"paid\",\n",
    "    \"plus\",\n",
    "    \"premium\",\n",
    "    \"noads\",\n",
    "    \"donate\",\n",
    "    \"adfree\",\n",
    "    \"key\",\n",
    "    \"unlock\",\n",
    "    \"license\",\n",
    "    \"vip\",\n",
    "    \"deluxe\",\n",
    "    \"gold\",\n",
    "    \"elite\",\n",
    "    \"prime\",\n",
    "    \"unlimited\",\n",
    "    \"buy\",\n",
    "    \"removeads\"\n",
    "]"
   ]
  },
  {
   "cell_type": "code",
   "execution_count": 189,
   "metadata": {},
   "outputs": [],
   "source": [
    "# Filter the DataFrame to keep rows where 'Difference Score' contains any of the indicative terms\n",
    "df_similarities = df_similarities[df_similarities['Difference Score'].str.contains('|'.join(indicative_terms), case=False, na=False)]"
   ]
  },
  {
   "cell_type": "markdown",
   "metadata": {},
   "source": [
    "#### 2.1.4.4 Filter on level 2 sample apps and premium apps."
   ]
  },
  {
   "cell_type": "code",
   "execution_count": 190,
   "metadata": {},
   "outputs": [],
   "source": [
    "# Remove duplicate based on 'Sample app name' and 'Premium app name' columns\n",
    "df_similarities = df_similarities.drop_duplicates(subset=['Sample app name'])\n",
    "df_similarities = df_similarities.drop_duplicates(subset=['Premium app name'])"
   ]
  },
  {
   "cell_type": "code",
   "execution_count": 191,
   "metadata": {},
   "outputs": [],
   "source": [
    "sample_app_names = df_similarities['Sample app name'].to_list()\n",
    "premium_app_names = df_similarities['Premium app name'].to_list()"
   ]
  },
  {
   "cell_type": "code",
   "execution_count": 192,
   "metadata": {},
   "outputs": [],
   "source": [
    "df_level_2_sample = df_level_2_sample_filtered[df_level_2_sample_filtered['my_app_id'].isin(sample_app_names)]\n",
    "df_level_2_premium = df_level_2_premium_filtered[df_level_2_premium_filtered['my_app_id'].isin(premium_app_names)]"
   ]
  },
  {
   "cell_type": "code",
   "execution_count": 193,
   "metadata": {},
   "outputs": [
    {
     "data": {
      "text/plain": [
       "(11432, 11432)"
      ]
     },
     "execution_count": 193,
     "metadata": {},
     "output_type": "execute_result"
    }
   ],
   "source": [
    "len(df_level_2_sample), len(df_level_2_premium)"
   ]
  },
  {
   "cell_type": "markdown",
   "metadata": {},
   "source": [
    "### 2.1.5 Filter apps from level 2 on level 0, 1 and 5."
   ]
  },
  {
   "cell_type": "code",
   "execution_count": 194,
   "metadata": {},
   "outputs": [],
   "source": [
    "# Filter on sample apps from level 2\n",
    "df_level_0 = df_level_0[~df_level_0['my_app_id'].isin(df_level_2_sample['my_app_id'])]\n",
    "df_level_1 = df_level_1[~df_level_1['my_app_id'].isin(df_level_2_sample['my_app_id'])]\n",
    "\n",
    "# Filter on premium apps from level 2\n",
    "df_level_5 = df_level_5[~df_level_5['my_app_id'].isin(df_level_2_premium['my_app_id'])]"
   ]
  },
  {
   "cell_type": "markdown",
   "metadata": {},
   "source": [
    "### 2.1.6 Check that all levels have the right apps."
   ]
  },
  {
   "cell_type": "code",
   "execution_count": 195,
   "metadata": {},
   "outputs": [
    {
     "data": {
      "text/html": [
       "<div>\n",
       "<style scoped>\n",
       "    .dataframe tbody tr th:only-of-type {\n",
       "        vertical-align: middle;\n",
       "    }\n",
       "\n",
       "    .dataframe tbody tr th {\n",
       "        vertical-align: top;\n",
       "    }\n",
       "\n",
       "    .dataframe thead th {\n",
       "        text-align: right;\n",
       "    }\n",
       "</style>\n",
       "<table border=\"1\" class=\"dataframe\">\n",
       "  <thead>\n",
       "    <tr style=\"text-align: right;\">\n",
       "      <th></th>\n",
       "      <th>is_free</th>\n",
       "      <th>in_app</th>\n",
       "      <th>has_ads</th>\n",
       "      <th>count</th>\n",
       "    </tr>\n",
       "  </thead>\n",
       "  <tbody>\n",
       "    <tr>\n",
       "      <th>0</th>\n",
       "      <td>False</td>\n",
       "      <td>False</td>\n",
       "      <td>True</td>\n",
       "      <td>3765</td>\n",
       "    </tr>\n",
       "    <tr>\n",
       "      <th>1</th>\n",
       "      <td>False</td>\n",
       "      <td>True</td>\n",
       "      <td>False</td>\n",
       "      <td>2481</td>\n",
       "    </tr>\n",
       "    <tr>\n",
       "      <th>2</th>\n",
       "      <td>False</td>\n",
       "      <td>True</td>\n",
       "      <td>True</td>\n",
       "      <td>532</td>\n",
       "    </tr>\n",
       "  </tbody>\n",
       "</table>\n",
       "</div>"
      ],
      "text/plain": [
       "   is_free  in_app  has_ads  count\n",
       "0    False   False     True   3765\n",
       "1    False    True    False   2481\n",
       "2    False    True     True    532"
      ]
     },
     "execution_count": 195,
     "metadata": {},
     "output_type": "execute_result"
    }
   ],
   "source": [
    "# Check for missing combinations by creating all unique combinations in the data\n",
    "unique_combinations = df_filtered.groupby(['is_free', 'in_app', 'has_ads']).size()\n",
    "\n",
    "# List of all covered combinations in levels\n",
    "covered_combinations = pd.concat([\n",
    "    df_level_0.groupby(['is_free', 'in_app', 'has_ads']).size(),\n",
    "    df_level_1.groupby(['is_free', 'in_app', 'has_ads']).size(),\n",
    "    df_level_2_sample.groupby(['is_free', 'in_app', 'has_ads']).size(),\n",
    "    df_level_2_premium.groupby(['is_free', 'in_app', 'has_ads']).size(),\n",
    "    df_level_3.groupby(['is_free', 'in_app', 'has_ads']).size(),\n",
    "    df_level_4.groupby(['is_free', 'in_app', 'has_ads']).size(),\n",
    "    df_level_5.groupby(['is_free', 'in_app', 'has_ads']).size()\n",
    "])\n",
    "\n",
    "# Identify combinations in the original data that are not covered by the levels\n",
    "missing_combinations = unique_combinations[~unique_combinations.index.isin(covered_combinations.index)]\n",
    "\n",
    "# Convert missing combinations to a DataFrame for easier readability\n",
    "missing_combinations_df = missing_combinations.reset_index(name='count')\n",
    "missing_combinations_df\n"
   ]
  },
  {
   "cell_type": "code",
   "execution_count": 196,
   "metadata": {},
   "outputs": [
    {
     "data": {
      "text/html": [
       "<div>\n",
       "<style scoped>\n",
       "    .dataframe tbody tr th:only-of-type {\n",
       "        vertical-align: middle;\n",
       "    }\n",
       "\n",
       "    .dataframe tbody tr th {\n",
       "        vertical-align: top;\n",
       "    }\n",
       "\n",
       "    .dataframe thead th {\n",
       "        text-align: right;\n",
       "    }\n",
       "</style>\n",
       "<table border=\"1\" class=\"dataframe\">\n",
       "  <thead>\n",
       "    <tr style=\"text-align: right;\">\n",
       "      <th></th>\n",
       "      <th>is_free</th>\n",
       "      <th>in_app</th>\n",
       "      <th>has_ads</th>\n",
       "      <th>level</th>\n",
       "    </tr>\n",
       "  </thead>\n",
       "  <tbody>\n",
       "    <tr>\n",
       "      <th>0</th>\n",
       "      <td>True</td>\n",
       "      <td>False</td>\n",
       "      <td>False</td>\n",
       "      <td>0</td>\n",
       "    </tr>\n",
       "    <tr>\n",
       "      <th>1</th>\n",
       "      <td>True</td>\n",
       "      <td>False</td>\n",
       "      <td>True</td>\n",
       "      <td>1</td>\n",
       "    </tr>\n",
       "    <tr>\n",
       "      <th>2</th>\n",
       "      <td>True</td>\n",
       "      <td>False</td>\n",
       "      <td>[False, True]</td>\n",
       "      <td>2 (Sample)</td>\n",
       "    </tr>\n",
       "    <tr>\n",
       "      <th>3</th>\n",
       "      <td>False</td>\n",
       "      <td>False</td>\n",
       "      <td>False</td>\n",
       "      <td>2 (Premium)</td>\n",
       "    </tr>\n",
       "    <tr>\n",
       "      <th>4</th>\n",
       "      <td>True</td>\n",
       "      <td>True</td>\n",
       "      <td>True</td>\n",
       "      <td>3</td>\n",
       "    </tr>\n",
       "    <tr>\n",
       "      <th>5</th>\n",
       "      <td>True</td>\n",
       "      <td>True</td>\n",
       "      <td>False</td>\n",
       "      <td>4</td>\n",
       "    </tr>\n",
       "    <tr>\n",
       "      <th>6</th>\n",
       "      <td>False</td>\n",
       "      <td>False</td>\n",
       "      <td>False</td>\n",
       "      <td>5</td>\n",
       "    </tr>\n",
       "  </tbody>\n",
       "</table>\n",
       "</div>"
      ],
      "text/plain": [
       "   is_free  in_app        has_ads        level\n",
       "0     True   False          False            0\n",
       "1     True   False           True            1\n",
       "2     True   False  [False, True]   2 (Sample)\n",
       "3    False   False          False  2 (Premium)\n",
       "4     True    True           True            3\n",
       "5     True    True          False            4\n",
       "6    False   False          False            5"
      ]
     },
     "execution_count": 196,
     "metadata": {},
     "output_type": "execute_result"
    }
   ],
   "source": [
    "data = {\n",
    "    \"is_free\": [True, True, True, False, True, True, False],\n",
    "    \"in_app\": [False, False, False, False, True, True, False],\n",
    "    \"has_ads\": [False, True, [False, True], False, True, False, False],\n",
    "    \"level\": [\"0\", \"1\", \"2 (Sample)\", \"2 (Premium)\", \"3\", \"4\", \"5\"]\n",
    "}\n",
    "\n",
    "df_levels = pd.DataFrame(data)\n",
    "df_levels"
   ]
  },
  {
   "cell_type": "code",
   "execution_count": null,
   "metadata": {
    "ExecuteTime": {
     "end_time": "2024-11-19T19:15:45.402587Z",
     "start_time": "2024-11-19T19:15:45.399575Z"
    }
   },
   "outputs": [
    {
     "name": "stdout",
     "output_type": "stream",
     "text": [
      "Level 0: 313633\n",
      "Level 1: 432264\n",
      "Level 2 sample: 11432\n",
      "Level 2 premium: 11432\n",
      "Level 3: 73753\n",
      "Level 4: 26286\n",
      "Level 5: 48136\n"
     ]
    },
    {
     "data": {
      "text/plain": [
       "923714"
      ]
     },
     "execution_count": 197,
     "metadata": {},
     "output_type": "execute_result"
    }
   ],
   "source": [
    "# print the length of each level\n",
    "print(f\"Level 0: {len(df_level_0)}\")\n",
    "print(f\"Level 1: {len(df_level_1)}\")\n",
    "print(f\"Level 2 sample: {len(df_level_2_sample)}\")\n",
    "print(f\"Level 2 premium: {len(df_level_2_premium)}\")\n",
    "print(f\"Level 3: {len(df_level_3)}\")\n",
    "print(f\"Level 4: {len(df_level_4)}\")\n",
    "print(f\"Level 5: {len(df_level_5)}\")\n",
    "\n",
    "len(df_filtered)"
   ]
  },
  {
   "cell_type": "code",
   "execution_count": 202,
   "metadata": {},
   "outputs": [
    {
     "name": "stdout",
     "output_type": "stream",
     "text": [
      "Total sum of all levels: 916936\n",
      "6778\n",
      "True\n"
     ]
    }
   ],
   "source": [
    "# Assuming the length of each level is stored in variables, calculate the sum of all levels\n",
    "total_length_sum = (\n",
    "    len(df_level_0)\n",
    "    + len(df_level_1)\n",
    "    + len(df_level_2_sample)\n",
    "    + len(df_level_2_premium)\n",
    "    + len(df_level_3)\n",
    "    + len(df_level_4)\n",
    "    + len(df_level_5)\n",
    ")\n",
    "\n",
    "# Print the total sum\n",
    "print(f\"Total sum of all levels: {total_length_sum}\")\n",
    "\n",
    "# print the sum of missed combinations\n",
    "print(missing_combinations_df['count'].sum())\n",
    "\n",
    "# Is the total sum of all levels equal to the length of the original DataFrame?\n",
    "print(total_length_sum + missing_combinations_df['count'].sum() == len(df_filtered))"
   ]
  },
  {
   "cell_type": "markdown",
   "metadata": {},
   "source": [
    "## 2.2 Number of Downloads"
   ]
  },
  {
   "cell_type": "code",
   "execution_count": null,
   "metadata": {},
   "outputs": [],
   "source": [
    "# Function to clean and convert to numbers\n",
    "def convert_to_numeric(value):\n",
    "    if pd.isna(value):\n",
    "        return np.nan\n",
    "    else:\n",
    "        # Remove ',' and '+' and '>' and strip any whitespace\n",
    "        cleaned_value = value.replace(',', '').replace('+', '').replace('>', '').strip()\n",
    "        return int(cleaned_value)\n",
    "\n",
    "# Apply the function to the DataFrame column\n",
    "df_filtered['num_downloads'] = df_filtered['num_downloads'].apply(convert_to_numeric)"
   ]
  },
  {
   "cell_type": "markdown",
   "metadata": {},
   "source": [
    "## 2.3 Ratings"
   ]
  },
  {
   "cell_type": "code",
   "execution_count": null,
   "metadata": {},
   "outputs": [],
   "source": [
    "# convert 76,545 to 76545\n",
    "df_filtered['nb_rating'] = df_filtered['nb_rating'].str.replace(',', '')\n",
    "\n",
    "df_filtered['nb_rating'] = pd.to_numeric(df_filtered['nb_rating'])\n",
    "df_filtered['rating_app'] = pd.to_numeric(df_filtered['rating_app'])\n",
    "\n",
    "# Calculate the global average rating across all apps\n",
    "global_mean_rating = df_filtered['rating_app'].mean()\n",
    "\n",
    "# Define a prior weight (m)\n",
    "# This is the number of ratings at which the average rating is considered reliable.\n",
    "# Adjust based on your data; higher values give more weight to the global mean.\n",
    "m = 50\n",
    "\n",
    "# Calculate Bayesian average for each app\n",
    "df_filtered['bayesian_average'] = (global_mean_rating * m + df_filtered['rating_app'] * df_filtered['nb_rating']) / (m + df_filtered['nb_rating'])\n"
   ]
  },
  {
   "cell_type": "markdown",
   "metadata": {},
   "source": [
    "## 2.4 Content Rating"
   ]
  },
  {
   "cell_type": "code",
   "execution_count": null,
   "metadata": {},
   "outputs": [],
   "source": [
    "# Applying the regex matching approach to the 'content_rating_app' column in df_content\n",
    "df_filtered[\"content_rating_app\"] = [\n",
    "    match.group() if (match := re.match(r'PEGI (3|7|12|16|18)', item)) else item \n",
    "    for item in df_filtered[\"content_rating_app\"]\n",
    "]\n",
    "\n",
    "# if content_rating_app contains 'not yet been rated', set to 'not yet been rated'\n",
    "# Ensure the column is of type 'object' (which can store both strings and integers)\n",
    "df_filtered['content_rating_app'] = df_filtered['content_rating_app'].astype('object')\n",
    "\n",
    "# Now you can safely assign the string value\n",
    "df_filtered.loc[df_filtered['content_rating_app'].str.contains('not yet been rated'), 'content_rating_app'] = 'not yet been rated'"
   ]
  },
  {
   "cell_type": "markdown",
   "metadata": {},
   "source": [
    "## 2.5 Dates"
   ]
  },
  {
   "cell_type": "code",
   "execution_count": null,
   "metadata": {},
   "outputs": [],
   "source": [
    "df_filtered['date_published'] = pd.to_datetime(df_filtered['date_published'], errors='coerce')"
   ]
  },
  {
   "cell_type": "markdown",
   "metadata": {},
   "source": [
    "# 3. Graphs"
   ]
  },
  {
   "cell_type": "markdown",
   "metadata": {},
   "source": [
    "## 3.1 Main observations"
   ]
  },
  {
   "cell_type": "markdown",
   "metadata": {},
   "source": [
    "### 3.1.1 Date Published"
   ]
  },
  {
   "cell_type": "code",
   "execution_count": null,
   "metadata": {},
   "outputs": [],
   "source": [
    "# histogram when apps are published\n",
    "df_filtered['date_published'].hist(bins=20, figsize=(10, 6))\n",
    "plt.xlabel('Date Published')\n",
    "plt.ylabel('Frequency')\n",
    "plt.title('Distribution of Date Published')\n",
    "plt.xticks(rotation=45)  # Rotate x-axis labels for better readability\n",
    "plt.show()"
   ]
  },
  {
   "cell_type": "markdown",
   "metadata": {},
   "source": [
    "### 3.1.2 Rating"
   ]
  },
  {
   "cell_type": "markdown",
   "metadata": {},
   "source": [
    "#### 3.1.2.1 Distribution of Ratings"
   ]
  },
  {
   "cell_type": "code",
   "execution_count": null,
   "metadata": {},
   "outputs": [],
   "source": [
    "# Plot histogram\n",
    "df_filtered['rating_app'].hist(bins=20, figsize=(10, 6))\n",
    "plt.xlabel('App Rating')\n",
    "plt.ylabel('Frequency')\n",
    "plt.title('Distribution of App Rating')\n",
    "plt.xticks(rotation=45)  # Rotate x-axis labels for better readability\n",
    "plt.show()"
   ]
  },
  {
   "cell_type": "markdown",
   "metadata": {},
   "source": [
    "#### 3.1.2.2 Distribution of Bayesian Ratings"
   ]
  },
  {
   "cell_type": "code",
   "execution_count": null,
   "metadata": {},
   "outputs": [],
   "source": [
    "# Plot histogram\n",
    "df_filtered['bayesian_average'].hist(bins=20, figsize=(10, 6))\n",
    "plt.xlabel('Bayesian average App Rating')\n",
    "plt.ylabel('Frequency')\n",
    "plt.title('Distribution of Bayesian average App Rating')\n",
    "plt.xticks(rotation=45)  # Rotate x-axis labels for better readability\n",
    "plt.show()"
   ]
  },
  {
   "cell_type": "markdown",
   "metadata": {},
   "source": [
    "### 3.1.3 Number of downloads"
   ]
  },
  {
   "cell_type": "code",
   "execution_count": null,
   "metadata": {},
   "outputs": [],
   "source": [
    "# Define the bins for categorization\n",
    "bins = [0, 100, 1000, 10000, 100000, 1000000, 10000000, 100000000, 1000000000, np.inf]\n",
    "labels = ['0-100', '101-1k', '1k-10k', '10k-100k', '100k-1M', '1M-10M', '10M-100M', '100M-1B', '1B+']\n",
    "\n",
    "# Categorize num_downloads into these bins\n",
    "df_filtered['downloads_category'] = pd.cut(df_filtered['num_downloads'], bins=bins, labels=labels)\n",
    "\n",
    "# Plot the distribution of num_downloads categories\n",
    "plt.figure(figsize=(12, 6))\n",
    "df_filtered['downloads_category'].value_counts(sort=False).plot(kind='bar', edgecolor='black')\n",
    "plt.xlabel('Number of Downloads (Categories)')\n",
    "plt.ylabel('Frequency')\n",
    "plt.title('Distribution of Number of Downloads by Categories')\n",
    "plt.xticks(rotation=45)\n",
    "plt.show()"
   ]
  },
  {
   "cell_type": "markdown",
   "metadata": {},
   "source": [
    "### 3.1.4 WARNING: Prices (this is not adjusted to currencies)"
   ]
  },
  {
   "cell_type": "code",
   "execution_count": null,
   "metadata": {},
   "outputs": [],
   "source": [
    "plt.figure(figsize=(12, 8))\n",
    "plt.hist(df_filtered['price_value'], bins=50, edgecolor=\"black\", color=\"skyblue\", range=(-1, max(df_filtered['price_value']) + 1))\n",
    "plt.yscale(\"log\")  # Log scale to better visualize frequencies\n",
    "\n",
    "# Adding labels and title\n",
    "plt.title(\"Distribution of Prices on Google Play\")\n",
    "plt.xlabel(\"Price\")\n",
    "plt.ylabel(\"Log Frequency\")\n",
    "\n",
    "plt.xticks(rotation=45)\n",
    "plt.grid(axis='y', linestyle='--', alpha=0.7)\n",
    "plt.show()"
   ]
  },
  {
   "cell_type": "markdown",
   "metadata": {},
   "source": [
    "### 3.1.5 Content Ratings"
   ]
  },
  {
   "cell_type": "code",
   "execution_count": null,
   "metadata": {},
   "outputs": [],
   "source": [
    "plt.figure(figsize=(8, 8))\n",
    "content_rating_counts = df_filtered[\"content_rating_app\"].value_counts(normalize=True) * 100  # percentage\n",
    "content_rating_counts.plot(kind='pie', autopct='%1.1f%%', startangle=140)\n",
    "plt.title(\"Proportion of Different Content Ratings\")\n",
    "plt.ylabel(\"\")  # Hide y-axis label for cleaner look\n",
    "plt.show()"
   ]
  },
  {
   "cell_type": "markdown",
   "metadata": {},
   "source": [
    "### 3.1.6 Category of apps"
   ]
  },
  {
   "cell_type": "code",
   "execution_count": null,
   "metadata": {},
   "outputs": [],
   "source": [
    "category_counts = df_filtered['categ_app'].value_counts()\n",
    "\n",
    "plt.figure(figsize=(8, 8))\n",
    "\n",
    "category_counts.plot(kind='pie', autopct='%1.1f%%', startangle=140, wedgeprops={'edgecolor': 'black'})\n",
    "\n",
    "plt.title(\"Distribution of App Categories\")\n",
    "\n",
    "plt.ylabel(\"\")  # Hide y-axis label for cleaner look\n",
    "\n",
    "plt.show()"
   ]
  },
  {
   "cell_type": "markdown",
   "metadata": {},
   "source": [
    "### 3.1.7 Apps with in-app purchases and ads"
   ]
  },
  {
   "cell_type": "code",
   "execution_count": null,
   "metadata": {},
   "outputs": [],
   "source": [
    "in_app_percentage = df_filtered[\"in_app\"].value_counts(normalize=True) * 100\n",
    "has_ads_percentage = df_filtered[\"has_ads\"].value_counts(normalize=True) * 100\n",
    "\n",
    "# Creating a DataFrame for plotting\n",
    "percentage_data = pd.DataFrame({\n",
    "    \"Feature\": [\"In-app Purchases\", \"No In-app Purchases\", \"Has Ads\", \"No Ads\"],\n",
    "    \"Percentage\": [in_app_percentage[True], in_app_percentage[False], has_ads_percentage[True], has_ads_percentage[False]]\n",
    "})\n",
    "\n",
    "\n",
    "\n",
    "# Plotting the bar plot for percentages of apps with in-app purchases and ads\n",
    "plt.figure(figsize=(10, 6))\n",
    "plt.bar(percentage_data[\"Feature\"], percentage_data[\"Percentage\"], color=['skyblue', 'lightgreen', 'coral', 'gold'], edgecolor='black')\n",
    "plt.title(\"Percentage of Apps with In-app Purchases and Ads\")\n",
    "plt.xlabel(\"Feature\")\n",
    "plt.ylabel(\"Percentage (%)\")\n",
    "plt.xticks(rotation=45)\n",
    "plt.grid(axis='y', linestyle='--', alpha=0.7)\n",
    "plt.show()"
   ]
  },
  {
   "cell_type": "markdown",
   "metadata": {},
   "source": [
    "### 3.1.8 Family Library Support"
   ]
  },
  {
   "cell_type": "code",
   "execution_count": null,
   "metadata": {},
   "outputs": [],
   "source": [
    "family_library_counts = df_filtered[\"family_library\"].value_counts()\n",
    "\n",
    "# Plotting the count of apps supporting or not supporting the family library feature\n",
    "plt.figure(figsize=(8, 6))\n",
    "family_library_counts.plot(kind='bar', color=['skyblue', 'coral'], edgecolor='black')\n",
    "plt.title(\"Count of Apps Supporting Family Library Feature\")\n",
    "plt.xlabel(\"Family Library Support\")\n",
    "plt.ylabel(\"Number of Apps\")\n",
    "plt.xticks([0, 1], labels=[\"Does Not Support\", \"Supports\"], rotation=0)\n",
    "plt.grid(axis='y', linestyle='--', alpha=0.7)\n",
    "plt.show()"
   ]
  },
  {
   "cell_type": "markdown",
   "metadata": {},
   "source": [
    "### 3.1.9 Average app rating per category"
   ]
  },
  {
   "cell_type": "code",
   "execution_count": null,
   "metadata": {},
   "outputs": [],
   "source": [
    "# Splitting categories into two parts for better readability\n",
    "unique_categories = df_filtered[\"categ_app\"].unique()\n",
    "midpoint = len(unique_categories) // 2\n",
    "categories_part1 = unique_categories[:midpoint]\n",
    "categories_part2 = unique_categories[midpoint:]\n",
    "\n",
    "# Filtering data for each part\n",
    "df_category_part1 = df_filtered[df_filtered[\"categ_app\"].isin(categories_part1)]\n",
    "df_category_part2 = df_filtered[df_filtered[\"categ_app\"].isin(categories_part2)]\n",
    "\n",
    "# Plotting box plot for average app ratings by category (Part 1)\n",
    "plt.figure(figsize=(12, 6))\n",
    "df_category_part1.boxplot(column=\"rating_app\", by=\"categ_app\", grid=False, vert=False)\n",
    "plt.title(\"Average App Ratings by Category (Part 1)\")\n",
    "plt.suptitle(\"\")  # Remove default title to keep it clean\n",
    "plt.xlabel(\"Average Rating\")\n",
    "plt.ylabel(\"App Category\")\n",
    "plt.show()\n",
    "\n",
    "# Plotting box plot for average app ratings by category (Part 2)\n",
    "plt.figure(figsize=(12, 6))\n",
    "df_category_part2.boxplot(column=\"rating_app\", by=\"categ_app\", grid=False, vert=False)\n",
    "plt.title(\"Average App Ratings by Category (Part 2)\")\n",
    "plt.suptitle(\"\")  # Remove default title to keep it clean\n",
    "plt.xlabel(\"Average Rating\")\n",
    "plt.ylabel(\"App Category\")\n",
    "plt.show()\n"
   ]
  },
  {
   "cell_type": "markdown",
   "metadata": {},
   "source": [
    "## 3.2 Topic 2: Freemium vs Paid-For Apps observations"
   ]
  },
  {
   "cell_type": "markdown",
   "metadata": {},
   "source": [
    "### 3.2.1 Subway Surfers"
   ]
  },
  {
   "cell_type": "code",
   "execution_count": null,
   "metadata": {},
   "outputs": [],
   "source": [
    "df_filtered[df_filtered['my_app_id'] == 'com.kiloo.subwaysurf']\n"
   ]
  },
  {
   "cell_type": "markdown",
   "metadata": {},
   "source": [
    "### 3.2.2 Downloads per price category"
   ]
  },
  {
   "cell_type": "markdown",
   "metadata": {},
   "source": [
    "#### 3.2.2.1 Total downloads"
   ]
  },
  {
   "cell_type": "code",
   "execution_count": null,
   "metadata": {},
   "outputs": [],
   "source": [
    "# Calculate the total number of downloads for each price category\n",
    "total_downloads = df_filtered.groupby('price_category')['num_downloads'].sum().reset_index()\n",
    "\n",
    "# Set up a color palette for price categories\n",
    "palette = {\"free\": \"blue\", \"paid\": \"green\", \"freemium\": \"orange\"}\n",
    "\n",
    "# Plot the total number of downloads by price category with the updated parameters\n",
    "plt.figure(figsize=(10, 6))\n",
    "sns.barplot(data=total_downloads, x='price_category', y='num_downloads', hue='price_category', palette=palette, dodge=False)\n",
    "plt.legend([], [], frameon=False)  # Remove the legend\n",
    "\n",
    "# Add labels and a title\n",
    "plt.title(\"Total Number of Downloads by Price Category\")\n",
    "plt.xlabel(\"Price Category\")\n",
    "plt.ylabel(\"Total Number of Downloads\")\n",
    "plt.show()\n"
   ]
  },
  {
   "cell_type": "markdown",
   "metadata": {},
   "source": [
    "#### 3.2.2.1 Average downloads"
   ]
  },
  {
   "cell_type": "code",
   "execution_count": null,
   "metadata": {},
   "outputs": [],
   "source": [
    "# Calculate the mean number of downloads for each price category\n",
    "mean_freemium = df_filtered[df_filtered['price_category'] == 'freemium']['num_downloads'].mean()\n",
    "mean_free = df_filtered[df_filtered['price_category'] == 'free']['num_downloads'].mean()\n",
    "mean_paid = df_filtered[df_filtered['price_category'] == 'paid']['num_downloads'].mean()\n"
   ]
  },
  {
   "cell_type": "code",
   "execution_count": null,
   "metadata": {},
   "outputs": [],
   "source": [
    "# Create a dictionary for the means\n",
    "means = {\n",
    "    'Free': mean_free,\n",
    "    'Freemium': mean_freemium,\n",
    "    'Paid': mean_paid,\n",
    "}\n",
    "\n",
    "# Convert to a pandas DataFrame for easier plotting\n",
    "mean_df = pd.DataFrame(list(means.items()), columns=['Price Category', 'Average Downloads'])\n"
   ]
  },
  {
   "cell_type": "code",
   "execution_count": null,
   "metadata": {},
   "outputs": [],
   "source": [
    "# Set up a color palette for price categories\n",
    "palette = {\"Free\": \"blue\", \"Paid\": \"green\", \"Freemium\": \"orange\"}\n",
    "\n",
    "# Set up the plot\n",
    "plt.figure(figsize=(8, 6))\n",
    "\n",
    "# Create the bar plot with the updated parameters\n",
    "sns.barplot(x='Price Category', y='Average Downloads', data=mean_df, hue='Price Category', palette=palette, dodge=False)\n",
    "plt.legend([], [], frameon=False)  # Removes the legend\n",
    "\n",
    "# Add labels and a title\n",
    "plt.title('Average Number of Downloads by Price Category', fontsize=16)\n",
    "plt.xlabel('Price Category', fontsize=12)\n",
    "plt.ylabel('Average Number of Downloads', fontsize=12)\n",
    "\n",
    "# Show the plot\n",
    "plt.tight_layout()\n",
    "plt.show()"
   ]
  },
  {
   "cell_type": "markdown",
   "metadata": {},
   "source": [
    "### 3.2.3 Rating by Price Category"
   ]
  },
  {
   "cell_type": "code",
   "execution_count": null,
   "metadata": {},
   "outputs": [],
   "source": [
    "# Set up a color palette for price categories\n",
    "palette = {\"free\": \"blue\", \"paid\": \"green\", \"freemium\": \"orange\"}"
   ]
  },
  {
   "cell_type": "markdown",
   "metadata": {},
   "source": [
    "#### 3.2.3.1 Average Rating"
   ]
  },
  {
   "cell_type": "code",
   "execution_count": null,
   "metadata": {},
   "outputs": [],
   "source": [
    "# Average Rating by Price Category\n",
    "plt.figure(figsize=(10, 6))\n",
    "sns.boxplot(data=df_filtered, x='price_category', y='rating_app', hue='price_category', palette=palette, legend=False)\n",
    "plt.title(\"Average Rating by Price Category\")\n",
    "plt.xlabel(\"Price Category\")\n",
    "plt.ylabel(\"App Rating\")\n",
    "plt.show()\n"
   ]
  },
  {
   "cell_type": "markdown",
   "metadata": {},
   "source": [
    "#### 3.2.3.2 Average Bayesian Rating"
   ]
  },
  {
   "cell_type": "code",
   "execution_count": null,
   "metadata": {},
   "outputs": [],
   "source": [
    "# Bayesian Average by Price Category\n",
    "plt.figure(figsize=(10, 6))\n",
    "sns.boxplot(data=df_filtered, x='price_category', y='bayesian_average', hue='price_category', palette=palette, legend=False)\n",
    "plt.title(\"Bayesian Average by Price Category\")\n",
    "plt.xlabel(\"Price Category\")\n",
    "plt.ylabel(\"Bayesian Average\")\n",
    "plt.show()\n"
   ]
  },
  {
   "cell_type": "markdown",
   "metadata": {},
   "source": [
    "#### 3.2.3.3 Average Number of Ratings"
   ]
  },
  {
   "cell_type": "code",
   "execution_count": null,
   "metadata": {},
   "outputs": [],
   "source": [
    "# Number of Ratings by Price Category\n",
    "plt.figure(figsize=(10, 6))\n",
    "sns.barplot(data=df_filtered, x='price_category', y='nb_rating', hue='price_category', palette=palette, errorbar=None, legend=False)\n",
    "plt.title(\"Number of Ratings by Price Category\")\n",
    "plt.xlabel(\"Price Category\")\n",
    "plt.ylabel(\"Number of Ratings\")\n",
    "plt.show()"
   ]
  },
  {
   "cell_type": "markdown",
   "metadata": {},
   "source": [
    "#### 3.2.3.4 Total Number of Ratings"
   ]
  },
  {
   "cell_type": "code",
   "execution_count": null,
   "metadata": {},
   "outputs": [],
   "source": [
    "# Calculate the total number of ratings for each price category\n",
    "total_ratings = df_filtered.groupby('price_category')['nb_rating'].sum().reset_index()\n",
    "\n",
    "# Plot the total number of ratings by price category\n",
    "plt.figure(figsize=(10, 6))\n",
    "sns.barplot(data=total_ratings, x='price_category', y='nb_rating', hue='price_category', palette=palette, dodge=False)\n",
    "plt.legend([], [], frameon=False)  # Remove the legend if not needed\n",
    "\n",
    "# Add labels and a title\n",
    "plt.title(\"Total Number of Ratings by Price Category\")\n",
    "plt.xlabel(\"Price Category\")\n",
    "plt.ylabel(\"Total Number of Ratings\")\n",
    "plt.show()"
   ]
  },
  {
   "cell_type": "markdown",
   "metadata": {},
   "source": [
    "### 3.2.4 TODO: Outliers"
   ]
  },
  {
   "cell_type": "markdown",
   "metadata": {},
   "source": [
    "### 3.2.5 TODO: Distribution of free, freemium, paid. Average downloads per category\n",
    "\n"
   ]
  },
  {
   "cell_type": "markdown",
   "metadata": {},
   "source": [
    "# 4. Merge SDK dataset"
   ]
  },
  {
   "cell_type": "code",
   "execution_count": null,
   "metadata": {},
   "outputs": [],
   "source": [
    "# read app_sdk/app_sdk.csv\n",
    "app_sdk = pd.read_csv('app_sdk/app_sdk.csv')\n",
    "app_sdk = app_sdk.loc[:, ~app_sdk.columns.str.contains('^Unnamed')]"
   ]
  },
  {
   "cell_type": "code",
   "execution_count": null,
   "metadata": {},
   "outputs": [],
   "source": [
    "# join df and app_sdk on inner join with my_app_id and id\n",
    "df_app_and_sdk = pd.merge(df_filtered, app_sdk, left_on='my_app_id', right_on='id', how='inner')"
   ]
  },
  {
   "cell_type": "markdown",
   "metadata": {},
   "source": [
    "# 5. Graphs SDK"
   ]
  },
  {
   "cell_type": "markdown",
   "metadata": {},
   "source": [
    "## 5.1 SDK_name counts"
   ]
  },
  {
   "cell_type": "code",
   "execution_count": null,
   "metadata": {},
   "outputs": [],
   "source": [
    "# Plotting the counts of each SDK name\n",
    "plt.figure(figsize=(10, 6))\n",
    "df_app_and_sdk['sdk_type'].value_counts().plot(kind='bar')\n",
    "plt.title(\"Counts of Each SDK Type\")\n",
    "plt.xlabel(\"SDK Type\")\n",
    "plt.ylabel(\"Count\")\n",
    "plt.xticks(rotation=45)\n",
    "plt.tight_layout()\n",
    "plt.show()"
   ]
  },
  {
   "cell_type": "markdown",
   "metadata": {},
   "source": [
    "## 5.2 Top 10 used SDKs"
   ]
  },
  {
   "cell_type": "code",
   "execution_count": null,
   "metadata": {},
   "outputs": [],
   "source": [
    "# top 10 most used SDKs by free apps\n",
    "df_free = df_app_and_sdk[df_app_and_sdk['price_category'] == 'free']\n",
    "df_free = df_free.dropna(subset=['sdk_name'])\n",
    "df_free = df_free['sdk_name'].value_counts().head(10)\n",
    "df_free"
   ]
  },
  {
   "cell_type": "code",
   "execution_count": null,
   "metadata": {},
   "outputs": [],
   "source": [
    "# top 10 most used SDKs by freemium apps\n",
    "df_freemium = df_app_and_sdk[df_app_and_sdk['price_category'] == 'freemium']\n",
    "df_freemium = df_freemium.dropna(subset=['sdk_name'])\n",
    "df_freemium = df_freemium['sdk_name'].value_counts().head(10)\n",
    "df_freemium"
   ]
  },
  {
   "cell_type": "code",
   "execution_count": null,
   "metadata": {},
   "outputs": [],
   "source": [
    "# top 10 most used SDKs by paid apps\n",
    "df_paid = df_app_and_sdk[df_app_and_sdk['price_category'] == 'paid']\n",
    "df_paid = df_paid.dropna(subset=['sdk_name'])\n",
    "df_paid = df_paid['sdk_name'].value_counts().head(10)\n",
    "df_paid"
   ]
  },
  {
   "cell_type": "markdown",
   "metadata": {},
   "source": [
    "## 5.3 Top 10 used SDKs dropping duplicates"
   ]
  },
  {
   "cell_type": "code",
   "execution_count": null,
   "metadata": {},
   "outputs": [],
   "source": [
    "df_new = df_app_and_sdk.drop_duplicates(subset=['my_app_id', 'sdk_name'])"
   ]
  },
  {
   "cell_type": "code",
   "execution_count": null,
   "metadata": {},
   "outputs": [],
   "source": [
    "df_free = df_new[df_new['price_category'] == 'free']\n",
    "df_freemium = df_new[df_new['price_category'] == 'freemium']\n",
    "df_paid = df_new[df_new['price_category'] == 'paid']"
   ]
  },
  {
   "cell_type": "code",
   "execution_count": null,
   "metadata": {},
   "outputs": [],
   "source": [
    "df_free['sdk_name'].value_counts().head(10)"
   ]
  },
  {
   "cell_type": "code",
   "execution_count": null,
   "metadata": {},
   "outputs": [],
   "source": [
    "df_freemium['sdk_name'].value_counts().head(10)"
   ]
  },
  {
   "cell_type": "code",
   "execution_count": null,
   "metadata": {},
   "outputs": [],
   "source": [
    "df_paid['sdk_name'].value_counts().head(10)"
   ]
  }
 ],
 "metadata": {
  "kernelspec": {
   "display_name": "Python 3",
   "language": "python",
   "name": "python3"
  },
  "language_info": {
   "codemirror_mode": {
    "name": "ipython",
    "version": 3
   },
   "file_extension": ".py",
   "mimetype": "text/x-python",
   "name": "python",
   "nbconvert_exporter": "python",
   "pygments_lexer": "ipython3",
   "version": "3.11.9"
  }
 },
 "nbformat": 4,
 "nbformat_minor": 2
}
